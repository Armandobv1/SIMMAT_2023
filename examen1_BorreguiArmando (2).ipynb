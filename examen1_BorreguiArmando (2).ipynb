{
 "cells": [
  {
   "cell_type": "markdown",
   "id": "1e2823cf",
   "metadata": {},
   "source": [
    "# Examen A Módulo 1 - Optimización.\n",
    "\n",
    "**Lea cuidadosamente las siguientes indicaciones antes de comenzar el examen:**\n",
    "- Para resolver el examen edite este mismo archivo y renómbrelo de la siguiente manera: *Examen1_ApellidoNombre*, donde *ApellidoNombre* corresponde a su apellido paterno con la inicial en mayúscula, seguido de su primer nombre con la inicial en mayúscula **sin acentos**. Por ejemplo, en mi caso el nombre del archivo sería *Examen1_MoralesGabriel*.\n",
    "- Resuelva los puntos en el espacio provisto. Si requiere agregar más celdas para código o escritura, hágalo (`Esc`,`B`) o (`Esc`,`A`).\n",
    "- Recuerde que también se está evaluando su capacidad de interpretar los resultados. Escriba sus interpretaciones/conclusiones en celdas utilizando *Markdown*.\n",
    "- El formato de presentación de todo el examen en general debe ser adecuado. Use tamaños de letra, colores, etiquetas, etcétera.\n",
    "- No se resuelven dudas de ningún tipo por los profesores de la asignatura. Por favor, absténgase de preguntar.\n",
    "- Revise bien el tipo de examen. Sólo se le calificará si realiza el tipo de examen asignado."
   ]
  },
  {
   "cell_type": "markdown",
   "id": "53712a36",
   "metadata": {},
   "source": [
    "---\n",
    "# Primer punto. Optimización de funciones con `SymPy` (37 puntos)\n",
    "\n",
    "**Costo mínimo**. Imagine dos contenedores cilíndricos sin tapa que deben satisfacer las siguientes condiciones:\n",
    "\n",
    "- El primer contenedor tiene el doble de altura que el segundo.\n",
    "- La altura del primer contenedor (el de mayor tamaño) es el doble de su radio.\n",
    "- El material para la base cuesta 10.00 MXN por cada $m^2$.\n",
    "- El material para los lados cuesta 6.00 MXN por cada $m^2$.\n",
    "\n",
    "¿Cuál es el costo del contenedor más barato?\n"
   ]
  },
  {
   "cell_type": "markdown",
   "id": "9913d3d8",
   "metadata": {},
   "source": [
    "1. Escriba el volumen $V_1(r_1)$ y $V_2(r_2, r_1)$ de ambos contenedores como dos funciones distintas, donde $r_1$ es el radio del primer contenedor y $r_2$ es el radio del segundo. Realice este punto usando $\\LaTeX$ y celdas *Markdown*."
   ]
  },
  {
   "cell_type": "markdown",
   "id": "a387e2cb",
   "metadata": {},
   "source": [
    "$$ V1 = /π*r^2 *a $$"
   ]
  },
  {
   "cell_type": "markdown",
   "id": "741758e5",
   "metadata": {},
   "source": [
    "$$ V2= /π2r^2 *2a $$"
   ]
  },
  {
   "cell_type": "markdown",
   "id": "385c6228",
   "metadata": {},
   "source": [
    "funcion de costos  \n",
    "funcion material 1 y funcion material 2"
   ]
  },
  {
   "cell_type": "markdown",
   "id": "44e2ece6",
   "metadata": {},
   "source": [
    "$$ π* 2r*A +π*r*4*2A $$"
   ]
  },
  {
   "cell_type": "markdown",
   "id": "e1c8f77e",
   "metadata": {},
   "source": [
    "$$ π*R^2+π*2R^2 $$ "
   ]
  },
  {
   "cell_type": "markdown",
   "id": "ee04a16b",
   "metadata": {},
   "source": [
    "2. Escriba el costo **C** de fabricar ambos contenedores como una función de los radios de las bases. Realice este punto usando $\\LaTeX$ y celdas *Markdown*."
   ]
  },
  {
   "cell_type": "markdown",
   "id": "fed271d9",
   "metadata": {},
   "source": []
  },
  {
   "cell_type": "markdown",
   "id": "e1d653a4",
   "metadata": {},
   "source": []
  },
  {
   "cell_type": "markdown",
   "id": "d0ed3f7f",
   "metadata": {},
   "source": []
  },
  {
   "cell_type": "markdown",
   "id": "a1e58696",
   "metadata": {},
   "source": [
    "3. Determina las dimensiones de los contenedores si el volumen del contenedor pequeño debe ser de $12m^3$ y el costo debe ser mínimo."
   ]
  },
  {
   "cell_type": "code",
   "execution_count": 12,
   "id": "f4a7593c",
   "metadata": {},
   "outputs": [
    {
     "data": {
      "text/latex": [
       "$\\displaystyle 1.6471724824108$"
      ],
      "text/plain": [
       "1.64717248241080"
      ]
     },
     "execution_count": 12,
     "metadata": {},
     "output_type": "execute_result"
    }
   ],
   "source": [
    "import sympy as sp\n",
    "import numpy as np\n",
    "def g(r) :\n",
    "     return (50 * sp.pi * r**2 + 117 * sp.pi * r * (12 / (sp.pi * r**2)))\n",
    "\n",
    "sp.var(\"r\")\n",
    "dg = sp.diff(g(r), r)\n",
    "pc = sp.solve(dg, r)\n",
    "ddg = sp.diff(dg, r)\n",
    "cd2d = ddg.subs(r, pc[0])\n",
    "optimal_r = pc[0].evalf()\n",
    "optimal_r"
   ]
  },
  {
   "cell_type": "code",
   "execution_count": null,
   "id": "d73359e2",
   "metadata": {},
   "outputs": [],
   "source": []
  },
  {
   "cell_type": "code",
   "execution_count": null,
   "id": "28ac84fc",
   "metadata": {},
   "outputs": [],
   "source": []
  },
  {
   "cell_type": "markdown",
   "id": "fec1be1e",
   "metadata": {},
   "source": [
    "3. ¿Cuál fue el costo de fabricar este par de contenedores?"
   ]
  },
  {
   "cell_type": "code",
   "execution_count": null,
   "id": "3da98dd3",
   "metadata": {},
   "outputs": [],
   "source": []
  },
  {
   "cell_type": "code",
   "execution_count": null,
   "id": "8cd979f9",
   "metadata": {},
   "outputs": [],
   "source": []
  },
  {
   "cell_type": "code",
   "execution_count": null,
   "id": "06662bea",
   "metadata": {},
   "outputs": [],
   "source": []
  },
  {
   "cell_type": "markdown",
   "id": "4eeff9c8",
   "metadata": {},
   "source": [
    "---\n",
    "# Segundo punto. Programación lineal (37 puntos)"
   ]
  },
  {
   "cell_type": "markdown",
   "id": "8013ca31",
   "metadata": {},
   "source": [
    "Una empresa se dedica a fabricar tarjetas de control para automóviles, y están en su momento de planeación de compras anuales. Hay 5 proveedores que pueden proveer los componentes, cada uno a su propio precio."
   ]
  },
  {
   "cell_type": "markdown",
   "id": "f41253d2",
   "metadata": {},
   "source": [
    "<table>\n",
    "  <tr>\n",
    "      <th>  </th>\n",
    "      <th>Proveedor 1</th>\n",
    "      <th>Proveedor 2</th>\n",
    "      <th>Proveedor 3</th>\n",
    "      <th>Demanda</th>\n",
    "  </tr>\n",
    "  <tr>\n",
    "      <th>Componente 1</th>\n",
    "      <td>0.5</td>\n",
    "      <td>0.6</td>\n",
    "      <td>0.7</td>\n",
    "      <td>15000</td>\n",
    "  </tr>\n",
    "  <tr style=\"border-bottom: 1px solid #000;\">\n",
    "      <th>Componente 2</th>\n",
    "      <td>0.7</td>\n",
    "      <td>0.5</td>\n",
    "      <td>0.6</td>\n",
    "      <td>20000</td>\n",
    "  </tr>\n",
    "  <tr style=\"border-bottom: 1px solid #000;\">\n",
    "      <th>Componente 3</th>\n",
    "      <td>0.32</td>\n",
    "      <td>0.54</td>\n",
    "      <td>0.8</td>\n",
    "      <td>12000</td>\n",
    "  </tr>\n",
    "\n",
    "  <tr style=\"border-bottom: 1px solid #000;\">\n",
    "      <th>Capacidad</th>\n",
    "      <td> 21000 </td>\n",
    "      <td> 16000 </td>\n",
    "      <td> 16000 </td>\n",
    "      <td>  </td>\n",
    "  </tr>\n",
    "</table>"
   ]
  },
  {
   "cell_type": "markdown",
   "id": "48d6c967",
   "metadata": {},
   "source": [
    "El proveedor tiene restricciones de capacidad de fabricación del tipo de componentes, por lo que un proveedor no puede satisfacer nuestra demanda completa para cada componente."
   ]
  },
  {
   "cell_type": "markdown",
   "id": "85e307ae",
   "metadata": {},
   "source": [
    "Se desea conocer la cantidad que se debe comprar de cada componente a cada proveedor para gastar la menor cantidad de dinero posible, pero al mismo tiempo lograr satisfacer la demanda para poder continuar con la manufactura del producto."
   ]
  },
  {
   "cell_type": "markdown",
   "id": "df55a736",
   "metadata": {},
   "source": [
    "1. Escriba la función a **minimizar** junto con las restricciones, explicando detalladamente cada paso (usando fórmulas en $\\LaTeX$, en celdas Markdown). Además escriba el problema en la forma \\begin{equation}\n",
    "\\begin{array}{ll}\n",
    "\\min_{\\boldsymbol{x}} & \\boldsymbol{c}^T\\boldsymbol{x} \\\\\n",
    "\\text{s. a. }        & \\boldsymbol{A}_{eq}\\boldsymbol{x}=\\boldsymbol{b}_{eq} \\\\\n",
    "                     & \\boldsymbol{A}\\boldsymbol{x}\\leq\\boldsymbol{b},\n",
    "\\end{array}\\qquad\\text{(23 puntos)}\n",
    "\\end{equation}"
   ]
  },
  {
   "cell_type": "markdown",
   "id": "04ce36d6",
   "metadata": {},
   "source": [
    "1. Criterio de optimización\n",
    "  - minimizar\n",
    "\n",
    "2. Variables sobre las que tengo control\n",
    "  con quee probedor comrar que componente \n",
    "\n",
    "3. Función de costo\n",
    "  - $$ 0.5C1P1+0.6C1P2+.07C1P3+ 0.7C2P1+0.5C2P2+.0.6C2P3+0.32C3P1+.54C3P2+0.8C3P3 $$\n",
    "4. Restricciones\n",
    " - RESTRICCIONES DE CAPACIDAD \n",
    " \n",
    " - RESTRICCIONES DE DEMANDA \n",
    " \n"
   ]
  },
  {
   "cell_type": "code",
   "execution_count": null,
   "id": "e6f28dd7",
   "metadata": {},
   "outputs": [],
   "source": []
  },
  {
   "cell_type": "code",
   "execution_count": 6,
   "id": "180cbff2",
   "metadata": {},
   "outputs": [
    {
     "name": "stdout",
     "output_type": "stream",
     "text": [
      "        message: Optimization terminated successfully. (HiGHS Status 7: Optimal)\n",
      "        success: True\n",
      "         status: 0\n",
      "            fun: 22940.0\n",
      "              x: [ 9.000e+03  0.000e+00  6.000e+03  0.000e+00  1.600e+04\n",
      "                   4.000e+03  1.200e+04  0.000e+00  0.000e+00]\n",
      "            nit: 6\n",
      "          lower:  residual: [ 9.000e+03  0.000e+00  6.000e+03  0.000e+00\n",
      "                              1.600e+04  4.000e+03  1.200e+04  0.000e+00\n",
      "                              0.000e+00]\n",
      "                 marginals: [ 0.000e+00  0.000e+00  0.000e+00  3.000e-01\n",
      "                              0.000e+00  0.000e+00  0.000e+00  1.200e-01\n",
      "                              2.800e-01]\n",
      "          upper:  residual: [       inf        inf        inf        inf\n",
      "                                    inf        inf        inf        inf\n",
      "                                    inf]\n",
      "                 marginals: [ 0.000e+00  0.000e+00  0.000e+00  0.000e+00\n",
      "                              0.000e+00  0.000e+00  0.000e+00  0.000e+00\n",
      "                              0.000e+00]\n",
      "          eqlin:  residual: [ 0.000e+00  0.000e+00  0.000e+00]\n",
      "                 marginals: [ 7.000e-01  6.000e-01  5.200e-01]\n",
      "        ineqlin:  residual: [ 0.000e+00  0.000e+00  6.000e+03]\n",
      "                 marginals: [-2.000e-01 -1.000e-01 -0.000e+00]\n",
      " mip_node_count: 0\n",
      " mip_dual_bound: 0.0\n",
      "        mip_gap: 0.0\n"
     ]
    }
   ],
   "source": [
    "import numpy as np\n",
    "import scipy.optimize as opt\n",
    "\n",
    "c = np.array([0.5, 0.6, 0.7, 0.7, 0.5, 0.6, 0.32, 0.54, 0.8])\n",
    "\n",
    "A_ub = np.array([\n",
    "    [1, 0, 0, 1, 0, 0, 1, 0, 0],\n",
    "    [0, 1, 0, 0, 1, 0, 0, 1, 0],\n",
    "    [0, 0, 1, 0, 0, 1, 0, 0, 1]\n",
    "])\n",
    "\n",
    "b_ub = np.array([21000, 16000, 16000])\n",
    "\n",
    "A_eq = np.array([\n",
    "    [1, 1, 1, 0, 0, 0, 0, 0, 0],\n",
    "    [0, 0, 0, 1, 1, 1, 0, 0, 0],\n",
    "    [0, 0, 0, 0, 0, 0, 1, 1, 1]\n",
    "])\n",
    "\n",
    "b_eq = np.array([15000, 20000, 12000])\n",
    "\n",
    "bandas = [(0, None)] * 9\n",
    "\n",
    "resultado = opt.linprog(c, A_ub=A_ub, b_ub=b_ub, A_eq=A_eq, b_eq=b_eq, bounds=bounds, method='highs')\n",
    "print(resultado)\n"
   ]
  },
  {
   "cell_type": "markdown",
   "id": "d4c96539",
   "metadata": {},
   "source": []
  },
  {
   "cell_type": "markdown",
   "id": "4f8863ce",
   "metadata": {},
   "source": []
  },
  {
   "cell_type": "markdown",
   "id": "6c1e3c9a",
   "metadata": {},
   "source": [
    "2. Resuelva el problema utilizando la función `linprog`. ¿Cómo debe ser la distribución de compras? ¿Cuánto dinero se necesita para satisfacer la demanda? (10 puntos)"
   ]
  },
  {
   "cell_type": "code",
   "execution_count": null,
   "id": "d321188e",
   "metadata": {},
   "outputs": [],
   "source": []
  },
  {
   "cell_type": "code",
   "execution_count": null,
   "id": "5fbc9ece",
   "metadata": {},
   "outputs": [],
   "source": []
  },
  {
   "cell_type": "code",
   "execution_count": null,
   "id": "e457259e",
   "metadata": {},
   "outputs": [],
   "source": []
  },
  {
   "cell_type": "markdown",
   "id": "5663a48b",
   "metadata": {},
   "source": [
    "# Tercer punto. Ajuste de curvas (36 puntos)\n",
    "\n",
    "Utiliza el archivo adjunto en Canvas en el apartado que corresponde al examen."
   ]
  },
  {
   "cell_type": "markdown",
   "id": "c673e9e6",
   "metadata": {},
   "source": [
    "Escribe tu número de expediente: "
   ]
  },
  {
   "cell_type": "markdown",
   "id": "da3c6c2e",
   "metadata": {},
   "source": [
    "Lee el archivo y extrae la siguiente información:\n",
    "- $x$ es la primer columna del archivo\n",
    "- $y$ es la columna correspondiente a los últimos dos dígitos de tu número de expediente + 1. E.g. mi expediente es $693871$; por lo tanto, debo usar la columna $72$."
   ]
  },
  {
   "cell_type": "code",
   "execution_count": 5,
   "id": "46fbbaf5",
   "metadata": {},
   "outputs": [
    {
     "data": {
      "text/html": [
       "<div>\n",
       "<style scoped>\n",
       "    .dataframe tbody tr th:only-of-type {\n",
       "        vertical-align: middle;\n",
       "    }\n",
       "\n",
       "    .dataframe tbody tr th {\n",
       "        vertical-align: top;\n",
       "    }\n",
       "\n",
       "    .dataframe thead th {\n",
       "        text-align: right;\n",
       "    }\n",
       "</style>\n",
       "<table border=\"1\" class=\"dataframe\">\n",
       "  <thead>\n",
       "    <tr style=\"text-align: right;\">\n",
       "      <th></th>\n",
       "      <th>0</th>\n",
       "      <th>1</th>\n",
       "      <th>2</th>\n",
       "      <th>3</th>\n",
       "      <th>4</th>\n",
       "      <th>5</th>\n",
       "      <th>6</th>\n",
       "      <th>7</th>\n",
       "      <th>8</th>\n",
       "      <th>9</th>\n",
       "      <th>...</th>\n",
       "      <th>91</th>\n",
       "      <th>92</th>\n",
       "      <th>93</th>\n",
       "      <th>94</th>\n",
       "      <th>95</th>\n",
       "      <th>96</th>\n",
       "      <th>97</th>\n",
       "      <th>98</th>\n",
       "      <th>99</th>\n",
       "      <th>100</th>\n",
       "    </tr>\n",
       "  </thead>\n",
       "  <tbody>\n",
       "    <tr>\n",
       "      <th>0</th>\n",
       "      <td>0.000000</td>\n",
       "      <td>4.983091</td>\n",
       "      <td>3.769339</td>\n",
       "      <td>5.594828</td>\n",
       "      <td>6.429803</td>\n",
       "      <td>4.511528</td>\n",
       "      <td>6.706383</td>\n",
       "      <td>2.911751</td>\n",
       "      <td>-2.864652</td>\n",
       "      <td>-3.093433</td>\n",
       "      <td>...</td>\n",
       "      <td>6.667738</td>\n",
       "      <td>5.885562</td>\n",
       "      <td>-2.052453</td>\n",
       "      <td>-2.984045</td>\n",
       "      <td>5.750429</td>\n",
       "      <td>2.135754</td>\n",
       "      <td>-1.234049</td>\n",
       "      <td>3.500585</td>\n",
       "      <td>3.206284</td>\n",
       "      <td>-2.015092</td>\n",
       "    </tr>\n",
       "    <tr>\n",
       "      <th>1</th>\n",
       "      <td>0.002002</td>\n",
       "      <td>3.614394</td>\n",
       "      <td>2.396633</td>\n",
       "      <td>4.225133</td>\n",
       "      <td>5.058559</td>\n",
       "      <td>3.141485</td>\n",
       "      <td>5.346220</td>\n",
       "      <td>1.538843</td>\n",
       "      <td>-4.236502</td>\n",
       "      <td>-4.464649</td>\n",
       "      <td>...</td>\n",
       "      <td>5.312463</td>\n",
       "      <td>4.525002</td>\n",
       "      <td>-3.410375</td>\n",
       "      <td>-4.346935</td>\n",
       "      <td>4.396159</td>\n",
       "      <td>0.773647</td>\n",
       "      <td>-2.607035</td>\n",
       "      <td>2.130640</td>\n",
       "      <td>1.840478</td>\n",
       "      <td>-3.376963</td>\n",
       "    </tr>\n",
       "    <tr>\n",
       "      <th>2</th>\n",
       "      <td>0.004004</td>\n",
       "      <td>4.188195</td>\n",
       "      <td>2.966396</td>\n",
       "      <td>4.797931</td>\n",
       "      <td>5.629813</td>\n",
       "      <td>3.713902</td>\n",
       "      <td>5.928572</td>\n",
       "      <td>2.108423</td>\n",
       "      <td>-3.665847</td>\n",
       "      <td>-3.893386</td>\n",
       "      <td>...</td>\n",
       "      <td>5.899704</td>\n",
       "      <td>5.106895</td>\n",
       "      <td>-2.825807</td>\n",
       "      <td>-3.767381</td>\n",
       "      <td>4.984377</td>\n",
       "      <td>1.354042</td>\n",
       "      <td>-2.037531</td>\n",
       "      <td>2.703165</td>\n",
       "      <td>2.417138</td>\n",
       "      <td>-2.796368</td>\n",
       "    </tr>\n",
       "    <tr>\n",
       "      <th>3</th>\n",
       "      <td>0.006006</td>\n",
       "      <td>5.445592</td>\n",
       "      <td>4.219727</td>\n",
       "      <td>6.054320</td>\n",
       "      <td>6.884664</td>\n",
       "      <td>4.969878</td>\n",
       "      <td>7.194535</td>\n",
       "      <td>3.361588</td>\n",
       "      <td>-2.411586</td>\n",
       "      <td>-2.638543</td>\n",
       "      <td>...</td>\n",
       "      <td>7.170558</td>\n",
       "      <td>6.372337</td>\n",
       "      <td>-1.557653</td>\n",
       "      <td>-2.504284</td>\n",
       "      <td>6.256181</td>\n",
       "      <td>2.618039</td>\n",
       "      <td>-0.784438</td>\n",
       "      <td>3.959257</td>\n",
       "      <td>3.677362</td>\n",
       "      <td>-1.532206</td>\n",
       "    </tr>\n",
       "    <tr>\n",
       "      <th>4</th>\n",
       "      <td>0.008008</td>\n",
       "      <td>5.067521</td>\n",
       "      <td>3.837561</td>\n",
       "      <td>5.675236</td>\n",
       "      <td>6.504048</td>\n",
       "      <td>4.590350</td>\n",
       "      <td>6.825046</td>\n",
       "      <td>2.979275</td>\n",
       "      <td>-2.792786</td>\n",
       "      <td>-3.019186</td>\n",
       "      <td>...</td>\n",
       "      <td>6.805961</td>\n",
       "      <td>6.002265</td>\n",
       "      <td>-1.924977</td>\n",
       "      <td>-2.876709</td>\n",
       "      <td>5.892506</td>\n",
       "      <td>2.246572</td>\n",
       "      <td>-1.166821</td>\n",
       "      <td>3.579851</td>\n",
       "      <td>3.302087</td>\n",
       "      <td>-1.903542</td>\n",
       "    </tr>\n",
       "    <tr>\n",
       "      <th>...</th>\n",
       "      <td>...</td>\n",
       "      <td>...</td>\n",
       "      <td>...</td>\n",
       "      <td>...</td>\n",
       "      <td>...</td>\n",
       "      <td>...</td>\n",
       "      <td>...</td>\n",
       "      <td>...</td>\n",
       "      <td>...</td>\n",
       "      <td>...</td>\n",
       "      <td>...</td>\n",
       "      <td>...</td>\n",
       "      <td>...</td>\n",
       "      <td>...</td>\n",
       "      <td>...</td>\n",
       "      <td>...</td>\n",
       "      <td>...</td>\n",
       "      <td>...</td>\n",
       "      <td>...</td>\n",
       "      <td>...</td>\n",
       "      <td>...</td>\n",
       "    </tr>\n",
       "    <tr>\n",
       "      <th>995</th>\n",
       "      <td>1.991992</td>\n",
       "      <td>-37.621743</td>\n",
       "      <td>-26.216957</td>\n",
       "      <td>2.179613</td>\n",
       "      <td>34.525805</td>\n",
       "      <td>-81.587062</td>\n",
       "      <td>44.262737</td>\n",
       "      <td>22.788572</td>\n",
       "      <td>58.082286</td>\n",
       "      <td>-69.526880</td>\n",
       "      <td>...</td>\n",
       "      <td>-57.907315</td>\n",
       "      <td>-30.282534</td>\n",
       "      <td>2.509291</td>\n",
       "      <td>-114.436776</td>\n",
       "      <td>14.101042</td>\n",
       "      <td>109.678623</td>\n",
       "      <td>11.649459</td>\n",
       "      <td>0.666863</td>\n",
       "      <td>27.882475</td>\n",
       "      <td>93.843512</td>\n",
       "    </tr>\n",
       "    <tr>\n",
       "      <th>996</th>\n",
       "      <td>1.993994</td>\n",
       "      <td>-38.413531</td>\n",
       "      <td>-26.940495</td>\n",
       "      <td>1.526510</td>\n",
       "      <td>34.067619</td>\n",
       "      <td>-82.481098</td>\n",
       "      <td>43.789529</td>\n",
       "      <td>22.302350</td>\n",
       "      <td>57.727557</td>\n",
       "      <td>-70.383159</td>\n",
       "      <td>...</td>\n",
       "      <td>-58.823098</td>\n",
       "      <td>-31.021199</td>\n",
       "      <td>1.898045</td>\n",
       "      <td>-115.441524</td>\n",
       "      <td>13.503160</td>\n",
       "      <td>109.438779</td>\n",
       "      <td>11.124500</td>\n",
       "      <td>0.086051</td>\n",
       "      <td>27.430621</td>\n",
       "      <td>93.598580</td>\n",
       "    </tr>\n",
       "    <tr>\n",
       "      <th>997</th>\n",
       "      <td>1.995996</td>\n",
       "      <td>-38.302053</td>\n",
       "      <td>-26.760562</td>\n",
       "      <td>1.777022</td>\n",
       "      <td>34.513839</td>\n",
       "      <td>-82.472001</td>\n",
       "      <td>44.220604</td>\n",
       "      <td>22.720442</td>\n",
       "      <td>58.277463</td>\n",
       "      <td>-70.336305</td>\n",
       "      <td>...</td>\n",
       "      <td>-58.835998</td>\n",
       "      <td>-30.856352</td>\n",
       "      <td>2.190637</td>\n",
       "      <td>-115.543472</td>\n",
       "      <td>13.809172</td>\n",
       "      <td>110.103751</td>\n",
       "      <td>11.503708</td>\n",
       "      <td>0.409258</td>\n",
       "      <td>27.883253</td>\n",
       "      <td>94.258542</td>\n",
       "    </tr>\n",
       "    <tr>\n",
       "      <th>998</th>\n",
       "      <td>1.997998</td>\n",
       "      <td>-39.725567</td>\n",
       "      <td>-28.115414</td>\n",
       "      <td>0.492894</td>\n",
       "      <td>33.426211</td>\n",
       "      <td>-83.998028</td>\n",
       "      <td>43.117706</td>\n",
       "      <td>21.604596</td>\n",
       "      <td>57.293749</td>\n",
       "      <td>-71.824574</td>\n",
       "      <td>...</td>\n",
       "      <td>-60.384272</td>\n",
       "      <td>-32.226251</td>\n",
       "      <td>0.948811</td>\n",
       "      <td>-117.180880</td>\n",
       "      <td>12.580823</td>\n",
       "      <td>109.235287</td>\n",
       "      <td>10.348831</td>\n",
       "      <td>-0.801770</td>\n",
       "      <td>26.802116</td>\n",
       "      <td>93.385145</td>\n",
       "    </tr>\n",
       "    <tr>\n",
       "      <th>999</th>\n",
       "      <td>2.000000</td>\n",
       "      <td>-39.118378</td>\n",
       "      <td>-27.439358</td>\n",
       "      <td>1.239819</td>\n",
       "      <td>34.370429</td>\n",
       "      <td>-83.493487</td>\n",
       "      <td>44.046532</td>\n",
       "      <td>22.520505</td>\n",
       "      <td>58.342113</td>\n",
       "      <td>-71.282274</td>\n",
       "      <td>...</td>\n",
       "      <td>-59.902228</td>\n",
       "      <td>-31.565200</td>\n",
       "      <td>1.738263</td>\n",
       "      <td>-116.788054</td>\n",
       "      <td>13.383808</td>\n",
       "      <td>110.399081</td>\n",
       "      <td>11.225562</td>\n",
       "      <td>0.018661</td>\n",
       "      <td>27.752907</td>\n",
       "      <td>94.544086</td>\n",
       "    </tr>\n",
       "  </tbody>\n",
       "</table>\n",
       "<p>1000 rows × 101 columns</p>\n",
       "</div>"
      ],
      "text/plain": [
       "          0          1          2         3          4          5    \\\n",
       "0    0.000000   4.983091   3.769339  5.594828   6.429803   4.511528   \n",
       "1    0.002002   3.614394   2.396633  4.225133   5.058559   3.141485   \n",
       "2    0.004004   4.188195   2.966396  4.797931   5.629813   3.713902   \n",
       "3    0.006006   5.445592   4.219727  6.054320   6.884664   4.969878   \n",
       "4    0.008008   5.067521   3.837561  5.675236   6.504048   4.590350   \n",
       "..        ...        ...        ...       ...        ...        ...   \n",
       "995  1.991992 -37.621743 -26.216957  2.179613  34.525805 -81.587062   \n",
       "996  1.993994 -38.413531 -26.940495  1.526510  34.067619 -82.481098   \n",
       "997  1.995996 -38.302053 -26.760562  1.777022  34.513839 -82.472001   \n",
       "998  1.997998 -39.725567 -28.115414  0.492894  33.426211 -83.998028   \n",
       "999  2.000000 -39.118378 -27.439358  1.239819  34.370429 -83.493487   \n",
       "\n",
       "           6          7          8          9    ...        91         92   \\\n",
       "0     6.706383   2.911751  -2.864652  -3.093433  ...   6.667738   5.885562   \n",
       "1     5.346220   1.538843  -4.236502  -4.464649  ...   5.312463   4.525002   \n",
       "2     5.928572   2.108423  -3.665847  -3.893386  ...   5.899704   5.106895   \n",
       "3     7.194535   3.361588  -2.411586  -2.638543  ...   7.170558   6.372337   \n",
       "4     6.825046   2.979275  -2.792786  -3.019186  ...   6.805961   6.002265   \n",
       "..         ...        ...        ...        ...  ...        ...        ...   \n",
       "995  44.262737  22.788572  58.082286 -69.526880  ... -57.907315 -30.282534   \n",
       "996  43.789529  22.302350  57.727557 -70.383159  ... -58.823098 -31.021199   \n",
       "997  44.220604  22.720442  58.277463 -70.336305  ... -58.835998 -30.856352   \n",
       "998  43.117706  21.604596  57.293749 -71.824574  ... -60.384272 -32.226251   \n",
       "999  44.046532  22.520505  58.342113 -71.282274  ... -59.902228 -31.565200   \n",
       "\n",
       "          93          94         95          96         97        98   \\\n",
       "0   -2.052453   -2.984045   5.750429    2.135754  -1.234049  3.500585   \n",
       "1   -3.410375   -4.346935   4.396159    0.773647  -2.607035  2.130640   \n",
       "2   -2.825807   -3.767381   4.984377    1.354042  -2.037531  2.703165   \n",
       "3   -1.557653   -2.504284   6.256181    2.618039  -0.784438  3.959257   \n",
       "4   -1.924977   -2.876709   5.892506    2.246572  -1.166821  3.579851   \n",
       "..        ...         ...        ...         ...        ...       ...   \n",
       "995  2.509291 -114.436776  14.101042  109.678623  11.649459  0.666863   \n",
       "996  1.898045 -115.441524  13.503160  109.438779  11.124500  0.086051   \n",
       "997  2.190637 -115.543472  13.809172  110.103751  11.503708  0.409258   \n",
       "998  0.948811 -117.180880  12.580823  109.235287  10.348831 -0.801770   \n",
       "999  1.738263 -116.788054  13.383808  110.399081  11.225562  0.018661   \n",
       "\n",
       "           99         100  \n",
       "0     3.206284  -2.015092  \n",
       "1     1.840478  -3.376963  \n",
       "2     2.417138  -2.796368  \n",
       "3     3.677362  -1.532206  \n",
       "4     3.302087  -1.903542  \n",
       "..         ...        ...  \n",
       "995  27.882475  93.843512  \n",
       "996  27.430621  93.598580  \n",
       "997  27.883253  94.258542  \n",
       "998  26.802116  93.385145  \n",
       "999  27.752907  94.544086  \n",
       "\n",
       "[1000 rows x 101 columns]"
      ]
     },
     "execution_count": 5,
     "metadata": {},
     "output_type": "execute_result"
    }
   ],
   "source": [
    "import pandas as pd\n",
    "\n",
    "data = pd.read_excel(\"E01-RegresionLineal.xlsx\")\n",
    "data"
   ]
  },
  {
   "cell_type": "code",
   "execution_count": 6,
   "id": "feb405d3",
   "metadata": {},
   "outputs": [
    {
     "ename": "KeyError",
     "evalue": "'0'",
     "output_type": "error",
     "traceback": [
      "\u001b[1;31m---------------------------------------------------------------------------\u001b[0m",
      "\u001b[1;31mKeyError\u001b[0m                                  Traceback (most recent call last)",
      "File \u001b[1;32m~\\anaconda3\\Lib\\site-packages\\pandas\\core\\indexes\\base.py:3802\u001b[0m, in \u001b[0;36mIndex.get_loc\u001b[1;34m(self, key, method, tolerance)\u001b[0m\n\u001b[0;32m   3801\u001b[0m \u001b[38;5;28;01mtry\u001b[39;00m:\n\u001b[1;32m-> 3802\u001b[0m     \u001b[38;5;28;01mreturn\u001b[39;00m \u001b[38;5;28mself\u001b[39m\u001b[38;5;241m.\u001b[39m_engine\u001b[38;5;241m.\u001b[39mget_loc(casted_key)\n\u001b[0;32m   3803\u001b[0m \u001b[38;5;28;01mexcept\u001b[39;00m \u001b[38;5;167;01mKeyError\u001b[39;00m \u001b[38;5;28;01mas\u001b[39;00m err:\n",
      "File \u001b[1;32m~\\anaconda3\\Lib\\site-packages\\pandas\\_libs\\index.pyx:138\u001b[0m, in \u001b[0;36mpandas._libs.index.IndexEngine.get_loc\u001b[1;34m()\u001b[0m\n",
      "File \u001b[1;32m~\\anaconda3\\Lib\\site-packages\\pandas\\_libs\\index.pyx:146\u001b[0m, in \u001b[0;36mpandas._libs.index.IndexEngine.get_loc\u001b[1;34m()\u001b[0m\n",
      "File \u001b[1;32mpandas\\_libs\\index_class_helper.pxi:49\u001b[0m, in \u001b[0;36mpandas._libs.index.Int64Engine._check_type\u001b[1;34m()\u001b[0m\n",
      "\u001b[1;31mKeyError\u001b[0m: '0'",
      "\nThe above exception was the direct cause of the following exception:\n",
      "\u001b[1;31mKeyError\u001b[0m                                  Traceback (most recent call last)",
      "Cell \u001b[1;32mIn[6], line 1\u001b[0m\n\u001b[1;32m----> 1\u001b[0m x \u001b[38;5;241m=\u001b[39m np\u001b[38;5;241m.\u001b[39marray(data[\u001b[38;5;124m\"\u001b[39m\u001b[38;5;124m0\u001b[39m\u001b[38;5;124m\"\u001b[39m])\n\u001b[0;32m      2\u001b[0m y \u001b[38;5;241m=\u001b[39m np\u001b[38;5;241m.\u001b[39marray(data[\u001b[38;5;124m\"\u001b[39m\u001b[38;5;124m17\u001b[39m\u001b[38;5;124m\"\u001b[39m])\n",
      "File \u001b[1;32m~\\anaconda3\\Lib\\site-packages\\pandas\\core\\frame.py:3807\u001b[0m, in \u001b[0;36mDataFrame.__getitem__\u001b[1;34m(self, key)\u001b[0m\n\u001b[0;32m   3805\u001b[0m \u001b[38;5;28;01mif\u001b[39;00m \u001b[38;5;28mself\u001b[39m\u001b[38;5;241m.\u001b[39mcolumns\u001b[38;5;241m.\u001b[39mnlevels \u001b[38;5;241m>\u001b[39m \u001b[38;5;241m1\u001b[39m:\n\u001b[0;32m   3806\u001b[0m     \u001b[38;5;28;01mreturn\u001b[39;00m \u001b[38;5;28mself\u001b[39m\u001b[38;5;241m.\u001b[39m_getitem_multilevel(key)\n\u001b[1;32m-> 3807\u001b[0m indexer \u001b[38;5;241m=\u001b[39m \u001b[38;5;28mself\u001b[39m\u001b[38;5;241m.\u001b[39mcolumns\u001b[38;5;241m.\u001b[39mget_loc(key)\n\u001b[0;32m   3808\u001b[0m \u001b[38;5;28;01mif\u001b[39;00m is_integer(indexer):\n\u001b[0;32m   3809\u001b[0m     indexer \u001b[38;5;241m=\u001b[39m [indexer]\n",
      "File \u001b[1;32m~\\anaconda3\\Lib\\site-packages\\pandas\\core\\indexes\\base.py:3804\u001b[0m, in \u001b[0;36mIndex.get_loc\u001b[1;34m(self, key, method, tolerance)\u001b[0m\n\u001b[0;32m   3802\u001b[0m     \u001b[38;5;28;01mreturn\u001b[39;00m \u001b[38;5;28mself\u001b[39m\u001b[38;5;241m.\u001b[39m_engine\u001b[38;5;241m.\u001b[39mget_loc(casted_key)\n\u001b[0;32m   3803\u001b[0m \u001b[38;5;28;01mexcept\u001b[39;00m \u001b[38;5;167;01mKeyError\u001b[39;00m \u001b[38;5;28;01mas\u001b[39;00m err:\n\u001b[1;32m-> 3804\u001b[0m     \u001b[38;5;28;01mraise\u001b[39;00m \u001b[38;5;167;01mKeyError\u001b[39;00m(key) \u001b[38;5;28;01mfrom\u001b[39;00m \u001b[38;5;21;01merr\u001b[39;00m\n\u001b[0;32m   3805\u001b[0m \u001b[38;5;28;01mexcept\u001b[39;00m \u001b[38;5;167;01mTypeError\u001b[39;00m:\n\u001b[0;32m   3806\u001b[0m     \u001b[38;5;66;03m# If we have a listlike key, _check_indexing_error will raise\u001b[39;00m\n\u001b[0;32m   3807\u001b[0m     \u001b[38;5;66;03m#  InvalidIndexError. Otherwise we fall through and re-raise\u001b[39;00m\n\u001b[0;32m   3808\u001b[0m     \u001b[38;5;66;03m#  the TypeError.\u001b[39;00m\n\u001b[0;32m   3809\u001b[0m     \u001b[38;5;28mself\u001b[39m\u001b[38;5;241m.\u001b[39m_check_indexing_error(key)\n",
      "\u001b[1;31mKeyError\u001b[0m: '0'"
     ]
    }
   ],
   "source": [
    "x = np.array(data[\"0\"])\n",
    "y = np.array(data[\"17\"])"
   ]
  },
  {
   "cell_type": "code",
   "execution_count": 2,
   "id": "fa67533a",
   "metadata": {},
   "outputs": [],
   "source": []
  },
  {
   "cell_type": "markdown",
   "id": "8714fbd7",
   "metadata": {},
   "source": [
    "1. Ajuste los datos con polinomios de grados 1, 3, y 5. Muestre los errores de forma gráfica. ¿Qué polinomio se ajusta mejor?"
   ]
  },
  {
   "cell_type": "code",
   "execution_count": 18,
   "id": "02c63d5b",
   "metadata": {},
   "outputs": [],
   "source": [
    "import numpy as np\n",
    "from matplotlib import pyplot as plt\n",
    "from scipy.optimize import curve_fit\n",
    "\n",
    "def grado1(x, a, b):\n",
    "    return a * x + b\n",
    "\n",
    "def grado3(x, a, b, c):\n",
    "    return a * x**3 + b * x + c\n",
    "\n",
    "def grado5(x, a, b, c, d):\n",
    "    return a * x**5 + b * x**2 + c * x + d\n",
    "\n",
    "x = np.array([1, 2, 3, 4, 5])\n",
    "y = np.array([2, 3, 4, 3, 2])\n",
    "\n",
    "\n",
    "p1, _ = curve_fit(grado1, x, y)\n",
    "p2, _ = curve_fit(grado3, x, y)\n",
    "p3, _ = curve_fit(grado5, x, y)\n",
    "\n",
    "pre1 = grado1(x, *p1)\n",
    "pre2 = grado3(x, *p2)\n",
    "pre3 = grado5(x, *p3)\n",
    "\n",
    "\n"
   ]
  },
  {
   "cell_type": "markdown",
   "id": "59862478",
   "metadata": {},
   "source": [
    "2. Muestre en un gráfico los datos y el polinomio que mejor se ajuste."
   ]
  },
  {
   "cell_type": "code",
   "execution_count": 17,
   "id": "27387213",
   "metadata": {},
   "outputs": [
    {
     "data": {
      "image/png": "[encoded data removed]",
      "text/plain": [
       "<Figure size 1000x600 with 1 Axes>"
      ]
     },
     "metadata": {},
     "output_type": "display_data"
    }
   ],
   "source": [
    "plt.figure(figsize=(10, 6))\n",
    "plt.scatter(x, y, label='Datos', color='b')\n",
    "plt.plot(x, prediccion1, label='Grado 1', color='r')\n",
    "plt.plot(x, prediccion2, label='Grado 3', color='g')\n",
    "plt.plot(x, prediccion3, label='Grado 5', color='y')\n",
    "\n",
    "plt.xlabel('x')\n",
    "plt.ylabel('y')\n",
    "plt.title('Ajuste Polinómico de Grado 1 a 5')\n",
    "plt.legend()\n",
    "plt.grid(True)\n",
    "plt.show()"
   ]
  },
  {
   "cell_type": "code",
   "execution_count": null,
   "id": "f4097aa4",
   "metadata": {},
   "outputs": [],
   "source": []
  },
  {
   "cell_type": "code",
   "execution_count": null,
   "id": "a8cfef44",
   "metadata": {},
   "outputs": [],
   "source": []
  },
  {
   "cell_type": "markdown",
   "id": "238f342a",
   "metadata": {},
   "source": [
    "3. Use el modelo para averiguar el valor de $y$ cuando:\n",
    "- $x=0.001$\n",
    "- $x=-0.1$\n",
    "- $x=2.1$"
   ]
  },
  {
   "cell_type": "code",
   "execution_count": null,
   "id": "82706e4e",
   "metadata": {},
   "outputs": [],
   "source": []
  },
  {
   "cell_type": "code",
   "execution_count": null,
   "id": "b5d4cfe7",
   "metadata": {},
   "outputs": [],
   "source": []
  },
  {
   "cell_type": "code",
   "execution_count": null,
   "id": "51beb7c1",
   "metadata": {},
   "outputs": [],
   "source": []
  },
  {
   "cell_type": "markdown",
   "id": "4af77457",
   "metadata": {},
   "source": [
    "4. ¿Qué diferencias encuentra en cuanto a la interpolación y la extrapolación?"
   ]
  },
  {
   "cell_type": "markdown",
   "id": "2e5066df",
   "metadata": {},
   "source": [
    "LA DIFERENCIA PRINCIPAL ENTRE LA INTERPOLACION Y LA EXTRAPOLACION ES QUE PARA LA INTERPOLACION ES NECESARIO CONOSER LOS PARAMETROS O RANGOS Y PARA LA EXTRAPOLACION NO POR QUE NOS PUEDE SERVIR PARA PREDECIR UN CONPORTAMIENTO FUTURO  "
   ]
  },
  {
   "cell_type": "markdown",
   "id": "7f451519",
   "metadata": {},
   "source": []
  },
  {
   "cell_type": "markdown",
   "id": "fc693d0d",
   "metadata": {},
   "source": []
  },
  {
   "cell_type": "markdown",
   "id": "3ff8002f",
   "metadata": {},
   "source": [
    "5. Agregue un factor $\\cos{(10x)}$ a su modelo y grafique los resultados. ¿Mejoró el resultado?"
   ]
  },
  {
   "cell_type": "code",
   "execution_count": 19,
   "id": "28b1f9ef",
   "metadata": {},
   "outputs": [
    {
     "name": "stderr",
     "output_type": "stream",
     "text": [
      "C:\\Users\\Armando\\anaconda3\\Lib\\site-packages\\scipy\\optimize\\_minpack_py.py:906: OptimizeWarning: Covariance of the parameters could not be estimated\n",
      "  warnings.warn('Covariance of the parameters could not be estimated',\n"
     ]
    },
    {
     "data": {
      "image/png": "[encoded data removed]",
      "text/plain": [
       "<Figure size 1000x600 with 1 Axes>"
      ]
     },
     "metadata": {},
     "output_type": "display_data"
    }
   ],
   "source": [
    "import numpy as np\n",
    "from matplotlib import pyplot as plt\n",
    "from scipy.optimize import curve_fit\n",
    "\n",
    "# Definimos las funciones polinómicas con el factor 10x\n",
    "def polinomio_grado1(x, a, b):\n",
    "    return a * 10 * x + b\n",
    "\n",
    "def polinomio_grado3(x, a, b, c):\n",
    "    return a * 10 * x**3 + b * x + c\n",
    "\n",
    "def polinomio_grado5(x, a, b, c, d):\n",
    "    return a * 10 * x**5 + b * x**2 + c * x + d\n",
    "\n",
    "# Supongamos que tien"
   ]
  },
  {
   "cell_type": "code",
   "execution_count": null,
   "id": "011525b0",
   "metadata": {},
   "outputs": [],
   "source": []
  },
  {
   "cell_type": "code",
   "execution_count": null,
   "id": "b6cc448d",
   "metadata": {},
   "outputs": [],
   "source": []
  }
 ],
 "metadata": {
  "kernelspec": {
   "display_name": "Python 3 (ipykernel)",
   "language": "python",
   "name": "python3"
  },
  "language_info": {
   "codemirror_mode": {
    "name": "ipython",
    "version": 3
   },
   "file_extension": ".py",
   "mimetype": "text/x-python",
   "name": "python",
   "nbconvert_exporter": "python",
   "pygments_lexer": "ipython3",
   "version": "3.11.4"
  }
 },
 "nbformat": 4,
 "nbformat_minor": 5
}

{
 "cells": [
  {
   "cell_type": "markdown",
   "metadata": {
    "id": "NPSzhMAl2RJ2"
   },
   "source": [
    "# Ejercicios de optimización escalar"
   ]
  },
  {
   "cell_type": "markdown",
   "metadata": {
    "id": "ITf3Pqyo2RJ5"
   },
   "source": [
    "**Para la siguientes funciones encuentre los puntos críticos, grafique y diga si éste se trata de un máximo o mínimo, local o global.**"
   ]
  },
  {
   "cell_type": "markdown",
   "metadata": {
    "id": "-Ep9d5bh2RJ5"
   },
   "source": [
    "$f(x)=1260+117x-9x^2$"
   ]
  },
  {
   "cell_type": "code",
   "execution_count": 13,
   "metadata": {
    "colab": {
     "base_uri": "https://localhost:8080/",
     "height": 38
    },
    "id": "gB1mG0sv2RJ6",
    "outputId": "142ca7e2-364f-4ba0-bfec-13aa247a4759"
   },
   "outputs": [
    {
     "data": {
      "text/latex": [
       "$\\displaystyle 117 - 18 x$"
      ],
      "text/plain": [
       "117 - 18*x"
      ]
     },
     "execution_count": 13,
     "metadata": {},
     "output_type": "execute_result"
    }
   ],
   "source": [
    "import pandas as pd\n",
    "import matplotlib.pyplot as plt\n",
    "import sympy as sp\n",
    "import numpy as np\n",
    "sp.var(\"x\")\n",
    "def f(x) :\n",
    "  return 1260 +117*x -9*x**2\n",
    "df= sp.diff (f(x),x)\n",
    "df\n",
    "\n"
   ]
  },
  {
   "cell_type": "code",
   "execution_count": 14,
   "metadata": {
    "colab": {
     "base_uri": "https://localhost:8080/"
    },
    "id": "4J1Dh0TH2RJ6",
    "outputId": "20ecf4bc-bc8e-4f0e-a56d-0164d65677f0"
   },
   "outputs": [
    {
     "data": {
      "text/plain": [
       "[13/2]"
      ]
     },
     "execution_count": 14,
     "metadata": {},
     "output_type": "execute_result"
    }
   ],
   "source": [
    "pc= sp.solve(df,x)\n",
    "pc"
   ]
  },
  {
   "cell_type": "code",
   "execution_count": 15,
   "metadata": {
    "colab": {
     "base_uri": "https://localhost:8080/",
     "height": 37
    },
    "id": "lWZ2HDoK2RJ6",
    "outputId": "5df571ee-13b3-4e1f-b581-bae5cedc6834"
   },
   "outputs": [
    {
     "data": {
      "text/latex": [
       "$\\displaystyle -18$"
      ],
      "text/plain": [
       "-18"
      ]
     },
     "execution_count": 15,
     "metadata": {},
     "output_type": "execute_result"
    }
   ],
   "source": [
    "dff= sp.diff (df,x)\n",
    "dff"
   ]
  },
  {
   "cell_type": "code",
   "execution_count": 16,
   "metadata": {
    "colab": {
     "base_uri": "https://localhost:8080/",
     "height": 291
    },
    "id": "42VOKhHY4CR1",
    "outputId": "4f2d5b8c-a075-4baa-fd8b-2bc03a1036a5"
   },
   "outputs": [
    {
     "data": {
      "image/png": "[encoded data removed]",
      "text/plain": [
       "<Figure size 400x300 with 1 Axes>"
      ]
     },
     "metadata": {},
     "output_type": "display_data"
    }
   ],
   "source": [
    "import matplotlib.pyplot as plt\n",
    "\n",
    "xn=np.linspace(0,12,500)\n",
    "plt.figure(figsize=(4,3))\n",
    "plt.plot(xn,f(xn))\n",
    "for c in pc:\n",
    "  plt.plot(c,f(c), \"*r\",ms=10)\n"
   ]
  },
  {
   "cell_type": "markdown",
   "metadata": {
    "id": "Z6KkM1WE3syT"
   },
   "source": [
    "es un punto máximo global"
   ]
  },
  {
   "cell_type": "code",
   "execution_count": null,
   "metadata": {
    "id": "KNsFTNLq2RJ6"
   },
   "outputs": [],
   "source": []
  },
  {
   "cell_type": "markdown",
   "metadata": {
    "id": "8IV6LAcc2RJ6"
   },
   "source": [
    "$f(x)=5+x+\\frac{4}{x}$, para $x>0$"
   ]
  },
  {
   "cell_type": "code",
   "execution_count": 18,
   "metadata": {
    "colab": {
     "base_uri": "https://localhost:8080/",
     "height": 51
    },
    "id": "p9rn4uVp2RJ7",
    "outputId": "c7071b11-f3d1-4d1d-a0cd-1d5f501e69ea"
   },
   "outputs": [
    {
     "data": {
      "text/latex": [
       "$\\displaystyle 1 - \\frac{4}{x^{2}}$"
      ],
      "text/plain": [
       "1 - 4/x**2"
      ]
     },
     "execution_count": 18,
     "metadata": {},
     "output_type": "execute_result"
    }
   ],
   "source": [
    "sp.var(\"x\")\n",
    "def f(x) :\n",
    "  return 5+x+4/x\n",
    "df= sp.diff (f(x),x)\n",
    "df"
   ]
  },
  {
   "cell_type": "code",
   "execution_count": 19,
   "metadata": {
    "colab": {
     "base_uri": "https://localhost:8080/"
    },
    "id": "DeA5Lth62RJ7",
    "outputId": "224b8df9-dccf-4f60-ce0c-bbf84e1dc608"
   },
   "outputs": [
    {
     "data": {
      "text/plain": [
       "[-2, 2]"
      ]
     },
     "execution_count": 19,
     "metadata": {},
     "output_type": "execute_result"
    }
   ],
   "source": [
    "pc= sp.solve(df,x)\n",
    "pc"
   ]
  },
  {
   "cell_type": "code",
   "execution_count": 22,
   "metadata": {
    "colab": {
     "base_uri": "https://localhost:8080/",
     "height": 291
    },
    "id": "-GnXKi902RJ7",
    "outputId": "713fe63f-3b84-4aa4-bb22-cacc84979fcb"
   },
   "outputs": [
    {
     "data": {
      "image/png": "[encoded data removed]",
      "text/plain": [
       "<Figure size 400x300 with 1 Axes>"
      ]
     },
     "metadata": {},
     "output_type": "display_data"
    }
   ],
   "source": [
    "import matplotlib.pyplot as plt\n",
    "\n",
    "xn=np.linspace(-20,20,500)\n",
    "plt.figure(figsize=(4,3))\n",
    "plt.plot(xn,f(xn))\n",
    "for c in pc:\n",
    "  plt.plot(c,f(c), \"*r\",ms=10)\n"
   ]
  },
  {
   "cell_type": "markdown",
   "metadata": {
    "id": "Nb-jGFKT8PC8"
   },
   "source": [
    "EN ESTE CASO NO ESTA DEFINIDO NI MÁXIMO NI UN MINIMO"
   ]
  },
  {
   "cell_type": "code",
   "execution_count": null,
   "metadata": {
    "id": "MC0n4wgp2RJ7"
   },
   "outputs": [],
   "source": []
  },
  {
   "cell_type": "markdown",
   "metadata": {
    "id": "SToYx_Qr2RJ7"
   },
   "source": [
    "$f(x)=6-2x+\\sqrt{18-2x^2}$, para $-3\\leq x\\leq 3$"
   ]
  },
  {
   "cell_type": "code",
   "execution_count": 23,
   "metadata": {
    "colab": {
     "base_uri": "https://localhost:8080/",
     "height": 51
    },
    "id": "vUFiG5Il2RJ7",
    "outputId": "70bb5153-55bc-4f26-a797-0aba1005b551"
   },
   "outputs": [
    {
     "data": {
      "text/latex": [
       "$\\displaystyle 1 - \\frac{4}{x^{2}}$"
      ],
      "text/plain": [
       "1 - 4/x**2"
      ]
     },
     "execution_count": 23,
     "metadata": {},
     "output_type": "execute_result"
    }
   ],
   "source": [
    "sp.var(\"x\")\n",
    "def f(x) :\n",
    "  return 6-2*x+\n",
    "df= sp.diff (f(x),x)\n",
    "df"
   ]
  },
  {
   "cell_type": "code",
   "execution_count": null,
   "metadata": {
    "id": "DrnuuJE12RJ7"
   },
   "outputs": [],
   "source": [
    "pc= sp.solve(df,x)\n",
    "pc"
   ]
  },
  {
   "cell_type": "code",
   "execution_count": null,
   "metadata": {
    "id": "qjyID9Ug2RJ7"
   },
   "outputs": [],
   "source": [
    "import matplotlib.pyplot as plt\n",
    "\n",
    "xn=np.linspace(-20,20,500)\n",
    "plt.figure(figsize=(4,3))\n",
    "plt.plot(xn,f(xn))\n",
    "for c in pc:\n",
    "  plt.plot(c,f(c), \"*r\",ms=10)"
   ]
  },
  {
   "cell_type": "code",
   "execution_count": null,
   "metadata": {
    "id": "uNlDsrGk2RJ8"
   },
   "outputs": [],
   "source": []
  },
  {
   "cell_type": "markdown",
   "metadata": {
    "id": "OxPp5aZz2RJ8"
   },
   "source": [
    "$f(x)=\\frac{1}{4}x^4+\\frac{1}{3}x^3-x^2$ en el intervalo $[-3,1.7]$"
   ]
  },
  {
   "cell_type": "code",
   "execution_count": 28,
   "metadata": {
    "colab": {
     "base_uri": "https://localhost:8080/",
     "height": 38
    },
    "id": "BJb4dEoH2RJ8",
    "outputId": "3d7bf916-aa80-4426-fbf5-d5c8fe506246"
   },
   "outputs": [
    {
     "data": {
      "text/latex": [
       "$\\displaystyle 1.0 x^{3} + 1.0 x^{2} - 2 x$"
      ],
      "text/plain": [
       "1.0*x**3 + 1.0*x**2 - 2*x"
      ]
     },
     "execution_count": 28,
     "metadata": {},
     "output_type": "execute_result"
    }
   ],
   "source": [
    "sp.var(\"x\")\n",
    "def f(x) :\n",
    "  return 1/4*x**4+1/3*x**3 - x**2\n",
    "df= sp.diff (f(x),x)\n",
    "df"
   ]
  },
  {
   "cell_type": "code",
   "execution_count": 29,
   "metadata": {
    "colab": {
     "base_uri": "https://localhost:8080/"
    },
    "id": "HKPk1HWs2RJ8",
    "outputId": "d05393ca-d13e-4e66-ebba-9fb675a50cc2"
   },
   "outputs": [
    {
     "data": {
      "text/plain": [
       "[-2.00000000000000, 0.0, 1.00000000000000]"
      ]
     },
     "execution_count": 29,
     "metadata": {},
     "output_type": "execute_result"
    }
   ],
   "source": [
    "pc= sp.solve(df,x)\n",
    "pc"
   ]
  },
  {
   "cell_type": "code",
   "execution_count": 30,
   "metadata": {
    "colab": {
     "base_uri": "https://localhost:8080/",
     "height": 291
    },
    "id": "ep-sqUTR2RJ8",
    "outputId": "555dad38-6ecb-4143-d679-cda56a3e3af7"
   },
   "outputs": [
    {
     "data": {
      "image/png": "[encoded data removed]",
      "text/plain": [
       "<Figure size 400x300 with 1 Axes>"
      ]
     },
     "metadata": {},
     "output_type": "display_data"
    }
   ],
   "source": [
    "import matplotlib.pyplot as plt\n",
    "\n",
    "xn=np.linspace(-3,1.7,500)\n",
    "plt.figure(figsize=(4,3))\n",
    "plt.plot(xn,f(xn))\n",
    "for c in pc:\n",
    "  plt.plot(c,f(c), \"*r\",ms=10)"
   ]
  },
  {
   "cell_type": "markdown",
   "metadata": {
    "id": "M5Zo2Df77sI0"
   },
   "source": [
    "EN ESTE PROBLEMA  EN -2 ES UN MINIMO GLOBAL MIENTRS QUE EN 1 ES UN MINIMO LOCAL Y EN 0 HAY UN MÁXIMO GLOBAL"
   ]
  },
  {
   "cell_type": "code",
   "execution_count": 30,
   "metadata": {
    "id": "quN8O1542RJ8"
   },
   "outputs": [],
   "source": []
  },
  {
   "cell_type": "markdown",
   "metadata": {
    "id": "aAvHlChc2RJ8"
   },
   "source": [
    "---\n",
    "**Resuelva los siguientes problemas usando la librería `SymPy`. Use celdas en `Markdown` para explicar su procedimiento.**"
   ]
  },
  {
   "cell_type": "markdown",
   "metadata": {
    "id": "sfBY1gKm2RJ8"
   },
   "source": [
    "El perímetro de un triángulo isósceles es de $10 cm$. ¿Cuánto deben medir sus lados para que el volumen del cuerpo generado por la rotación del triángulo en torno a su base sea el mayor posible? (Volumen de un cono $= \\frac{1}{3}\\pi r^2 h$, donde $r$ es el radio de la base y $h$ la altura del cono)."
   ]
  },
  {
   "cell_type": "code",
   "execution_count": null,
   "metadata": {
    "id": "PpFPDgbw2RJ8"
   },
   "outputs": [],
   "source": [
    "#PLASMAMOS LOS DATOS\n",
    "PERIMETRO_TRI"
   ]
  },
  {
   "cell_type": "code",
   "execution_count": 2,
   "metadata": {
    "id": "TP6_UTqd2RJ8"
   },
   "outputs": [
    {
     "name": "stdout",
     "output_type": "stream",
     "text": [
      "El valor de x que maximiza el volumen es: 1.66666666666667\n",
      "El valor de y correspondiente es: 6.66666666666667\n",
      "El valor de r correspondiente es: 3.33333333333333\n",
      "El máximo volumen del cono es: 3.08641975308642*sqrt(3)*pi\n"
     ]
    }
   ],
   "source": [
    "import sympy as sp\n",
    "\n",
    "x = sp.Symbol('x')\n",
    "\n",
    "fv = (1/3) * sp.pi * (5 - x)**2 * ((sp.sqrt(3)/2) * x)\n",
    "\n",
    "dfv= sp.diff(fv, x)\n",
    "\n",
    "pc = sp.solve(dfv, x)\n",
    "\n",
    "volumenes = [fv.subs(x, punto) for punto in pc]\n",
    "\n",
    "\n",
    "maximo_volumen = max(volumenes)\n",
    "\n",
    "\n",
    "valor_x_maximo = [punto for punto, volumen in zip(pc, volumenes) if volumen == maximo_volumen][0]\n",
    "\n",
    "valor_y_maximo = 10 - 2 * valor_x_maximo\n",
    "\n",
    "valor_r_maximo = 5 - valor_x_maximo\n",
    "\n",
    "print(f\"El valor de x que maximiza el volumen es: {valor_x_maximo}\")\n",
    "print(f\"El valor de y correspondiente es: {valor_y_maximo}\")\n",
    "print(f\"El valor de r correspondiente es: {valor_r_maximo}\")\n",
    "print(f\"El máximo volumen del cono es: {maximo_volumen}\")\n"
   ]
  },
  {
   "cell_type": "code",
   "execution_count": null,
   "metadata": {
    "id": "Xhp-ouuj2RJ8"
   },
   "outputs": [],
   "source": []
  },
  {
   "cell_type": "code",
   "execution_count": null,
   "metadata": {
    "id": "0aZBqmqL2RJ8"
   },
   "outputs": [],
   "source": []
  },
  {
   "cell_type": "code",
   "execution_count": null,
   "metadata": {
    "id": "xz-4PZ882RJ8"
   },
   "outputs": [],
   "source": []
  },
  {
   "cell_type": "markdown",
   "metadata": {
    "id": "nAbPTyVw2RJ9"
   },
   "source": [
    "Disponemos de una barra de aluminio de 6 metros para construir una portería de fútbol. Si queremos que el área de la portería sea máxima, ¿cuánto deben medir los postes y el travesaño?"
   ]
  },
  {
   "cell_type": "markdown",
   "metadata": {},
   "source": [
    "*  prmiero planteamos es problema\n",
    "\n",
    "el problema se basa en una proteria y una limitacion de metros \n",
    "* sugerimos una funcion \n",
    "\n",
    "si sabemos que el area es \n",
    "$$ x*y$$\n",
    "\n",
    "esa es la funcion objetivo \n",
    "despues es necesario plantear las restricciones que seia solo la limitacion de 6 metros por los que \n",
    "\n",
    " $$x+x+y+y-6=0$$\n",
    " \n",
    " por ultimo se pasa a cogido \n"
   ]
  },
  {
   "cell_type": "code",
   "execution_count": 3,
   "metadata": {
    "id": "Zqci23HA2RJ9"
   },
   "outputs": [
    {
     "name": "stdout",
     "output_type": "stream",
     "text": [
      "Longitud de los postes (x): 1.4999999999999998\n",
      "Longitud del travesaño (y): 1.5\n",
      "Área máxima de la portería: 2.2499999999999996 metros cuadrados\n"
     ]
    }
   ],
   "source": [
    "from scipy.optimize import minimize\n",
    "\n",
    "\n",
    "def objective(xy):\n",
    "    x, y = xy\n",
    "    return -x * y \n",
    "\n",
    "def constraint(xy):\n",
    "    x, y = xy\n",
    "    return x + x + y + y - 6\n",
    "\n",
    "# Condiciones iniciales para x e y\n",
    "initial_guess = [1, 1]\n",
    "\n",
    "# Definir límites para x e y\n",
    "bounds = [(0, 6), (0, 6)]\n",
    "\n",
    "# Resolver el problema de optimización\n",
    "result = minimize(objective, initial_guess, bounds=bounds, constraints={'type': 'eq', 'fun': constraint})\n",
    "\n",
    "# Extraer las dimensiones óptimas\n",
    "x_optimal, y_optimal = result.x\n",
    "\n",
    "# Calcular el área máxima\n",
    "area_maxima = -result.fun\n",
    "\n",
    "# Imprimir los resultados\n",
    "print(\"Longitud de los postes (x):\", x_optimal)\n",
    "print(\"Longitud del travesaño (y):\", y_optimal)\n",
    "print(\"Área máxima de la portería:\", area_maxima, \"metros cuadrados\")\n",
    "\n"
   ]
  },
  {
   "cell_type": "code",
   "execution_count": null,
   "metadata": {
    "id": "EtVPWi842RJ9"
   },
   "outputs": [],
   "source": []
  },
  {
   "cell_type": "code",
   "execution_count": null,
   "metadata": {
    "id": "ohyjgBvj2RJ9"
   },
   "outputs": [],
   "source": []
  },
  {
   "cell_type": "code",
   "execution_count": null,
   "metadata": {
    "id": "es__pLNs2RJ9"
   },
   "outputs": [],
   "source": []
  },
  {
   "cell_type": "code",
   "execution_count": null,
   "metadata": {
    "id": "9FMs4pst2RJ9"
   },
   "outputs": [],
   "source": []
  }
 ],
 "metadata": {
  "colab": {
   "provenance": []
  },
  "kernelspec": {
   "display_name": "Python 3 (ipykernel)",
   "language": "python",
   "name": "python3"
  },
  "language_info": {
   "codemirror_mode": {
    "name": "ipython",
    "version": 3
   },
   "file_extension": ".py",
   "mimetype": "text/x-python",
   "name": "python",
   "nbconvert_exporter": "python",
   "pygments_lexer": "ipython3",
   "version": "3.11.4"
  }
 },
 "nbformat": 4,
 "nbformat_minor": 1
}

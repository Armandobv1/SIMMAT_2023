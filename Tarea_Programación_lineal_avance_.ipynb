{
  "cells": [
    {
      "cell_type": "markdown",
      "metadata": {
        "id": "bF4Q3flt1dfN"
      },
      "source": [
        "# Tarea - Programación lineal"
      ]
    },
    {
      "cell_type": "markdown",
      "source": [],
      "metadata": {
        "id": "ULsKjiY8arUx"
      }
    },
    {
      "cell_type": "markdown",
      "source": [
        "Jose Armando Borregui Vidrio"
      ],
      "metadata": {
        "id": "K646cU3BavYm"
      }
    },
    {
      "cell_type": "markdown",
      "metadata": {
        "id": "X7eAdLvx1dfV"
      },
      "source": [
        "### Diseño de la Dieta Óptima\n",
        "\n",
        "Se quiere producir comida para gatos de la manera más barata, no obstante se debe también asegurar que se cumplan los datos requeridos de analisis nutricional. Por lo que se quiere variar la cantidad de cada ingrediente para cumplir con los estandares nutricionales. Los requisitos que se tienen es que en $100$ gramos, se deben tener **por lo menos** $8$ gramos de proteína y $6$ gramos de grasa. Así mismo, no se debe tener más de $2$ gramos de fibra y $0.4$ gramos de sal.  \n",
        "\n",
        "Los datos nutricionales se pueden obtener de la siguiente tabla:\n",
        "\n",
        "Ingrediente|Proteína|Grasa|Fibra|Sal\n",
        ":----|----|----|----|----\n",
        "Pollo|  10.0%|08.0%|00.1%|00.2%\n",
        "Carne|  20.0%|10.0%|00.5%|00.5%\n",
        "Cordero|15.0%|11.0%|00.5%|00.7%\n",
        "Arroz|  00.0%|01.0%|10.0%|00.2%\n",
        "Trigo|  04.0%|01.0%|15.0%|00.8%\n",
        "Gel|    00.0%|00.0%|00.0%|00.0%\n",
        "\n",
        "Los costos de cada producto son:\n",
        "\n",
        "Ingrediente|Costo por gramo\n",
        ":----|----\n",
        "Pollo|$\\$$0.013\n",
        "Carne|$\\$$0.008\n",
        "Cordero|$\\$$0.010\n",
        "Arroz|$\\$$0.002\n",
        "Trigo|$\\$$0.005\n",
        "Gel|$\\$$0.001    \n",
        "\n",
        "Lo que se busca optimizar en este caso es la cantidad de productos que se debe utilizar en la comida de gato, minimizando el costo total. Para simplificar la notación use las siguientes variables:\n",
        "\n",
        "+ $x_1:$ Gramos de pollo  \n",
        "+ $x_2:$ Gramos de carne  \n",
        "+ $x_3:$ Gramos de cordero  \n",
        "+ $x_4:$ Gramos de arroz  \n",
        "+ $x_5:$ Gramos de trigo  \n",
        "+ $x_6:$ Gramos de gel\n",
        "\n",
        "La tarea consiste en plantear el problemade programación lineal que permita satisfacer las necesidades alimenticias del gato al tiempo que minimice el costo total y resolverlo con `linprog`."
      ]
    },
    {
      "cell_type": "markdown",
      "source": [
        "Variables:\n",
        "\n",
        "x1: Gramos de pollo\n",
        "x2: Gramos de carne\n",
        "x3: Gramos de cordero\n",
        "x4: Gramos de arroz\n",
        "x5: Gramos de trigo\n",
        "x6: Gramos de gel\n",
        "\n",
        "Función de costo o objetivo (minimizar):\n",
        "Minimizar$$ Z = 0.013 * x1 + 0.008 * x2 + 0.010 * x3 + 0.002 * x4 + 0.005 * x5 + 0.001 * x6$$\n",
        "\n",
        "Restricciones:\n",
        "\n",
        "Proteína:\n",
        "\n",
        " 10% * x1 + 20% * x2 + 15% * x3 + 0% * x4 + 4% * x5 + 0% * x6 >= 8g\n",
        "\n",
        "Grasa:\n",
        "\n",
        "8% * x1 + 10% * x2 + 11% * x3 + 1% * x4 + 1% * x5 + 0% * x6 >= 6g\n",
        "\n",
        "Fibra:\n",
        "\n",
        " 0.1% * x1 + 0.5% * x2 + 0.5% * x3 + 10% * x4 + 15% * x5 + 0% * x6 <= 2g\n",
        "\n",
        "Sal:\n",
        "\n",
        " 0.2% * x1 + 0.5% * x2 + 0.7% * x3 + 0.2% * x4 + 0.8% * x5 + 0% * x6 <= 0.4g\n",
        "Cantidad mínima de cada ingrediente:\n",
        "\n",
        "x1 >= 0\n",
        "\n",
        "x2 >= 0\n",
        "\n",
        "x3 >= 0\n",
        "\n",
        "x4 >= 0\n",
        "\n",
        "x5 >= 0\n",
        "\n",
        "x6 >= 0"
      ],
      "metadata": {
        "id": "IlzfBt2_2pCr"
      }
    },
    {
      "cell_type": "code",
      "source": [],
      "metadata": {
        "id": "7tin6I_E2n2r"
      },
      "execution_count": null,
      "outputs": []
    },
    {
      "cell_type": "code",
      "execution_count": 1,
      "metadata": {
        "colab": {
          "base_uri": "https://localhost:8080/"
        },
        "id": "EkChBLW21dfX",
        "outputId": "0f1433e8-1144-4761-df00-7e2ee89730c8"
      },
      "outputs": [
        {
          "output_type": "stream",
          "name": "stdout",
          "text": [
            "        message: Optimization terminated successfully. (HiGHS Status 7: Optimal)\n",
            "        success: True\n",
            "         status: 0\n",
            "            fun: 0.48\n",
            "              x: [ 0.000e+00  6.000e+01  0.000e+00  0.000e+00  0.000e+00\n",
            "                   0.000e+00]\n",
            "            nit: 1\n",
            "          lower:  residual: [ 0.000e+00  6.000e+01  0.000e+00  0.000e+00\n",
            "                              0.000e+00  0.000e+00]\n",
            "                 marginals: [ 6.600e-03  0.000e+00  1.200e-03  1.200e-03\n",
            "                              4.200e-03  1.000e-03]\n",
            "          upper:  residual: [       inf        inf        inf        inf\n",
            "                                    inf        inf]\n",
            "                 marginals: [ 0.000e+00  0.000e+00  0.000e+00  0.000e+00\n",
            "                              0.000e+00  0.000e+00]\n",
            "          eqlin:  residual: []\n",
            "                 marginals: []\n",
            "        ineqlin:  residual: [ 4.000e+00  0.000e+00  1.700e+00  1.000e-01]\n",
            "                 marginals: [-0.000e+00 -8.000e-02 -0.000e+00 -0.000e+00]\n",
            " mip_node_count: 0\n",
            " mip_dual_bound: 0.0\n",
            "        mip_gap: 0.0\n"
          ]
        }
      ],
      "source": [
        "import numpy as np\n",
        "from scipy.optimize import linprog\n",
        "\n",
        "c = np.array([0.013, 0.008, 0.010, 0.002, 0.005, 0.001])\n",
        "\n",
        "A = np.array([\n",
        "    [-0.10, -0.20, -0.15, 0.00, -0.04, 0.00],  # Proteína\n",
        "    [-0.08, -0.10, -0.11, -0.01, -0.01, 0.00],  # Grasa\n",
        "    [0.001, 0.005, 0.005, -0.10, -0.15, 0.00],  # Fibra\n",
        "    [0.002, 0.005, 0.007, -0.002, -0.008, 0.00],  # Sal\n",
        "])\n",
        "\n",
        "b = np.array([-8, -6, 2, 0.4])\n",
        "\n",
        "x_bounds = [(0, None)] * 6\n",
        "\n",
        "result = linprog(c, A_ub=A, b_ub=b, bounds=x_bounds, method='highs')\n",
        "\n",
        "print(result)\n",
        "\n"
      ]
    },
    {
      "cell_type": "code",
      "execution_count": null,
      "metadata": {
        "id": "1tYHmNtN1dfZ"
      },
      "outputs": [],
      "source": []
    },
    {
      "cell_type": "code",
      "execution_count": null,
      "metadata": {
        "id": "aT07d53d1dfZ"
      },
      "outputs": [],
      "source": []
    },
    {
      "cell_type": "code",
      "execution_count": null,
      "metadata": {
        "id": "n8OhwYdL1dfZ"
      },
      "outputs": [],
      "source": []
    },
    {
      "cell_type": "markdown",
      "metadata": {
        "id": "d8oZKKy21dfa"
      },
      "source": [
        "### Problema de distribución de energía eléctrica\n",
        "\n",
        "La Comisión Federal de Electricidad **(CFE)** dispone de cuatro plantas de generación para satisfacer la demanda diaria eléctrica en cuatro ciudades, Guadalajara, León y Morelia. Las plantas $1$, $2$ y $3$ pueden satisfacer $80$, $40$ y $60$ millones de KW al día respectivamente. Las necesidades de las ciudades de Guadalajara, León y Morelia son de $70$, $40$ y $70$ millones de Kw al día respectivamente.\n",
        "\n",
        "\n",
        "Los costos asociados al envío de suministro energético por cada millón de Kw entre cada planta y cada ciudad son los registrados en la siguiente tabla.\n",
        "\n",
        "-|Guadalajara|León|Morelia\n",
        ":----|----|----|----\n",
        "Planta 1|5|2|7\n",
        "Planta 2|3|6|6\n",
        "Planta 3|6|1|2\n",
        "\n",
        "Y por último, las restricciones del problema, van a estar dadas por las capacidades de oferta y demanda de cada planta (en millones de KW) y cada ciudad.\n",
        "\n",
        "Para simplificar la notación use las siguientes variables:\n",
        "\n",
        "+ $x_1$: Kw (en millones) distribuidos de la Planta 1 a Guadalajara\n",
        "+ $x_2$: Kw (en millones) distribuidos de la Planta 1 a León\n",
        "+ $x_3$: Kw (en millones) distribuidos de la Planta 1 a Morelia\n",
        "+ $x_4$: Kw (en millones) distribuidos de la Planta 2 a Guadalajara\n",
        "+ $x_5$: Kw (en millones) distribuidos de la Planta 2 a León\n",
        "+ $x_6$: Kw (en millones) distribuidos de la Planta 2 a Morelia\n",
        "+ $x_7$: Kw (en millones) distribuidos de la Planta 3 a Guadalajara\n",
        "+ $x_8$: Kw (en millones) distribuidos de la Planta 3 a León\n",
        "+ $x_9$: Kw (en millones) distribuidos de la Planta 3 a Morelia\n",
        "\n",
        "La tarea consiste en plantear el problema de programación lineal que permita satisfacer las necesidades de todas las ciudades al tiempo que minimice los costos asociados a la distribución y resolverlo con `linprog`."
      ]
    },
    {
      "cell_type": "markdown",
      "source": [
        "\n"
      ],
      "metadata": {
        "id": "SsJTFfNc7t_1"
      }
    },
    {
      "cell_type": "markdown",
      "source": [
        "Variables :\n",
        "\n",
        "* guadalajara ----80\n",
        "* Leon------------40\n",
        "* morelia---------60\n",
        "\n",
        "Función de costo o objetivo (minimizar):\n",
        "\n",
        "Minimizar$$\n",
        "\n",
        "Restricciones:\n",
        "\n",
        "* x1 : Kw (en millones) distribuidos de la Planta 1 a Guadalajara\n",
        "* x2 : Kw (en millones) distribuidos de la Planta 1 a León\n",
        "* x3 : Kw (en millones) distribuidos de la Planta 1 a Morelia\n",
        "* x4 : Kw (en millones) distribuidos de la Planta 2 a Guadalajara\n",
        "* x5 : Kw (en millones) distribuidos de la Planta 2 a León\n",
        "* x6 : Kw (en millones) distribuidos de la Planta 2 a Morelia\n",
        "* x7 : Kw (en millones) distribuidos de la Planta 3 a Guadalajara\n",
        "* x8 : Kw (en millones) distribuidos de la Planta 3 a León\n",
        "+ x9 : Kw (en millones) distribuidos de la Planta 3 a Morelia\n",
        "\n",
        "costos :\n",
        "\n",
        "-|Guadalajara|León|Morelia\n",
        ":----|----|----|----\n",
        "Planta 1|5|2|7\n",
        "Planta 2|3|6|6\n",
        "Planta 3|6|1|2\n"
      ],
      "metadata": {
        "id": "i60GHERy-z1y"
      }
    },
    {
      "cell_type": "code",
      "execution_count": 2,
      "metadata": {
        "colab": {
          "base_uri": "https://localhost:8080/",
          "height": 251
        },
        "id": "UVcDk_RU1dfb",
        "outputId": "7ce55862-4e26-4171-a63f-02c1b111e112"
      },
      "outputs": [
        {
          "output_type": "error",
          "ename": "TypeError",
          "evalue": "ignored",
          "traceback": [
            "\u001b[0;31m---------------------------------------------------------------------------\u001b[0m",
            "\u001b[0;31mTypeError\u001b[0m                                 Traceback (most recent call last)",
            "\u001b[0;32m<ipython-input-2-5bcc64907fbd>\u001b[0m in \u001b[0;36m<cell line: 3>\u001b[0;34m()\u001b[0m\n\u001b[1;32m      1\u001b[0m \u001b[0;32mimport\u001b[0m \u001b[0mnumpy\u001b[0m \u001b[0;32mas\u001b[0m \u001b[0mnp\u001b[0m\u001b[0;34m\u001b[0m\u001b[0;34m\u001b[0m\u001b[0m\n\u001b[1;32m      2\u001b[0m \u001b[0;32mimport\u001b[0m \u001b[0mscipy\u001b[0m\u001b[0;34m.\u001b[0m\u001b[0moptimize\u001b[0m \u001b[0;32mas\u001b[0m \u001b[0mopt\u001b[0m\u001b[0;34m\u001b[0m\u001b[0;34m\u001b[0m\u001b[0m\n\u001b[0;32m----> 3\u001b[0;31m c= np.array([5,2,7],\n\u001b[0m\u001b[1;32m      4\u001b[0m             \u001b[0;34m[\u001b[0m\u001b[0;36m3\u001b[0m\u001b[0;34m,\u001b[0m\u001b[0;36m6\u001b[0m\u001b[0;34m,\u001b[0m\u001b[0;36m6\u001b[0m\u001b[0;34m]\u001b[0m\u001b[0;34m,\u001b[0m\u001b[0;34m\u001b[0m\u001b[0;34m\u001b[0m\u001b[0m\n\u001b[1;32m      5\u001b[0m             [6,1,2])\n",
            "\u001b[0;31mTypeError\u001b[0m: array() takes from 1 to 2 positional arguments but 3 were given"
          ]
        }
      ],
      "source": [
        "import numpy as np\n",
        "import scipy.optimize as opt\n",
        "c= np.array([5,2,7],\n",
        "            [3,6,6],\n",
        "            [6,1,2])\n",
        "\n",
        "Aub=np.array([\n",
        "    [1,1,1],\n",
        "    [1,1,1],\n",
        "    [1,1,1]\n",
        "])\n",
        "bub= np.array([80,\n",
        "               40,\n",
        "               60])\n",
        "\n",
        "sol=opt.linprog(c,Aub,bub,\n",
        "                )\n",
        "sol"
      ]
    },
    {
      "cell_type": "code",
      "execution_count": null,
      "metadata": {
        "id": "K3rqLVKm1dfc"
      },
      "outputs": [],
      "source": []
    },
    {
      "cell_type": "code",
      "execution_count": null,
      "metadata": {
        "id": "ZOwBal8A1dfc"
      },
      "outputs": [],
      "source": []
    },
    {
      "cell_type": "code",
      "execution_count": null,
      "metadata": {
        "id": "vWZDvmEZ1dfc"
      },
      "outputs": [],
      "source": []
    }
  ],
  "metadata": {
    "kernelspec": {
      "display_name": "Python 3 (ipykernel)",
      "language": "python",
      "name": "python3"
    },
    "language_info": {
      "codemirror_mode": {
        "name": "ipython",
        "version": 3
      },
      "file_extension": ".py",
      "mimetype": "text/x-python",
      "name": "python",
      "nbconvert_exporter": "python",
      "pygments_lexer": "ipython3",
      "version": "3.8.11"
    },
    "colab": {
      "provenance": []
    }
  },
  "nbformat": 4,
  "nbformat_minor": 0
}
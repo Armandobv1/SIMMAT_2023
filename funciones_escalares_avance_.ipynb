{
  "metadata": {
    "colab": {
      "provenance": []
    },
    "kernelspec": {
      "name": "python",
      "display_name": "Python (Pyodide)",
      "language": "python"
    },
    "language_info": {
      "codemirror_mode": {
        "name": "python",
        "version": 3
      },
      "file_extension": ".py",
      "mimetype": "text/x-python",
      "name": "python",
      "nbconvert_exporter": "python",
      "pygments_lexer": "ipython3",
      "version": "3.8"
    }
  },
  "nbformat_minor": 0,
  "nbformat": 4,
  "cells": [
    {
      "cell_type": "markdown",
      "source": [
        "# Optimización de funciones escalares diferenciables con `SymPy`\n",
        "\n",
        "<img style=\"float: right; margin: 0px 0px 15px 15px;\" src=\"https://upload.wikimedia.org/wikipedia/commons/thumb/b/b6/Extrema_example_es.svg/1200px-Extrema_example_es.svg.png\" width=\"300px\" height=\"100px\" />\n",
        "\n",
        "- Mediante optimización se obtienen soluciones elegantes tanto en teoría como en ciertas aplicaciones.\n",
        "- La teoría de optimización usa elementos comenzando con cálculo elemental y álgebra lineal básica, y luego se extiende con análisis funcional y convexo.\n",
        "- Las aplicaciones en optimización involucran ciencia, ingeniería, economía, finanzas e industria.\n",
        "- El amplio y creciente uso de la optimización lo hace escencial para estudiantes y profesionales de cualquier rama de la ciencia y la tecnología.\n",
        "\n",
        "**Referencia:**\n",
        "- http://www.math.uwaterloo.ca/~hwolkowi//henry/reports/talks.d/t06talks.d/06msribirs.d/optimportance.shtml\n",
        "\n"
      ],
      "metadata": {
        "id": "8vITRYq-Tdwq",
        "jp-MarkdownHeadingCollapsed": true,
        "tags": []
      }
    },
    {
      "cell_type": "markdown",
      "source": [
        "<img style=\"float: right; margin: 0px 0px 15px 15px;\" src=\"https://upload.wikimedia.org/wikipedia/commons/thumb/e/e7/OpenStreetMap_routing_service.png/300px-OpenStreetMap_routing_service.png\" width=\"300px\" height=\"100px\" />\n",
        "\n",
        "### Algunas aplicaciones son:\n",
        "\n",
        "1. **Ingeniería:**\n",
        " - Encontrar la composición de equilibrio de una mezcla de diferentes átomos.\n",
        " - Planeación de ruta para un robot (o vehículo aéreo no tripulado).\n",
        " - Planeación de la mano de obra óptima en una construcción o planta de producción.\n",
        " - Análisis conformacional - Isomería conformacional en modelado molecular\n",
        " - Desempeño en fermentación de productos.\n",
        " - Estimación de parámetros en bioquímica e ingeniería metabólica.\n",
        "\n",
        "\n",
        "2. **Distribución óptima de recursos:**\n",
        " - Distribución de rutas de vuelo.\n",
        " - Encontrar una dieta óptima.\n",
        " - Planeación de ruta óptima.\n",
        "\n",
        "\n",
        "3. **Optimización financiera:**\n",
        " - Administración de riesgos.\n",
        " - Portafolios de inversión.\n",
        " - Problema de maximización de la utilidad.\n",
        " - la calibración de modelos de precios de opciones para datos de mercado\n",
        " - la optimización de la función de utilidad de un agente"
      ],
      "metadata": {
        "id": "gTdZipcKTdwz"
      }
    },
    {
      "cell_type": "markdown",
      "source": [
        "### <p style=\"color:green;\">En esta clase veremos aspectos básicos de optimización. Específicamente, veremos cómo obtener máximos y mínimos de una función escalar de una variable (como en cálculo diferencial).</p>\n",
        "\n",
        "<img style=\"float: center\" src=\"https://matematicasies.com/local/cache-vignettes/L337xH278/extremos-77d0a.png\" width=\"400px\" height=\"100px\" />"
      ],
      "metadata": {
        "id": "iwfHYBvETdw5"
      }
    },
    {
      "cell_type": "markdown",
      "source": [
        "Mínimo local"
      ],
      "metadata": {
        "id": "cabE65l1mgTn"
      }
    },
    {
      "cell_type": "markdown",
      "source": [
        "$$ f(c) < f(c \\pm a)   $$"
      ],
      "metadata": {
        "id": "bNjT1ZQOmgTo"
      }
    },
    {
      "cell_type": "markdown",
      "source": [
        "Mínimo global"
      ],
      "metadata": {
        "id": "LWhwiEW9mgTo"
      }
    },
    {
      "cell_type": "markdown",
      "source": [
        "$$ f(c) < f(c \\pm a)   $$"
      ],
      "metadata": {
        "id": "L41I5FNzmgTp"
      }
    },
    {
      "cell_type": "markdown",
      "source": [
        "___\n",
        "## 0. Librerías que usaremos\n",
        "<img style=\"float: center\" src=\"https://upload.wikimedia.org/wikipedia/commons/thumb/4/4a/Python3-powered_hello-world.svg/1000px-Python3-powered_hello-world.svg.png\" width=\"300px\" height=\"100px\" />\n"
      ],
      "metadata": {
        "id": "7uLPJbcWTdxA"
      }
    },
    {
      "cell_type": "markdown",
      "source": [
        "### 0.1 `NumPy`\n",
        "\n",
        "<img style=\"float: right; margin: 0px 0px 15px 15px;\" src=\"https://numpy.org/images/logos/numpy.svg\" width=\"300px\" height=\"100px\" />\n",
        "\n",
        "`NumPy` (Numerical Python) es la librería fundamental para computación científica (numérica) con `Python`. Contiene, entre otras cosas:\n",
        "- un objeto tipo arreglo N-dimensional muy poderoso\n",
        "- funciones sofisticadas\n",
        "- funciones de álgebra lineal, transformada de Fourier y números aleatorios.\n",
        "\n",
        "Por lo anterior, `NumPy` es de amplio uso entre la comunidad científica e ingenieril (por su manejo de cantidades vectoriales). De la misma manera, se usa para guardar datos. Para nuestros propósitos, se puede usar libremente.\n",
        "\n",
        "**Referencia:**\n",
        "- http://www.numpy.org/"
      ],
      "metadata": {
        "id": "Ik4wEfofTdxF"
      }
    },
    {
      "cell_type": "markdown",
      "source": [
        "`NumPy` ya viene incluido en la instalación estándar de Anaconda por defecto. Para comenzar a usarlo, solo debemos de importarlo:"
      ],
      "metadata": {
        "id": "9O6a9kpVTdxK"
      }
    },
    {
      "cell_type": "markdown",
      "source": [
        "### 0.2 `SymPy`\n",
        "\n",
        "<img style=\"float: right; margin: 0px 0px 15px 15px;\" src=\"http://www.sympy.org/static/images/logo.png\" width=\"300px\" height=\"100px\" />\n",
        "\n",
        "`SymPy` (Symbolic Python) es una librería de `Python` para matemáticas simbólicas. Su objetivo es convertirse en un sistema de álgebra computacional con las mejores características, manteniendo el código lo más simple posible para que sea comprensible.\n",
        "\n",
        "**Referencia:**\n",
        "- http://www.sympy.org/en/index.html"
      ],
      "metadata": {
        "id": "6Ccg3wKhTdxg"
      }
    },
    {
      "cell_type": "markdown",
      "source": [
        "`SymPy` ya viene incluido en la instalación estándar de Anaconda por defecto. Para comenzar a usarlo, solo debemos de importarlo:"
      ],
      "metadata": {
        "id": "T5bDWTY_Tdxl"
      }
    },
    {
      "cell_type": "code",
      "source": [
        "import sympy as sp\n"
      ],
      "metadata": {
        "trusted": true,
        "id": "BN-Ow9vGmgTs"
      },
      "execution_count": null,
      "outputs": []
    },
    {
      "cell_type": "code",
      "source": [
        "import numpy as np"
      ],
      "metadata": {
        "trusted": true,
        "id": "6woJoYD5mgTu"
      },
      "execution_count": null,
      "outputs": []
    },
    {
      "cell_type": "code",
      "source": [
        "np.pi"
      ],
      "metadata": {
        "trusted": true,
        "colab": {
          "base_uri": "https://localhost:8080/"
        },
        "id": "xi2QYYqZmgTv",
        "outputId": "51894fca-14e1-47b9-ca48-8974d1a6c1ec"
      },
      "execution_count": null,
      "outputs": [
        {
          "output_type": "execute_result",
          "data": {
            "text/plain": [
              "3.141592653589793"
            ]
          },
          "metadata": {},
          "execution_count": 3
        }
      ]
    },
    {
      "cell_type": "code",
      "source": [
        "sp.pi"
      ],
      "metadata": {
        "trusted": true,
        "colab": {
          "base_uri": "https://localhost:8080/",
          "height": 38
        },
        "id": "Z-tdLivjmgTw",
        "outputId": "7e793ba1-0240-4dc9-e2b5-e77f35e83133"
      },
      "execution_count": null,
      "outputs": [
        {
          "output_type": "execute_result",
          "data": {
            "text/plain": [
              "pi"
            ],
            "text/latex": "$\\displaystyle \\pi$"
          },
          "metadata": {},
          "execution_count": 4
        }
      ]
    },
    {
      "cell_type": "markdown",
      "source": [
        "# Simbólicos"
      ],
      "metadata": {
        "id": "VDHC0j5ZmgTw"
      }
    },
    {
      "cell_type": "markdown",
      "source": [
        "La funcionalidad de imprimir en formato LaTex que nos da `SymPy` mediante el proyecto `mathjax` hace de `SymPy` una herramienta muy atractiva..."
      ],
      "metadata": {
        "id": "gjOLQEXhTdx5"
      }
    },
    {
      "cell_type": "code",
      "source": [
        "sp.var(\"x\")"
      ],
      "metadata": {
        "trusted": true,
        "colab": {
          "base_uri": "https://localhost:8080/",
          "height": 38
        },
        "id": "6hQAMUo8mgTx",
        "outputId": "c468df8d-c8ab-4986-a86d-bc93e0d1eace"
      },
      "execution_count": null,
      "outputs": [
        {
          "output_type": "execute_result",
          "data": {
            "text/plain": [
              "x"
            ],
            "text/latex": "$\\displaystyle x$"
          },
          "metadata": {},
          "execution_count": 5
        }
      ]
    },
    {
      "cell_type": "code",
      "source": [
        "type (x)"
      ],
      "metadata": {
        "trusted": true,
        "colab": {
          "base_uri": "https://localhost:8080/"
        },
        "id": "tEYURDDpmgTx",
        "outputId": "8c13b207-ae47-43b1-ce02-919b4a38cd63"
      },
      "execution_count": null,
      "outputs": [
        {
          "output_type": "execute_result",
          "data": {
            "text/plain": [
              "sympy.core.symbol.Symbol"
            ]
          },
          "metadata": {},
          "execution_count": 6
        }
      ]
    },
    {
      "cell_type": "code",
      "source": [
        "x**2+34*x"
      ],
      "metadata": {
        "trusted": true,
        "colab": {
          "base_uri": "https://localhost:8080/",
          "height": 38
        },
        "id": "BJG_ACrimgTy",
        "outputId": "24e38c1d-1b4a-4a59-c73f-a69d723e2f46"
      },
      "execution_count": null,
      "outputs": [
        {
          "output_type": "execute_result",
          "data": {
            "text/plain": [
              "x**2 + 34*x"
            ],
            "text/latex": "$\\displaystyle x^{2} + 34 x$"
          },
          "metadata": {},
          "execution_count": 7
        }
      ]
    },
    {
      "cell_type": "code",
      "source": [
        "sp.cos(x)"
      ],
      "metadata": {
        "trusted": true,
        "colab": {
          "base_uri": "https://localhost:8080/",
          "height": 38
        },
        "id": "WkIcu6yFmgTy",
        "outputId": "874a864d-977d-4d07-dc8f-11533f24c4fe"
      },
      "execution_count": null,
      "outputs": [
        {
          "output_type": "execute_result",
          "data": {
            "text/plain": [
              "cos(x)"
            ],
            "text/latex": "$\\displaystyle \\cos{\\left(x \\right)}$"
          },
          "metadata": {},
          "execution_count": 8
        }
      ]
    },
    {
      "cell_type": "code",
      "source": [
        "sp.log(x)\n"
      ],
      "metadata": {
        "trusted": true,
        "colab": {
          "base_uri": "https://localhost:8080/",
          "height": 38
        },
        "id": "PTG5rv_RmgTy",
        "outputId": "1256e0a9-9577-4c37-db58-a1d70f6b154f"
      },
      "execution_count": null,
      "outputs": [
        {
          "output_type": "execute_result",
          "data": {
            "text/plain": [
              "log(x)"
            ],
            "text/latex": "$\\displaystyle \\log{\\left(x \\right)}$"
          },
          "metadata": {},
          "execution_count": 9
        }
      ]
    },
    {
      "cell_type": "code",
      "source": [
        "sp.sin(2)"
      ],
      "metadata": {
        "trusted": true,
        "colab": {
          "base_uri": "https://localhost:8080/",
          "height": 37
        },
        "id": "TFG1jZ2TmgTz",
        "outputId": "f64b4a38-b45f-4730-8608-caab0a0971cd"
      },
      "execution_count": null,
      "outputs": [
        {
          "output_type": "execute_result",
          "data": {
            "text/plain": [
              "sin(2)"
            ],
            "text/latex": "$\\displaystyle \\sin{\\left(2 \\right)}$"
          },
          "metadata": {},
          "execution_count": 19
        }
      ]
    },
    {
      "cell_type": "code",
      "source": [
        "\n"
      ],
      "metadata": {
        "trusted": true,
        "id": "qp7n3va7mgT0"
      },
      "execution_count": null,
      "outputs": []
    },
    {
      "cell_type": "markdown",
      "source": [
        "Notar que en `SymPy` y en `NumPy` existen funciones con el mismo nombre, pero reciben tipos de datos diferentes..."
      ],
      "metadata": {
        "id": "UrAXbps6Tdx-"
      }
    },
    {
      "cell_type": "code",
      "source": [
        "sp.sqrt(x)"
      ],
      "metadata": {
        "trusted": true,
        "colab": {
          "base_uri": "https://localhost:8080/",
          "height": 37
        },
        "id": "XyjBhO7gmgT1",
        "outputId": "a264b87b-7d2e-4712-8b87-0ab0846b05cc"
      },
      "execution_count": null,
      "outputs": [
        {
          "output_type": "execute_result",
          "data": {
            "text/plain": [
              "sqrt(x)"
            ],
            "text/latex": "$\\displaystyle \\sqrt{x}$"
          },
          "metadata": {},
          "execution_count": 22
        }
      ]
    },
    {
      "cell_type": "code",
      "source": [
        "sp.var(\"y\")"
      ],
      "metadata": {
        "trusted": true,
        "colab": {
          "base_uri": "https://localhost:8080/",
          "height": 38
        },
        "id": "MuiwhkEDmgT1",
        "outputId": "e66e9e0e-d409-4cfa-de1a-051c8fde0a70"
      },
      "execution_count": null,
      "outputs": [
        {
          "output_type": "execute_result",
          "data": {
            "text/plain": [
              "y"
            ],
            "text/latex": "$\\displaystyle y$"
          },
          "metadata": {},
          "execution_count": 23
        }
      ]
    },
    {
      "cell_type": "code",
      "source": [],
      "metadata": {
        "id": "-G3tvl8ImgT1"
      },
      "execution_count": null,
      "outputs": []
    },
    {
      "cell_type": "code",
      "source": [],
      "metadata": {
        "id": "e5TLQdeVmgT2"
      },
      "execution_count": null,
      "outputs": []
    },
    {
      "cell_type": "code",
      "source": [],
      "metadata": {
        "id": "6kfgUii6mgT2"
      },
      "execution_count": null,
      "outputs": []
    },
    {
      "cell_type": "markdown",
      "source": [
        "Explicar el uso de la sintaxis `from numpy import *` y sus peligros (**no recomendable**)."
      ],
      "metadata": {
        "id": "KeFOROWHTdyj"
      }
    },
    {
      "cell_type": "code",
      "source": [],
      "metadata": {
        "id": "Akr_PIo9mgT2"
      },
      "execution_count": null,
      "outputs": []
    },
    {
      "cell_type": "markdown",
      "source": [
        "### 0.3 `PyPlot` de `matplotlib`\n",
        "\n",
        "<img style=\"float: right; margin: 0px 0px 15px 15px;\" src=\"https://matplotlib.org/_static/logo2.svg\" width=\"300px\" height=\"100px\" />\n",
        "\n",
        "El módulo `PyPlot` de la librería `matplotlib` contiene funciones que nos permite generar una gran cantidad de gráficas rápidamente. Las funciones de este módulo están escritas con el mismo nombre que las funciones para graficar en `Matlab`.\n",
        "\n",
        "**Referencia:**\n",
        "- https://matplotlib.org/api/pyplot_summary.html"
      ],
      "metadata": {
        "id": "PApadjXXTdy1"
      }
    },
    {
      "cell_type": "code",
      "source": [
        "import matplotlib.pyplot as plt\n"
      ],
      "metadata": {
        "trusted": true,
        "id": "BL_r92CpmgT3"
      },
      "execution_count": null,
      "outputs": []
    },
    {
      "cell_type": "code",
      "source": [
        "plt.figure()\n",
        "\n",
        "x=[0,1,2,3]\n",
        "y=[2,3,4,5]\n",
        "plt.figure(figsize=(10,10))\n",
        "plt.plot(x,y)\n",
        "plt.grid()"
      ],
      "metadata": {
        "trusted": true,
        "colab": {
          "base_uri": "https://localhost:8080/",
          "height": 847
        },
        "id": "sDPMQmELmgT3",
        "outputId": "0d9951e6-9cc3-45c8-bdb0-768d5da698c2"
      },
      "execution_count": null,
      "outputs": [
        {
          "output_type": "display_data",
          "data": {
            "text/plain": [
              "<Figure size 640x480 with 0 Axes>"
            ]
          },
          "metadata": {}
        },
        {
          "output_type": "display_data",
          "data": {
            "text/plain": [
              "<Figure size 1000x1000 with 1 Axes>"
            ],
            "image/png": "[encoded data removed]"
          },
          "metadata": {}
        }
      ]
    },
    {
      "cell_type": "code",
      "source": [
        "x= np.linspace(-3,3,201)\n",
        "y= x**2+np.sin(10*x)\n",
        "\n",
        "plt.figure()\n",
        "plt.plot(x,y)\n"
      ],
      "metadata": {
        "trusted": true,
        "colab": {
          "base_uri": "https://localhost:8080/",
          "height": 447
        },
        "id": "a8wTIQOAmgT3",
        "outputId": "ea06eef3-6af6-402d-f223-4249cc3cbee2"
      },
      "execution_count": null,
      "outputs": [
        {
          "output_type": "execute_result",
          "data": {
            "text/plain": [
              "[<matplotlib.lines.Line2D at 0x7f6560f4c6d0>]"
            ]
          },
          "metadata": {},
          "execution_count": 26
        },
        {
          "output_type": "display_data",
          "data": {
            "text/plain": [
              "<Figure size 640x480 with 1 Axes>"
            ],
            "image/png": "[encoded data removed]"
          },
          "metadata": {}
        }
      ]
    },
    {
      "cell_type": "code",
      "source": [
        "x= np.linspace(0,10,1001)\n",
        "y=np.e**(-x*np.sin(3*x))\n",
        "\n",
        "\n",
        "\n",
        "plt.figure()\n",
        "plt.plot(x,y)\n"
      ],
      "metadata": {
        "trusted": true,
        "colab": {
          "base_uri": "https://localhost:8080/",
          "height": 447
        },
        "id": "66Q5rut4mgT4",
        "outputId": "85684fd3-e42b-4bfe-8ad2-939564421c89"
      },
      "execution_count": null,
      "outputs": [
        {
          "output_type": "execute_result",
          "data": {
            "text/plain": [
              "[<matplotlib.lines.Line2D at 0x7f6560fb9d80>]"
            ]
          },
          "metadata": {},
          "execution_count": 27
        },
        {
          "output_type": "display_data",
          "data": {
            "text/plain": [
              "<Figure size 640x480 with 1 Axes>"
            ],
            "image/png": "[encoded data removed]"
          },
          "metadata": {}
        }
      ]
    },
    {
      "cell_type": "code",
      "source": [
        "import numpy as np"
      ],
      "metadata": {
        "trusted": true,
        "id": "aK3_U6NJmgT4"
      },
      "execution_count": null,
      "outputs": []
    },
    {
      "cell_type": "code",
      "source": [],
      "metadata": {
        "id": "5uo2bEp9mgT5"
      },
      "execution_count": null,
      "outputs": []
    },
    {
      "cell_type": "code",
      "source": [],
      "metadata": {
        "id": "Ba4y1okamgT6"
      },
      "execution_count": null,
      "outputs": []
    },
    {
      "cell_type": "code",
      "source": [],
      "metadata": {
        "id": "KwJme-MgmgT6"
      },
      "execution_count": null,
      "outputs": []
    },
    {
      "cell_type": "markdown",
      "source": [
        "## 1. Teorema de Fermat (análisis)\n",
        "\n",
        "Si una función $f(x)$ alcanza un máximo o mínimo local en $x=c$, y si la derivada $f'(c)$ existe en el punto $c$, entonces $f'(c) = 0$."
      ],
      "metadata": {
        "id": "O8veHX8PTdzJ"
      }
    },
    {
      "cell_type": "markdown",
      "source": [
        "### Ejemplo\n",
        "\n",
        "$$ f(x) = -x^2 - 2 $$"
      ],
      "metadata": {
        "jp-MarkdownHeadingCollapsed": true,
        "tags": [],
        "id": "wU9rJzn2mgT6"
      }
    },
    {
      "cell_type": "markdown",
      "source": [
        "$$ f'(x) = -2x $$"
      ],
      "metadata": {
        "id": "gCDyESPSmgT7"
      }
    },
    {
      "cell_type": "markdown",
      "source": [
        "$$ f'(x) = 0 $$"
      ],
      "metadata": {
        "id": "Xy89BGGNmgT7"
      }
    },
    {
      "cell_type": "markdown",
      "source": [
        "$$ -2x = 0 $$"
      ],
      "metadata": {
        "id": "y6CyQ3KvmgT7"
      }
    },
    {
      "cell_type": "markdown",
      "source": [
        "$$ x = 0 $$"
      ],
      "metadata": {
        "id": "B7005iDOmgT8"
      }
    },
    {
      "cell_type": "markdown",
      "source": [
        "### Ejemplo\n",
        "\n",
        "Sabemos que la función $f(x)=(x-2)^2$ tiene un mínimo global en $x=2$, pues\n",
        "\n",
        "$$f(x)=(x-2)^2\\geq0,\\qquad\\text{y}\\qquad f(x)=(x-2)^2=0 \\qquad\\text{si y solo si}\\qquad x=2.$$"
      ],
      "metadata": {
        "id": "ZEUcqZoPTdzO"
      }
    },
    {
      "cell_type": "code",
      "source": [
        "import sympy as sp\n",
        "sp.var(\"x\")\n",
        "f= (x-2)**2\n",
        "f"
      ],
      "metadata": {
        "trusted": true,
        "colab": {
          "base_uri": "https://localhost:8080/",
          "height": 39
        },
        "id": "fvvzeMLamgT8",
        "outputId": "0ebb2c4c-22ef-434a-b7c2-77a06d331ec0"
      },
      "execution_count": null,
      "outputs": [
        {
          "output_type": "execute_result",
          "data": {
            "text/plain": [
              "(x - 2)**2"
            ],
            "text/latex": "$\\displaystyle \\left(x - 2\\right)^{2}$"
          },
          "metadata": {},
          "execution_count": 33
        }
      ]
    },
    {
      "cell_type": "code",
      "source": [
        "#dertivamos la funcion\n",
        "df= sp.diff(f,x)\n",
        "df"
      ],
      "metadata": {
        "trusted": true,
        "colab": {
          "base_uri": "https://localhost:8080/",
          "height": 38
        },
        "id": "sF5bpNjamgT9",
        "outputId": "e5d078e6-8734-481d-eb10-eb0d2c95adc4"
      },
      "execution_count": null,
      "outputs": [
        {
          "output_type": "execute_result",
          "data": {
            "text/plain": [
              "2*x - 4"
            ],
            "text/latex": "$\\displaystyle 2 x - 4$"
          },
          "metadata": {},
          "execution_count": 34
        }
      ]
    },
    {
      "cell_type": "code",
      "source": [
        "pc=sp.solve(df,x)\n",
        "pc"
      ],
      "metadata": {
        "trusted": true,
        "colab": {
          "base_uri": "https://localhost:8080/"
        },
        "id": "_Lyuor-mmgT9",
        "outputId": "f45aea63-7189-462b-fa6b-332148fa93fb"
      },
      "execution_count": null,
      "outputs": [
        {
          "output_type": "execute_result",
          "data": {
            "text/plain": [
              "[2]"
            ]
          },
          "metadata": {},
          "execution_count": 35
        }
      ]
    },
    {
      "cell_type": "code",
      "source": [
        "sp.solve(x**2+3*x-4)"
      ],
      "metadata": {
        "trusted": true,
        "colab": {
          "base_uri": "https://localhost:8080/"
        },
        "id": "tqogZkR2mgT9",
        "outputId": "07518dd7-93f7-45c2-ee74-916854030a8a"
      },
      "execution_count": null,
      "outputs": [
        {
          "output_type": "execute_result",
          "data": {
            "text/plain": [
              "[-4, 1]"
            ]
          },
          "metadata": {},
          "execution_count": 36
        }
      ]
    },
    {
      "cell_type": "code",
      "source": [],
      "metadata": {
        "id": "Qlyy23NFmgT-"
      },
      "execution_count": null,
      "outputs": []
    },
    {
      "cell_type": "code",
      "source": [],
      "metadata": {
        "id": "UWppKfQhmgT-"
      },
      "execution_count": null,
      "outputs": []
    },
    {
      "cell_type": "code",
      "source": [],
      "metadata": {
        "id": "FYrrUZS_mgT_"
      },
      "execution_count": null,
      "outputs": []
    },
    {
      "cell_type": "code",
      "source": [],
      "metadata": {
        "id": "G0JkhJEgmgT_"
      },
      "execution_count": null,
      "outputs": []
    },
    {
      "cell_type": "markdown",
      "source": [
        "### **Otra manera de hacer lo anterior**\n",
        "\n",
        "Revisemos el concepto de función en `Python`"
      ],
      "metadata": {
        "id": "67SkgnjhTd1g"
      }
    },
    {
      "cell_type": "code",
      "source": [
        "def f(x):\n",
        "    return (x-2)**2"
      ],
      "metadata": {
        "trusted": true,
        "id": "hA3qktjXmgT_"
      },
      "execution_count": null,
      "outputs": []
    },
    {
      "cell_type": "code",
      "source": [
        "f(x)"
      ],
      "metadata": {
        "trusted": true,
        "colab": {
          "base_uri": "https://localhost:8080/",
          "height": 39
        },
        "id": "gwXqy43NmgUA",
        "outputId": "79992c8a-37b0-4e3a-8738-0c6908273367"
      },
      "execution_count": null,
      "outputs": [
        {
          "output_type": "execute_result",
          "data": {
            "text/plain": [
              "(x - 2)**2"
            ],
            "text/latex": "$\\displaystyle \\left(x - 2\\right)^{2}$"
          },
          "metadata": {},
          "execution_count": 38
        }
      ]
    },
    {
      "cell_type": "code",
      "source": [
        "df= sp.diff(f(x),x)\n",
        "pc= sp.solve(df,x)\n",
        "print(\"El punto critico esta en\"+ str(pc))"
      ],
      "metadata": {
        "trusted": true,
        "colab": {
          "base_uri": "https://localhost:8080/"
        },
        "id": "5yJ1Q5ScmgUA",
        "outputId": "aeab6b82-d0cb-4551-db08-489f06e406ef"
      },
      "execution_count": null,
      "outputs": [
        {
          "output_type": "stream",
          "name": "stdout",
          "text": [
            "El punto critico esta en[2]\n"
          ]
        }
      ]
    },
    {
      "cell_type": "code",
      "source": [
        "import sympy as sp\n",
        "sp.var(\"x\")\n",
        "f= (x-2)**3\n",
        "f"
      ],
      "metadata": {
        "trusted": true,
        "colab": {
          "base_uri": "https://localhost:8080/",
          "height": 39
        },
        "id": "lH7Vz2QsmgUA",
        "outputId": "98341a84-8b81-4013-8edc-7d65ea699919"
      },
      "execution_count": null,
      "outputs": [
        {
          "output_type": "execute_result",
          "data": {
            "text/plain": [
              "(x - 2)**3"
            ],
            "text/latex": "$\\displaystyle \\left(x - 2\\right)^{3}$"
          },
          "metadata": {},
          "execution_count": 40
        }
      ]
    },
    {
      "cell_type": "code",
      "source": [],
      "metadata": {
        "id": "v02oEjG3mgUB"
      },
      "execution_count": null,
      "outputs": []
    },
    {
      "cell_type": "code",
      "source": [],
      "metadata": {
        "id": "4cHONKCKmgUB"
      },
      "execution_count": null,
      "outputs": []
    },
    {
      "cell_type": "markdown",
      "source": [
        "**El converso del teorema anterior no es cierto.**\n",
        "\n",
        "### Actividad\n",
        "Considere $g(x)=(x-2)^3$.\n",
        "- Usando `sympy`, muestre que $g'(2)=0$.\n",
        "- Sin embargo, descartar que $x=2$ es un extremo de $g(x)$ viendo su **gráfica**."
      ],
      "metadata": {
        "id": "nJKkfvTVTd2y"
      }
    },
    {
      "cell_type": "code",
      "source": [
        "def f(x):\n",
        "    return (x-2)**3\n",
        "f(x)"
      ],
      "metadata": {
        "trusted": true,
        "colab": {
          "base_uri": "https://localhost:8080/",
          "height": 39
        },
        "id": "cpAbEVCPmgUB",
        "outputId": "d7d15f21-bbc2-47f8-ed96-4994a37d957a"
      },
      "execution_count": null,
      "outputs": [
        {
          "output_type": "execute_result",
          "data": {
            "text/plain": [
              "(x - 2)**3"
            ],
            "text/latex": "$\\displaystyle \\left(x - 2\\right)^{3}$"
          },
          "metadata": {},
          "execution_count": 41
        }
      ]
    },
    {
      "cell_type": "code",
      "source": [
        "df= sp.diff(f(x),x)\n",
        "pc= sp.solve(df,x)\n",
        "print(\"El punto critico esta en\"+ str(pc))"
      ],
      "metadata": {
        "trusted": true,
        "colab": {
          "base_uri": "https://localhost:8080/"
        },
        "id": "a8A3AtpHmgUB",
        "outputId": "ae87b2e4-f62d-462a-fcac-1b9873eb3a07"
      },
      "execution_count": null,
      "outputs": [
        {
          "output_type": "stream",
          "name": "stdout",
          "text": [
            "El punto critico esta en[2]\n"
          ]
        }
      ]
    },
    {
      "cell_type": "code",
      "source": [
        "x= np.linspace(-1,5)\n",
        "\n",
        "y= (x-2)**3\n",
        "plt.figure()\n",
        "plt.plot(x,y)\n",
        "plt.plot(2,(2),\"*\",ms=10)"
      ],
      "metadata": {
        "trusted": true,
        "colab": {
          "base_uri": "https://localhost:8080/",
          "height": 447
        },
        "id": "OM20UQv0mgUC",
        "outputId": "4447c43d-7a3f-40c2-fe6b-74ddd1e567f9"
      },
      "execution_count": null,
      "outputs": [
        {
          "output_type": "execute_result",
          "data": {
            "text/plain": [
              "[<matplotlib.lines.Line2D at 0x7f656086af50>]"
            ]
          },
          "metadata": {},
          "execution_count": 43
        },
        {
          "output_type": "display_data",
          "data": {
            "text/plain": [
              "<Figure size 640x480 with 1 Axes>"
            ],
            "image/png": "[encoded data removed]"
          },
          "metadata": {}
        }
      ]
    },
    {
      "cell_type": "markdown",
      "source": [
        "el punto 2 no es un minimo ni un maximo debido a que  se ve como baja y como sube por lo que solo es un punto critico"
      ],
      "metadata": {
        "id": "988Y31QQmgUC"
      }
    },
    {
      "cell_type": "code",
      "source": [],
      "metadata": {
        "id": "aBUkRJS_mgUC"
      },
      "execution_count": null,
      "outputs": []
    },
    {
      "cell_type": "markdown",
      "source": [
        "## 2. Criterio de la segunda derivada\n",
        "\n",
        "Sea $f(x)$ una función tal que $f’(c)=0$ y cuya segunda derivada existe en un intervalo abierto que contiene a $c$.\n",
        "- Si $f’’(c)>0$, entonces $f(c)$ es un mínimo relativo.\n",
        "- Si $f’’(c)<0$, entonces $f(c)$ es un máximo relativo.\n",
        "- Si $f’’(c)=0$, entonces el criterio no decide."
      ],
      "metadata": {
        "id": "5cHqWJmcTd3A"
      }
    },
    {
      "cell_type": "markdown",
      "source": [
        "### Ejemplo\n",
        "\n",
        "Mostrar, usando `sympy`, que la función $f(x)=(x-2)^2$ tiene un mínimo relativo en $x=2$.\n",
        "\n",
        "Ya vimos que $f'(2)=0$. Notemos que:"
      ],
      "metadata": {
        "id": "l4NcYjskTd3G"
      }
    },
    {
      "cell_type": "code",
      "source": [
        "import sympy as sp\n",
        "x= sp.symbols (\"x\")\n",
        "f= (x-2)**2\n",
        "fd= sp.diff (f,x)"
      ],
      "metadata": {
        "trusted": true,
        "id": "XVGi9yiGmgUD"
      },
      "execution_count": 1,
      "outputs": []
    },
    {
      "cell_type": "code",
      "source": [
        "fd"
      ],
      "metadata": {
        "trusted": true,
        "colab": {
          "base_uri": "https://localhost:8080/",
          "height": 38
        },
        "id": "8AtvkC5JmgUE",
        "outputId": "3c5552f9-98c3-469f-d062-19ba22226b90"
      },
      "execution_count": 2,
      "outputs": [
        {
          "output_type": "execute_result",
          "data": {
            "text/plain": [
              "2*x - 4"
            ],
            "text/latex": "$\\displaystyle 2 x - 4$"
          },
          "metadata": {},
          "execution_count": 2
        }
      ]
    },
    {
      "cell_type": "code",
      "source": [
        "f2d= sp.diff(fd,x)\n",
        "f2den2= f2d.subs(x,2)\n",
        "print(f2den2)"
      ],
      "metadata": {
        "trusted": true,
        "colab": {
          "base_uri": "https://localhost:8080/"
        },
        "id": "lXp8ODvlmgUE",
        "outputId": "5d840b96-e438-4966-fc5f-1328498e69d8"
      },
      "execution_count": 3,
      "outputs": [
        {
          "output_type": "stream",
          "name": "stdout",
          "text": [
            "2\n"
          ]
        }
      ]
    },
    {
      "cell_type": "code",
      "source": [
        "if f2den2 > 0:\n",
        "    print(\"El punto x = 2 es un mínimo relativo.\")\n",
        "elif f2den2< 0:\n",
        "    print(\"El punto x = 2 es un máximo relativo.\")\n",
        "else:\n",
        "    print(\"El criterio no decide en x = 2.\")"
      ],
      "metadata": {
        "trusted": true,
        "colab": {
          "base_uri": "https://localhost:8080/"
        },
        "id": "Hz6b3dnrmgUE",
        "outputId": "773db441-7ad6-4120-96e3-ed8697f97dba"
      },
      "execution_count": 4,
      "outputs": [
        {
          "output_type": "stream",
          "name": "stdout",
          "text": [
            "El punto x = 2 es un mínimo relativo.\n"
          ]
        }
      ]
    },
    {
      "cell_type": "markdown",
      "source": [
        "Por tanto, por el criterio de la segunda derivada, $f(2)=0$ es un mínimo relativo (en efecto, el mínimo global)."
      ],
      "metadata": {
        "id": "IMiFjnaMTd32"
      }
    },
    {
      "cell_type": "markdown",
      "source": [
        "### Ejemplo\n",
        "¿Qué pasa con $g(x)=(x-2)^3$ al intentar utilizar el criterio de la segunda derivada? (usar `sympy`)."
      ],
      "metadata": {
        "id": "LRddFOZBTd36"
      }
    },
    {
      "cell_type": "markdown",
      "source": [
        "Como $g''(2)=0$ entonces el criterio de la segunda derivada no concluye."
      ],
      "metadata": {
        "id": "rQXsRXMZTd4k"
      }
    },
    {
      "cell_type": "code",
      "source": [
        "x= sp.symbols (\"x\")\n",
        "g= (x-2)**3"
      ],
      "metadata": {
        "trusted": true,
        "id": "yVhs70E9mgUG"
      },
      "execution_count": 5,
      "outputs": []
    },
    {
      "cell_type": "code",
      "source": [
        "gd= sp.diff(g,x)\n",
        "gd"
      ],
      "metadata": {
        "trusted": true,
        "colab": {
          "base_uri": "https://localhost:8080/",
          "height": 39
        },
        "id": "PAgdtRtOmgUH",
        "outputId": "89e9d163-cbc2-44e4-d227-9ea5c34d1653"
      },
      "execution_count": 6,
      "outputs": [
        {
          "output_type": "execute_result",
          "data": {
            "text/plain": [
              "3*(x - 2)**2"
            ],
            "text/latex": "$\\displaystyle 3 \\left(x - 2\\right)^{2}$"
          },
          "metadata": {},
          "execution_count": 6
        }
      ]
    },
    {
      "cell_type": "code",
      "source": [
        "g2d= sp.diff(gd,x)\n",
        "g2d"
      ],
      "metadata": {
        "trusted": true,
        "colab": {
          "base_uri": "https://localhost:8080/",
          "height": 38
        },
        "id": "rppOIZ3xmgUH",
        "outputId": "c3acb62d-77ea-4d19-dcbb-1361c9c8b15d"
      },
      "execution_count": 7,
      "outputs": [
        {
          "output_type": "execute_result",
          "data": {
            "text/plain": [
              "6*x - 12"
            ],
            "text/latex": "$\\displaystyle 6 x - 12$"
          },
          "metadata": {},
          "execution_count": 7
        }
      ]
    },
    {
      "cell_type": "code",
      "source": [
        "g2den2= g2d.subs(x,2)\n",
        "g2den2"
      ],
      "metadata": {
        "trusted": true,
        "colab": {
          "base_uri": "https://localhost:8080/",
          "height": 37
        },
        "id": "SrxxFq-FmgUH",
        "outputId": "c9c99221-e74f-4613-ce11-a7cbab2da648"
      },
      "execution_count": 8,
      "outputs": [
        {
          "output_type": "execute_result",
          "data": {
            "text/plain": [
              "0"
            ],
            "text/latex": "$\\displaystyle 0$"
          },
          "metadata": {},
          "execution_count": 8
        }
      ]
    },
    {
      "cell_type": "markdown",
      "source": [
        "el criterio de la segunda derivada no concluye\n"
      ],
      "metadata": {
        "id": "hmG3bxEFmgUI"
      }
    },
    {
      "cell_type": "code",
      "source": [],
      "metadata": {
        "id": "1phC-KjqmgUI"
      },
      "execution_count": null,
      "outputs": []
    },
    {
      "cell_type": "code",
      "source": [],
      "metadata": {
        "id": "baW-PrMumgUI"
      },
      "execution_count": null,
      "outputs": []
    },
    {
      "cell_type": "markdown",
      "source": [
        "### Ejemplo de sistema de ecuaciones"
      ],
      "metadata": {
        "id": "NLbMsH2ImgUI"
      }
    },
    {
      "cell_type": "markdown",
      "source": [
        "$$ x + y = 4 $$\n",
        "\n",
        "$$ x - 3y = 7 $$"
      ],
      "metadata": {
        "id": "6fpyd57vmgUI"
      }
    },
    {
      "cell_type": "code",
      "source": [],
      "metadata": {
        "id": "pe_Q6sI9mgUJ"
      },
      "execution_count": null,
      "outputs": []
    },
    {
      "cell_type": "code",
      "source": [],
      "metadata": {
        "id": "_dA-R3XKmgUJ"
      },
      "execution_count": null,
      "outputs": []
    },
    {
      "cell_type": "code",
      "source": [],
      "metadata": {
        "id": "bHoYgwpMmgUJ"
      },
      "execution_count": null,
      "outputs": []
    },
    {
      "cell_type": "markdown",
      "source": [
        "### Actividad\n",
        "\n",
        "¿Qué pasa con $h(x)=(x-2)^4$ al intentar utilizar el criterio de la segunda derivada?."
      ],
      "metadata": {
        "id": "EtrhIC04Td4n"
      }
    },
    {
      "cell_type": "code",
      "source": [
        "import sympy as sp\n",
        "\n",
        "x = sp.symbols('x')\n",
        "\n",
        "h = (x - 2)**4\n",
        "\n",
        "\n",
        "hd = sp.diff(h, x)\n",
        "h2d = sp.diff(hd, x)\n",
        "\n",
        "\n",
        "h2den2 = h2d.subs(x, 2)\n",
        "\n",
        "\n",
        "print(\"Segunda derivada en x = 2:\", h2den2)\n",
        "\n",
        "\n",
        "if h2den2 > 0:\n",
        "    print(\"La función tiene un mínimo relativo en x = 2.\")\n",
        "elif h2den2 < 0:\n",
        "    print(\"La función tiene un máximo relativo en x = 2.\")\n",
        "else:\n",
        "    print(\"El criterio de la segunda derivada no concluye en x = 2.\")\n",
        "\n"
      ],
      "metadata": {
        "trusted": true,
        "colab": {
          "base_uri": "https://localhost:8080/"
        },
        "id": "37MZrLqDmgUJ",
        "outputId": "78c90dd7-b4a1-4093-89c4-910727687475"
      },
      "execution_count": null,
      "outputs": [
        {
          "output_type": "stream",
          "name": "stdout",
          "text": [
            "Segunda derivada en x = 2: 0\n",
            "El criterio de la segunda derivada no concluye en x = 2.\n"
          ]
        }
      ]
    },
    {
      "cell_type": "code",
      "source": [],
      "metadata": {
        "id": "3r23xCKSmgUK"
      },
      "execution_count": null,
      "outputs": []
    },
    {
      "cell_type": "code",
      "source": [],
      "metadata": {
        "id": "VNQZdT8vmgUK"
      },
      "execution_count": null,
      "outputs": []
    },
    {
      "cell_type": "markdown",
      "source": [
        "## 3. Método para determinar extremos absolutos de una función continua y=f(x) en [a,b]\n",
        "\n",
        "- Determinar todos los valores críticos $c_1, c_2, c_3, \\dots, c_n$ en $(a,b)$.\n",
        "- Evaluar $f$ en todos los valores críticos y en los extremos $x=a$ y $x=b$.\n",
        "- El más grande y el más pequeño de los valores de la lista $f(a), f(b), f(c_1), f(c_2), \\dots, f(c_n)$ son el máximo absoluto y el mínimo absoluto, respectivamente, de $f$ en el intervalo $[a,b]$."
      ],
      "metadata": {
        "id": "ADXxt3lLTd43"
      }
    },
    {
      "cell_type": "markdown",
      "source": [
        "### Ejemplo\n",
        "\n",
        "Determinar los extremos absolutos de $f(x)=x^2-2x+5$ en $\\left[0,3\\right]$.\n",
        "\n",
        "Obtenemos los puntos críticos de $f$ en $\\left[0,3\\right]$:"
      ],
      "metadata": {
        "id": "HiedyU4lTd5B"
      }
    },
    {
      "cell_type": "code",
      "source": [],
      "metadata": {
        "id": "1n03RYoUmgUL"
      },
      "execution_count": null,
      "outputs": []
    },
    {
      "cell_type": "markdown",
      "source": [
        "Evaluamos $f$ en los extremos y en los puntos críticos:"
      ],
      "metadata": {
        "id": "wDmIoTF7Td5h"
      }
    },
    {
      "cell_type": "code",
      "source": [],
      "metadata": {
        "id": "Wb-joPpsmgUM"
      },
      "execution_count": null,
      "outputs": []
    },
    {
      "cell_type": "markdown",
      "source": [
        "### Actividad\n",
        "Determinar los valores extremos absolutos de  $f(x) = (x-3)^2(x+3)^2$ en el intervalo $[-4,\\,4]$, usando `sympy`. Mostrar en una gráfica."
      ],
      "metadata": {
        "id": "iVZJEjM3Td6Q"
      }
    },
    {
      "cell_type": "code",
      "source": [
        "import sympy as sp\n",
        "import matplotlib.pyplot as plt\n",
        "import numpy as np\n",
        "\n",
        "x = sp.symbols('x')\n",
        "\n",
        "f = (x - 3)**2 * (x + 3)**2\n",
        "\n",
        "fd = sp.diff(f, x)\n",
        "\n",
        "pc= sp.solve(fd, x)\n",
        "\n",
        "vapc = [f.subs(x, cp) for cp in pc]\n",
        "vaie = [f.subs(x, -4), f.subs(x, 4)]\n",
        "\n",
        "max_value = max(vapc+ vaie)\n",
        "min_value = min(vapc + vaie)\n",
        "\n",
        "print(\"Valor máximo:\", max_value)\n",
        "print(\"Valor mínimo:\", min_value)\n",
        "\n",
        "x_range = np.linspace(-4, 4, 400)\n",
        "f_values = [f.subs(x, val) for val in x_range]\n",
        "\n",
        "plt.figure(figsize=(8, 6))\n",
        "plt.plot(x_range, f_values, label='$f(x) = (x - 3)^2 (x + 3)^2$')\n",
        "\n",
        "plt.title('Gráfica de la función y sus valores extremos')\n",
        "\n",
        "plt.legend()\n",
        "plt.grid()\n",
        "plt.show()\n"
      ],
      "metadata": {
        "trusted": true,
        "colab": {
          "base_uri": "https://localhost:8080/",
          "height": 580
        },
        "id": "CWXmx00_mgUN",
        "outputId": "b18ce056-19b9-4feb-ebb8-a15b379a7ec3"
      },
      "execution_count": null,
      "outputs": [
        {
          "output_type": "stream",
          "name": "stdout",
          "text": [
            "Valor máximo: 81\n",
            "Valor mínimo: 0\n"
          ]
        },
        {
          "output_type": "display_data",
          "data": {
            "text/plain": [
              "<Figure size 800x600 with 1 Axes>"
            ],
            "image/png": "[encoded data removed]"
          },
          "metadata": {}
        }
      ]
    },
    {
      "cell_type": "code",
      "source": [],
      "metadata": {
        "id": "WR5UT4bdmgUO"
      },
      "execution_count": null,
      "outputs": []
    },
    {
      "cell_type": "code",
      "source": [],
      "metadata": {
        "id": "7FyGPM-XmgUO"
      },
      "execution_count": null,
      "outputs": []
    },
    {
      "cell_type": "markdown",
      "source": [
        "---\n",
        "1. **Resistencia de una viga**  Una viga de madera tiene una sección transversal rectangular de altura $h$ y ancho $w$. La resistencia $S$ de la viga es directamente proporcional al ancho y al cuadrado de su altura ($S=kwh^2$, donde $k$ es una constante de proporcionalidad). ¿Cuáles son las dimensiones de la viga más fuerte que puede cortarse a partir de un leño redondo de $24$ pulgadas de diámetro?"
      ],
      "metadata": {
        "id": "LXIpWIJSmgUP"
      }
    },
    {
      "cell_type": "code",
      "source": [
        "import numpy as np\n",
        "import matplotlib.pyplot as plt\n",
        "import matplotlib.patches as patches\n",
        "\n",
        "C = patches.Circle((0, 0),12, fill=False,color='brown',lw=4)\n",
        "S = patches.Rectangle((-9,-8),18,16,fill=False,color='k')\n",
        "ax = plt.gca()\n",
        "ax.add_artist(S)\n",
        "ax.add_artist(C)\n",
        "\n",
        "plt.text(0,8.5,'$w$')\n",
        "plt.text(9.5,0,'$h$')\n",
        "\n",
        "plt.plot([-9,9],[-8,8],'r--')\n",
        "plt.text(0,2,'$24$')\n",
        "\n",
        "plt.axis('equal')\n",
        "plt.ylim([-15,15])\n",
        "plt.axis('off')\n",
        "plt.show()"
      ],
      "metadata": {
        "colab": {
          "base_uri": "https://localhost:8080/",
          "height": 406
        },
        "id": "gJnTX5I7mgUP",
        "outputId": "5571af1e-dec3-4a2f-d60f-08553fe48497"
      },
      "execution_count": null,
      "outputs": [
        {
          "output_type": "display_data",
          "data": {
            "text/plain": [
              "<Figure size 640x480 with 1 Axes>"
            ],
            "image/png": "[encoded data removed]"
          },
          "metadata": {}
        }
      ]
    },
    {
      "cell_type": "code",
      "source": [
        "import sympy as sp\n",
        "\n",
        "w, h = sp.symbols('w h')\n",
        "\n",
        "diameter = 24\n",
        "\n",
        "c_a = sp.pi * (diameter / 2)**2\n",
        "\n",
        "h_constante = sp.solve(w**2 + h**2 - (diameter / 2)**2, h)[0]\n",
        "\n",
        "k = sp.Symbol('k')\n",
        "resistencia = k * w * h**2\n",
        "\n",
        "resistenciayconstante = resistencia.subs(h, h_constante)\n",
        "\n",
        "max_resistencia = sp.solve(sp.diff(resistenciayconstante, w), w)\n",
        "\n",
        "optimo = h_constante.subs(w, max_resistencia[0])\n",
        "\n",
        "print(\"Ancho óptimo w:\", max_resistencia[0])\n",
        "print(\"Altura óptima h:\", optimo)\n",
        "print(\"Máxima resistencia S:\", resistencia.subs([(w, max_resistencia[0]), (h, optimo)]))\n"
      ],
      "metadata": {
        "trusted": true,
        "id": "xaABMSUXmgUQ",
        "outputId": "10b48370-7edd-4bc7-fbd4-b2ef85511bb4",
        "colab": {
          "base_uri": "https://localhost:8080/"
        }
      },
      "execution_count": null,
      "outputs": [
        {
          "output_type": "stream",
          "name": "stdout",
          "text": [
            "Ancho óptimo w: -6.92820323027551\n",
            "Altura óptima h: -9.79795897113271\n",
            "Máxima resistencia S: -665.107510106449*k\n"
          ]
        }
      ]
    },
    {
      "cell_type": "code",
      "source": [],
      "metadata": {
        "id": "bNoeJbWVmgUQ"
      },
      "execution_count": null,
      "outputs": []
    },
    {
      "cell_type": "code",
      "source": [],
      "metadata": {
        "id": "pw0SwDXImgUQ"
      },
      "execution_count": null,
      "outputs": []
    },
    {
      "cell_type": "markdown",
      "source": [
        "---\n",
        "2. **Iluminación**  Una fuente luminosa se localiza sobre el centro de una mesa circular de $4 pies$ de diámetro. Encontrar la altura $h$ de la fuente luminosa de modo tal que la iluminación $I$ en el perímetro de la mesa sea máxima si $I=k(\\sin \\alpha)/s^2$, donde $s$ es la altura oblicua, $\\alpha$ es el ángulo al cual la luz incide sobre la mesa y $k$ es una constante (El valor de esta última constante es irrelevante para el problema, ya que no se pide el valor de la iluminación)."
      ],
      "metadata": {
        "id": "bQZTHIzWmgUR"
      }
    },
    {
      "cell_type": "code",
      "source": [
        "E = patches.Ellipse((0, 0),10, 3,fc='white',ec='brown')\n",
        "C = patches.Circle((0,10.5),0.5,color='y')\n",
        "a = patches.Arc((-5,0),2,2,theta2=60)\n",
        "p1 = patches.Rectangle((-5, -2),0.5, 2, fill=False,color='brown')\n",
        "p2 = patches.Rectangle((4.5, -2),0.5, 2, fill=False,color='brown')\n",
        "p3 = patches.Rectangle((-0.25, -3),0.5, 2, fill=False,color='brown')\n",
        "ax = plt.gca()\n",
        "ax.add_artist(p1)\n",
        "ax.add_artist(p2)\n",
        "ax.add_artist(p3)\n",
        "ax.add_artist(E)\n",
        "ax.add_artist(C)\n",
        "ax.add_artist(a)\n",
        "\n",
        "plt.text(2,5,'$s$')\n",
        "plt.text(0,3,'$h$')\n",
        "plt.text(-4,0.5,r'$\\alpha$')\n",
        "plt.text(-0.5,-1,'$4$ pies')\n",
        "\n",
        "plt.plot([-5,0,5],[0,10,0],'y--')\n",
        "plt.plot([-5,5],[0,0],'k--')\n",
        "plt.plot([0,0],[0,10],'k--')\n",
        "\n",
        "\n",
        "plt.axis('equal')\n",
        "plt.ylim([-3.1,12])\n",
        "plt.axis('off')\n",
        "plt.show()"
      ],
      "metadata": {
        "trusted": true,
        "colab": {
          "base_uri": "https://localhost:8080/",
          "height": 406
        },
        "id": "upbIDH-UmgUR",
        "outputId": "90b6b4ec-e005-45f6-8bf1-644f181b7b82"
      },
      "execution_count": null,
      "outputs": [
        {
          "output_type": "display_data",
          "data": {
            "text/plain": [
              "<Figure size 640x480 with 1 Axes>"
            ],
            "image/png": "[encoded data removed]"
          },
          "metadata": {}
        }
      ]
    },
    {
      "cell_type": "code",
      "source": [],
      "metadata": {
        "id": "2VFC3VBcmgUR"
      },
      "execution_count": null,
      "outputs": []
    },
    {
      "cell_type": "markdown",
      "source": [
        "3. **Fuerza mínima**  Se diseña un componente para deslizar un bloque de acero con peso $W=10 N$ a través de una mesa y sobre una canaleta. Se opone al movimiento del bloque una fuerza de fricción proporcional a su peso aparente (sea $k=0.1$ la constante de proporcionalidad). Determinar la fuerza mínima $f$ necesaria para deslizar el bloque y encontrar el valor correspondiente de $\\theta$.\n",
        "\n",
        "Ayudín: $f\\cos \\theta$ es la fuerza de dirección del movimiento, y $f\\sin\\theta$ es la fuerza que tiende a levantar el bloque. De tal modo, el peso aparente del bloque es $W-f\\sin\\theta$."
      ],
      "metadata": {
        "id": "FJkGw-UlmgUR"
      }
    },
    {
      "cell_type": "code",
      "source": [
        "import patches\n",
        "\n",
        "W = patches.Rectangle((0, 2),0.8, 0.5, fill=False,color='k')\n",
        "a = patches.Arrow(0.8,2.25,1,0.5,width=0.1,color='k')\n",
        "arc = patches.Arc((0.8,2.25),1,1,theta2=30)\n",
        "ax = plt.gca()\n",
        "ax.add_artist(W)\n",
        "ax.add_artist(a)\n",
        "ax.add_artist(arc)\n",
        "\n",
        "plt.text(0.2,2.6,'$W$')\n",
        "plt.text(1.8,3,'$f$')\n",
        "plt.text(1.35,2.305,r'$\\theta$')\n",
        "\n",
        "plt.plot([1.8,2.8],[2.75,3.25],'k')\n",
        "plt.plot([0.8,2],[2.25,2.25],'k--')\n",
        "plt.plot([-1,-1,2,2],[0,2,2,0],'k')\n",
        "\n",
        "\n",
        "plt.axis('equal')\n",
        "plt.ylim([0,4])\n",
        "plt.axis('off')\n",
        "plt.show()"
      ],
      "metadata": {
        "id": "EpzCCI6YmgUS",
        "outputId": "913486b2-d349-4fed-9bcf-5329fa00a762",
        "colab": {
          "base_uri": "https://localhost:8080/",
          "height": 394
        }
      },
      "execution_count": null,
      "outputs": [
        {
          "output_type": "error",
          "ename": "ModuleNotFoundError",
          "evalue": "ignored",
          "traceback": [
            "\u001b[0;31m---------------------------------------------------------------------------\u001b[0m",
            "\u001b[0;31mModuleNotFoundError\u001b[0m                       Traceback (most recent call last)",
            "\u001b[0;32m<ipython-input-10-856c6bea347f>\u001b[0m in \u001b[0;36m<cell line: 1>\u001b[0;34m()\u001b[0m\n\u001b[0;32m----> 1\u001b[0;31m \u001b[0;32mimport\u001b[0m \u001b[0mpatches\u001b[0m\u001b[0;34m\u001b[0m\u001b[0;34m\u001b[0m\u001b[0m\n\u001b[0m\u001b[1;32m      2\u001b[0m \u001b[0;34m\u001b[0m\u001b[0m\n\u001b[1;32m      3\u001b[0m \u001b[0mW\u001b[0m \u001b[0;34m=\u001b[0m \u001b[0mpatches\u001b[0m\u001b[0;34m.\u001b[0m\u001b[0mRectangle\u001b[0m\u001b[0;34m(\u001b[0m\u001b[0;34m(\u001b[0m\u001b[0;36m0\u001b[0m\u001b[0;34m,\u001b[0m \u001b[0;36m2\u001b[0m\u001b[0;34m)\u001b[0m\u001b[0;34m,\u001b[0m\u001b[0;36m0.8\u001b[0m\u001b[0;34m,\u001b[0m \u001b[0;36m0.5\u001b[0m\u001b[0;34m,\u001b[0m \u001b[0mfill\u001b[0m\u001b[0;34m=\u001b[0m\u001b[0;32mFalse\u001b[0m\u001b[0;34m,\u001b[0m\u001b[0mcolor\u001b[0m\u001b[0;34m=\u001b[0m\u001b[0;34m'k'\u001b[0m\u001b[0;34m)\u001b[0m\u001b[0;34m\u001b[0m\u001b[0;34m\u001b[0m\u001b[0m\n\u001b[1;32m      4\u001b[0m \u001b[0ma\u001b[0m \u001b[0;34m=\u001b[0m \u001b[0mpatches\u001b[0m\u001b[0;34m.\u001b[0m\u001b[0mArrow\u001b[0m\u001b[0;34m(\u001b[0m\u001b[0;36m0.8\u001b[0m\u001b[0;34m,\u001b[0m\u001b[0;36m2.25\u001b[0m\u001b[0;34m,\u001b[0m\u001b[0;36m1\u001b[0m\u001b[0;34m,\u001b[0m\u001b[0;36m0.5\u001b[0m\u001b[0;34m,\u001b[0m\u001b[0mwidth\u001b[0m\u001b[0;34m=\u001b[0m\u001b[0;36m0.1\u001b[0m\u001b[0;34m,\u001b[0m\u001b[0mcolor\u001b[0m\u001b[0;34m=\u001b[0m\u001b[0;34m'k'\u001b[0m\u001b[0;34m)\u001b[0m\u001b[0;34m\u001b[0m\u001b[0;34m\u001b[0m\u001b[0m\n\u001b[1;32m      5\u001b[0m \u001b[0marc\u001b[0m \u001b[0;34m=\u001b[0m \u001b[0mpatches\u001b[0m\u001b[0;34m.\u001b[0m\u001b[0mArc\u001b[0m\u001b[0;34m(\u001b[0m\u001b[0;34m(\u001b[0m\u001b[0;36m0.8\u001b[0m\u001b[0;34m,\u001b[0m\u001b[0;36m2.25\u001b[0m\u001b[0;34m)\u001b[0m\u001b[0;34m,\u001b[0m\u001b[0;36m1\u001b[0m\u001b[0;34m,\u001b[0m\u001b[0;36m1\u001b[0m\u001b[0;34m,\u001b[0m\u001b[0mtheta2\u001b[0m\u001b[0;34m=\u001b[0m\u001b[0;36m30\u001b[0m\u001b[0;34m)\u001b[0m\u001b[0;34m\u001b[0m\u001b[0;34m\u001b[0m\u001b[0m\n",
            "\u001b[0;31mModuleNotFoundError\u001b[0m: No module named 'patches'",
            "",
            "\u001b[0;31m---------------------------------------------------------------------------\u001b[0;32m\nNOTE: If your import is failing due to a missing package, you can\nmanually install dependencies using either !pip or !apt.\n\nTo view examples of installing some common dependencies, click the\n\"Open Examples\" button below.\n\u001b[0;31m---------------------------------------------------------------------------\u001b[0m\n"
          ],
          "errorDetails": {
            "actions": [
              {
                "action": "open_url",
                "actionText": "Open Examples",
                "url": "/notebooks/snippets/importing_libraries.ipynb"
              }
            ]
          }
        }
      ]
    },
    {
      "cell_type": "markdown",
      "source": [
        "$$ f \\cos{\\theta} = k(W - f \\sin{\\theta})$$"
      ],
      "metadata": {
        "id": "RFfjusUlmgUS"
      }
    },
    {
      "cell_type": "markdown",
      "source": [
        "$$ f \\cos{\\theta} = k(W - f \\sin{\\theta})$$"
      ],
      "metadata": {
        "id": "jXH6CbecmgUT"
      }
    },
    {
      "cell_type": "markdown",
      "source": [
        "$$ f \\cos{\\theta} = kW - kf \\sin{\\theta}$$"
      ],
      "metadata": {
        "id": "aMkVTV5imgUV"
      }
    },
    {
      "cell_type": "markdown",
      "source": [
        "$$ f \\cos{\\theta} + kf \\sin{\\theta}= kW $$"
      ],
      "metadata": {
        "id": "GAonEWmSmgUW"
      }
    },
    {
      "cell_type": "markdown",
      "source": [
        "$$ f ( \\cos{\\theta} + k \\sin{\\theta}) = kW$$"
      ],
      "metadata": {
        "id": "qO174p9YmgUW"
      }
    },
    {
      "cell_type": "markdown",
      "source": [
        "$$ f = \\frac{kW}{ \\cos{\\theta} + k \\sin{\\theta}}$$"
      ],
      "metadata": {
        "id": "k5mNnABmmgUX"
      }
    },
    {
      "cell_type": "code",
      "source": [],
      "metadata": {
        "id": "QLJteTs2mgUX"
      },
      "execution_count": null,
      "outputs": []
    },
    {
      "cell_type": "code",
      "source": [],
      "metadata": {
        "id": "E3fjQCf2mgUX"
      },
      "execution_count": null,
      "outputs": []
    },
    {
      "cell_type": "code",
      "source": [],
      "metadata": {
        "id": "bhZjsCVUmgUY"
      },
      "execution_count": null,
      "outputs": []
    },
    {
      "cell_type": "markdown",
      "source": [
        "### En varias variables...\n",
        "\n",
        "El procedimiento es análogo.\n",
        "\n",
        "Si una función $f:\\mathbb{R}^n\\to\\mathbb{R}$ alcanza un máximo o mínimo local en $\\boldsymbol{x}=\\boldsymbol{c}\\in\\mathbb{R}^n$, y $f$ es diferenciable en el punto $\\boldsymbol{x}=\\boldsymbol{c}$, entonces $\\left.\\frac{\\partial f}{\\partial \\boldsymbol{x}}\\right|_{\\boldsymbol{x}=\\boldsymbol{c}}=\\boldsymbol{0}$ (todas las derivadas parciales en el punto $\\boldsymbol{x}=\\boldsymbol{c}$ son cero).\n",
        "\n",
        "**Criterio de la segunda derivada:** para ver si es máximo o mínimo, se toma la segunda derivada (matriz Hessiana) y se verifica definición negativa o positiva, respectivamente.\n",
        "\n",
        "Si se restringe a cierta región, hay ciertas técnicas. La más general, pero también la más compleja es la de **multiplicadores de Lagrange**."
      ],
      "metadata": {
        "id": "e0CgigELTd6-"
      }
    },
    {
      "cell_type": "markdown",
      "source": [
        "**Ejemplo:** Determinar los valores extremo de $z(x,y)= (x-3)^2 + (y+5)^2$ usando el criterio de la segunda derivada y corroborarlo con la gráfica."
      ],
      "metadata": {
        "id": "Gm1hrxEXTd7B"
      }
    },
    {
      "cell_type": "code",
      "source": [],
      "metadata": {
        "id": "KiKgl_pXmgUY"
      },
      "execution_count": null,
      "outputs": []
    }
  ]
}
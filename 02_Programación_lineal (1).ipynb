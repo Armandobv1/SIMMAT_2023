{
  "cells": [
    {
      "cell_type": "markdown",
      "metadata": {
        "id": "FM7aTrInw1NN"
      },
      "source": [
        "# Programación lineal"
      ]
    },
    {
      "cell_type": "markdown",
      "metadata": {
        "id": "KVsfB3DZw1NQ"
      },
      "source": [
        "> La programación lineal es el campo de la optimización matemática dedicado a maximizar o minimizar (optimizar) funciones lineales, denominada función objetivo, de tal forma que las variables de dicha función estén sujetas a una serie de restricciones expresadas mediante un sistema de ecuaciones o inecuaciones también lineales.\n",
        "\n",
        "\n",
        "<img style=\"float: right; margin: 0px 0px 15px 15px;\" src=\"https://upload.wikimedia.org/wikipedia/commons/thumb/0/0c/Linear_Programming_Feasible_Region.svg/2000px-Linear_Programming_Feasible_Region.svg.png\" width=\"400px\" height=\"125px\" />\n",
        "\n",
        "<img style=\"float: center\" src=\"https://upload.wikimedia.org/wikipedia/commons/thumb/e/ef/3dpoly.svg/220px-3dpoly.svg.png\" width=\"350px\" height=\"125px\" />\n",
        "\n",
        "\n",
        "**Referencias:**\n",
        "- https://es.wikipedia.org/wiki/Programaci%C3%B3n_lineal\n",
        "- https://docs.scipy.org/doc/scipy-0.18.1/reference/optimize.html\n",
        "- http://bdigital.unal.edu.co/5037/4/guillermojimenezlozano.2006_Parte1.pdf"
      ]
    },
    {
      "cell_type": "markdown",
      "metadata": {
        "id": "y_7-8Nrcw1NR"
      },
      "source": [
        "## 1. Apuntes históricos\n",
        "\n",
        "<img style=\"float: right\" src=\"https://upload.wikimedia.org/wikipedia/commons/5/5e/JohnvonNeumann-LosAlamos.gif\" width=\"200px\" height=\"125px\" />\n",
        "\n",
        "\n",
        "- 1826:\tJoseph Fourier anticipa la programación lineal. Carl Friedrich Gauss resuelve ecuaciones lineales por eliminación \"gaussiana\".\n",
        "- 1902:\tGyula Farkas concibe un método para resolver sistemas de inecuaciones.\n",
        "- Es hasta la Segunda Guerra Mundial que se plantea la programación lineal como un modelo matemático para planificar gastos y retornos, de modo que se reduzcan costos de guerra y aumentar pérdidas del enemigo. Secreto hasta 1947 (posguerra).\n",
        "- 1947:\tGeorge Dantzig publica el algoritmo simplex y John von Neumann desarrolló la teoría de la dualidad. Se sabe que Leonid Kantoróvich también formuló la teoría en forma independiente.\n",
        "- Fue usado por muchas industrias en la planificación diaria.\n",
        "\n",
        "**Hasta acá, tiempos exponenciales de solución. Lo siguiente, tiempo polinomial.**\n",
        "\n",
        "- 1979: Leonid Khachiyan, diseñó el llamado Algoritmo del elipsoide, a través del cual demostró que el problema de la programación lineal es resoluble de manera eficiente, es decir, en tiempo polinomial.\n",
        "- 1984: Narendra Karmarkar introduce el método del punto interior para resolver problemas de programación lineal.\n",
        "\n",
        "<img style=\"float: center\" src=\"https://upload.wikimedia.org/wikipedia/commons/thumb/e/ef/Simplex-description-en.svg/240px-Simplex-description-en.svg.png\" width=\"200px\" height=\"125px\" />"
      ]
    },
    {
      "cell_type": "markdown",
      "metadata": {
        "id": "LQ6PnaFnw1NS"
      },
      "source": [
        " $$ y \\geq 3x + 4 $$"
      ]
    },
    {
      "cell_type": "markdown",
      "metadata": {
        "id": "kMiKuhyww1NT"
      },
      "source": [
        "## 2. Problemas de programación lineal\n",
        "\n",
        "### 2.1. Ejemplo básico\n",
        "Una multinacional farmacéutica desea fabricar un compuesto nutritivo a base de dos productos A y B.  El producto A contiene  $30\\%$ de proteínas,  un $1\\%$ de grasas y un  $10\\%$ de azúcares.  El producto B  contiene  un  $5\\%$  de proteínas,  un  $7\\%$ de grasas  y un  $10\\%$  de  azúcares.\n",
        "\n",
        "El compuesto debe de tener,  al menos, $25g$ de proteínas,  $6g$ de grasas y $30g$ de azúcares.  El coste del producto A es de $0.6$ u.m./g  y el de B es de $0.2$  u.m./g\n",
        "\n",
        "Se desea encontrar la cantidad en gramos de cada producto para que el coste total sea mínimo.\n",
        "\n",
        "Formular el problema de decidir cuánto hacer de cada producto como un problema de programación lineal."
      ]
    },
    {
      "cell_type": "markdown",
      "metadata": {
        "id": "Ss2xe0qmw1NT"
      },
      "source": [
        "#### Solución\n",
        "\n"
      ]
    },
    {
      "cell_type": "markdown",
      "metadata": {
        "id": "r8FrzMsnw1NU"
      },
      "source": [
        "Solución gráfica:"
      ]
    },
    {
      "cell_type": "markdown",
      "source": [
        "1.- funcion de costo\n",
        "-criterio de optimizacion\n",
        "\n",
        "minimizar\n",
        "\n",
        "\n",
        "-variables sobre las que tengo control\n",
        "   \n",
        "   XA --> Gramos en a\n",
        "   \n",
        "   XB --> GRAMOS DE B\n",
        "\n",
        "   FUNCION MIN 0.6AX + 0.2XB\n",
        "\n",
        "   RESTRICCIONES\n",
        "\n",
        "   1-.$$ 0.3 x_A +0.05 x_B \\geq 25 $$\n",
        "\n",
        "   2.- $$ x_B\\geq \\frac{25-0.3 x_A}{0.05} $$\n",
        "   \n",
        "\n",
        "   3.- $$ 0.1 x_A +0.1\n",
        "\n",
        "formulas finales\n"
      ],
      "metadata": {
        "id": "CDGwHup6RA2O"
      }
    },
    {
      "cell_type": "code",
      "source": [
        "import matplotlib.pyplot as plt\n",
        "\n",
        "import numpy as np\n",
        "\n",
        "xA = np.linspace (0,400,1000)\n",
        "\n",
        "def r1(xA):\n",
        "  return (25-0.3* xA)/0.05\n",
        "def r2(xA):\n",
        "  return (6- 0.01*xA)/0.07\n",
        "def r3 (xA):\n",
        "  return (30-0.1*xA)/0.1\n"
      ],
      "metadata": {
        "id": "jFZLvRpBQzkV"
      },
      "execution_count": null,
      "outputs": []
    },
    {
      "cell_type": "code",
      "source": [
        "plt.figure()\n",
        "plt.plot(xA,r1(xA),\"r\",label=\"proteina\")\n",
        "plt.plot(xA,r2(xA),\"g\",label=\"grasa\")\n",
        "plt.plot(xA,r3(xA),\"b\",label=\"azucar\")\n",
        "\n",
        "plt.ylim([0,300])\n",
        "plt.legend(loc=\"best\")\n",
        "plt.grid()\n"
      ],
      "metadata": {
        "colab": {
          "base_uri": "https://localhost:8080/",
          "height": 435
        },
        "id": "0sgpsm_pQ1Fi",
        "outputId": "f7dffaf4-634a-4de9-fc4b-856275e7ed90"
      },
      "execution_count": null,
      "outputs": [
        {
          "output_type": "display_data",
          "data": {
            "text/plain": [
              "<Figure size 640x480 with 1 Axes>"
            ],
            "image/png": "[encoded data removed]"
          },
          "metadata": {}
        }
      ]
    },
    {
      "cell_type": "code",
      "source": [
        "import sympy as sp\n",
        "sp.var(\"x\")\n",
        "ecuacion =r1(x)-r3(x)\n",
        "ecuacion"
      ],
      "metadata": {
        "colab": {
          "base_uri": "https://localhost:8080/",
          "height": 38
        },
        "id": "I5Y0q9GLY2ml",
        "outputId": "5867f888-e656-4c7c-aa36-4cdae107576e"
      },
      "execution_count": null,
      "outputs": [
        {
          "output_type": "execute_result",
          "data": {
            "text/plain": [
              "200.0 - 5.0*x"
            ],
            "text/latex": "$\\displaystyle 200.0 - 5.0 x$"
          },
          "metadata": {},
          "execution_count": 17
        }
      ]
    },
    {
      "cell_type": "code",
      "source": [
        "sp.solve(ecuacion,x)\n"
      ],
      "metadata": {
        "colab": {
          "base_uri": "https://localhost:8080/"
        },
        "id": "vsa0VGZOY3iU",
        "outputId": "97c26ece-9cc6-45cf-d0df-7a338c1bb71f"
      },
      "execution_count": null,
      "outputs": [
        {
          "output_type": "execute_result",
          "data": {
            "text/plain": [
              "[40.0000000000000]"
            ]
          },
          "metadata": {},
          "execution_count": 19
        }
      ]
    },
    {
      "cell_type": "code",
      "source": [
        "#evaluamos el´x´ para encontrar ´y´\n",
        "r1(40)"
      ],
      "metadata": {
        "colab": {
          "base_uri": "https://localhost:8080/"
        },
        "id": "hVRGW9ssZtfC",
        "outputId": "4a2da63f-43a0-4a9d-e8d5-f9a5f4e715a4"
      },
      "execution_count": null,
      "outputs": [
        {
          "output_type": "execute_result",
          "data": {
            "text/plain": [
              "260.0"
            ]
          },
          "metadata": {},
          "execution_count": 21
        }
      ]
    },
    {
      "cell_type": "code",
      "source": [
        "ecuacion=r2(x)-r3(x)\n",
        "x_sol =sp.solve(ecuacion,x)[0]\n",
        "x_sol,r2(x_sol)"
      ],
      "metadata": {
        "colab": {
          "base_uri": "https://localhost:8080/"
        },
        "id": "PTBWtpf6aITk",
        "outputId": "ccbe455e-5123-43f5-ceb4-fb6df5f3ec34"
      },
      "execution_count": null,
      "outputs": [
        {
          "output_type": "execute_result",
          "data": {
            "text/plain": [
              "(250.000000000000, 50.0000000000000)"
            ]
          },
          "metadata": {},
          "execution_count": 23
        }
      ]
    },
    {
      "cell_type": "code",
      "source": [
        "def costo (xA,xB):\n",
        "  return 0.6*xA+ 0.2*xB\n",
        "  costo(40,260)"
      ],
      "metadata": {
        "id": "Nmg_Nx5kbG5g"
      },
      "execution_count": null,
      "outputs": []
    },
    {
      "cell_type": "code",
      "source": [
        "costo(250,50)"
      ],
      "metadata": {
        "colab": {
          "base_uri": "https://localhost:8080/"
        },
        "id": "tCCXIcYUbtat",
        "outputId": "0e78c238-f209-42e0-8646-04e00e27276c"
      },
      "execution_count": null,
      "outputs": [
        {
          "output_type": "execute_result",
          "data": {
            "text/plain": [
              "160.0"
            ]
          },
          "metadata": {},
          "execution_count": 27
        }
      ]
    },
    {
      "cell_type": "code",
      "source": [],
      "metadata": {
        "id": "WvQ6GXoFb4KM"
      },
      "execution_count": null,
      "outputs": []
    },
    {
      "cell_type": "markdown",
      "source": [
        "la combinacion que cubre las restriciones nutricionales es\n",
        "\n",
        "\n",
        "*   40 A\n",
        "*   260 b\n",
        "\n"
      ],
      "metadata": {
        "id": "An9v9Uxib4qa"
      }
    },
    {
      "cell_type": "markdown",
      "metadata": {
        "id": "YtsODYuew1NV"
      },
      "source": [
        "### 2.2. Ejemplo básico 2\n",
        "Una  fábrica  de  carrocerías  de  automóviles  y camiones  tiene  dos naves.\n",
        "\n",
        "+ En  la nave A,  para  hacer  la  carrocería  de  un  camión,  se  invierten  siete  días-operario,  para  fabricar  la  de  un  coche  se  precisan dos días-operario.\n",
        "\n",
        "+ En la nave B se invierten tres días operario tanto en carrocerías de camión como de coche.\n",
        "\n",
        "Por limitaciones de mano de obra y maquinaria, la nave A dispone de $300$ días operario, y la nave B de $270$ días-operario.\n",
        "\n",
        "Si los beneficios que se obtienen por cada camión son de $600$ u.m y por  cada  automóvil  $200$ u.m,  ¿cuántas  unidades  de  cada  uno  se deben  producir  para maximizar las  ganancias?\n",
        "\n",
        "**Nota:** el problema $\\max_{\\boldsymbol{x}}\\boldsymbol{g}(\\boldsymbol{x})$ es equivalente a $\\min_{\\boldsymbol{x}}-\\boldsymbol{g}(\\boldsymbol{x})$."
      ]
    },
    {
      "cell_type": "code",
      "source": [],
      "metadata": {
        "id": "2a5TRYgRZr3v"
      },
      "execution_count": null,
      "outputs": []
    },
    {
      "cell_type": "markdown",
      "source": [
        "criterio de optimizacion\n",
        "\n",
        "-maximizar\n",
        "\n",
        "2.variable que puedo modificar\n",
        "\n",
        "\n",
        "*   carroserias de camiones en A\n",
        "*   carroserias de  autos en A\n",
        "*   carroserias de camiones en b\n",
        "*   carroserias de autos en b\n",
        "\n",
        "3- $$ 600Xac+600Xabc+200Xaa+200Xac $$\n",
        "\n",
        "4.-RESTRICCIONES\n",
        "\n",
        "5.-\n",
        "$$ 600Xac+600Xabc+200Xaa+200Xac $$\n",
        "\n",
        "$$ 7XAC+2XAA+0XBC+ 0XBA $$\n",
        "\n"
      ],
      "metadata": {
        "id": "FhLcBQ_ZcqWy"
      }
    },
    {
      "cell_type": "code",
      "source": [
        "import scipy.optimize as opt\n",
        "import numpy as np\n",
        "c= np.array([-600,\n",
        "             -200,\n",
        "             -600,\n",
        "             -200])\n",
        "Aub= np.array ([[7,2,0,0],\n",
        "                [0,0,3,3]\n",
        "                ])\n",
        "bub=np.array([300,\n",
        "              270])\n",
        "opt.linprog(c,Aub,bub)"
      ],
      "metadata": {
        "colab": {
          "base_uri": "https://localhost:8080/"
        },
        "id": "3UYZ21H0clFI",
        "outputId": "a373924b-63a7-4516-b150-41c37c58bd08"
      },
      "execution_count": null,
      "outputs": [
        {
          "output_type": "execute_result",
          "data": {
            "text/plain": [
              "        message: Optimization terminated successfully. (HiGHS Status 7: Optimal)\n",
              "        success: True\n",
              "         status: 0\n",
              "            fun: -84000.0\n",
              "              x: [ 0.000e+00  1.500e+02  9.000e+01  0.000e+00]\n",
              "            nit: 0\n",
              "          lower:  residual: [ 0.000e+00  1.500e+02  9.000e+01  0.000e+00]\n",
              "                 marginals: [ 1.000e+02  0.000e+00  0.000e+00  4.000e+02]\n",
              "          upper:  residual: [       inf        inf        inf        inf]\n",
              "                 marginals: [ 0.000e+00  0.000e+00  0.000e+00  0.000e+00]\n",
              "          eqlin:  residual: []\n",
              "                 marginals: []\n",
              "        ineqlin:  residual: [ 0.000e+00  0.000e+00]\n",
              "                 marginals: [-1.000e+02 -2.000e+02]\n",
              " mip_node_count: 0\n",
              " mip_dual_bound: 0.0\n",
              "        mip_gap: 0.0"
            ]
          },
          "metadata": {},
          "execution_count": 29
        }
      ]
    },
    {
      "cell_type": "code",
      "source": [
        "import scipy.optimize as opt\n",
        "import numpy as np\n",
        "c= np.array([-600,\n",
        "             -200,\n",
        "             -600,\n",
        "             -200])\n",
        "Aub= np.array ([[7,2,0,0],\n",
        "                [0,0,3,3]\n",
        "                ])\n",
        "bub=np.array([300,\n",
        "              270])\n",
        "opt.linprog(c,Aub,bub)"
      ],
      "metadata": {
        "id": "rvYlHEcqclxL"
      },
      "execution_count": null,
      "outputs": []
    },
    {
      "cell_type": "code",
      "source": [],
      "metadata": {
        "id": "QBibbMXWcmPB"
      },
      "execution_count": null,
      "outputs": []
    },
    {
      "cell_type": "markdown",
      "metadata": {
        "id": "GRpwd5ouw1NV"
      },
      "source": [
        "Resolviendo el problema 2 (Maximización de utilidad en carros y camiones), con la función `linprog`"
      ]
    },
    {
      "cell_type": "code",
      "source": [
        "import numpy as np\n",
        "import scipy.optimize as opt\n",
        "c= np.array([0.2,\n",
        "             0.6])\n",
        "Aub=np.array([\n",
        "    [-0.05,-0.30],\n",
        "    [-0.07,-0.01],\n",
        "    [-0.10,-0.10],\n",
        "])\n",
        "bub= np.array([-25,\n",
        "               -6,\n",
        "               -30])\n",
        "sol=opt.linprog(c,Aub,bub)\n",
        "sol"
      ],
      "metadata": {
        "id": "pHwhPGeTP8VS",
        "colab": {
          "base_uri": "https://localhost:8080/"
        },
        "outputId": "d6c5b60d-1d3c-4717-ee1b-fa42996f8eaa"
      },
      "execution_count": 9,
      "outputs": [
        {
          "output_type": "execute_result",
          "data": {
            "text/plain": [
              "        message: Optimization terminated successfully. (HiGHS Status 7: Optimal)\n",
              "        success: True\n",
              "         status: 0\n",
              "            fun: 76.0\n",
              "              x: [ 2.600e+02  4.000e+01]\n",
              "            nit: 2\n",
              "          lower:  residual: [ 2.600e+02  4.000e+01]\n",
              "                 marginals: [ 0.000e+00  0.000e+00]\n",
              "          upper:  residual: [       inf        inf]\n",
              "                 marginals: [ 0.000e+00  0.000e+00]\n",
              "          eqlin:  residual: []\n",
              "                 marginals: []\n",
              "        ineqlin:  residual: [ 0.000e+00  1.260e+01  0.000e+00]\n",
              "                 marginals: [-1.600e+00 -0.000e+00 -1.200e+00]\n",
              " mip_node_count: 0\n",
              " mip_dual_bound: 0.0\n",
              "        mip_gap: 0.0"
            ]
          },
          "metadata": {},
          "execution_count": 9
        }
      ]
    },
    {
      "cell_type": "code",
      "source": [
        "sol.fun"
      ],
      "metadata": {
        "id": "M8YZUypJP_V4",
        "colab": {
          "base_uri": "https://localhost:8080/"
        },
        "outputId": "176e356d-6606-414f-871d-4f6ba5433d9a"
      },
      "execution_count": 8,
      "outputs": [
        {
          "output_type": "execute_result",
          "data": {
            "text/plain": [
              "76.0"
            ]
          },
          "metadata": {},
          "execution_count": 8
        }
      ]
    },
    {
      "cell_type": "code",
      "source": [
        "Aub@ sol.x\n"
      ],
      "metadata": {
        "id": "vFJsfAykQBO5",
        "colab": {
          "base_uri": "https://localhost:8080/"
        },
        "outputId": "67f6c96b-d9c4-45be-86a0-7b4e04460853"
      },
      "execution_count": 10,
      "outputs": [
        {
          "output_type": "execute_result",
          "data": {
            "text/plain": [
              "array([-25. , -18.6, -30. ])"
            ]
          },
          "metadata": {},
          "execution_count": 10
        }
      ]
    },
    {
      "cell_type": "markdown",
      "metadata": {
        "id": "Bd3edgupw1NW"
      },
      "source": [
        "## 3. ¿Cómo se resuelve en python?\n",
        "\n",
        "### 3.1 Librería `SciPy`\n",
        "\n",
        "<img style=\"float: right; margin: 0px 0px 15px 15px;\" src=\"https://scipy.org/_static/images/scipy_med.png\" width=\"200px\" height=\"75px\" />\n",
        "\n",
        "`SciPy` es un software de código abierto basado en `Python` para matemáticas, ciencia e ingeniería.\n",
        "\n",
        "La **Librería `SciPy`** es uno de los paquetes principales y provee varias rutinas numéricas eficientes. Entre ellas, para integración numérica y optimización.\n",
        "\n",
        "En esta clase, y en lo que resta del módulo, estaremos utilizando el módulo `optimize` de la librería `SciPy`.\n",
        "\n",
        "**Importémoslo**"
      ]
    },
    {
      "cell_type": "code",
      "execution_count": null,
      "metadata": {
        "id": "XE-gXiVKw1NW"
      },
      "outputs": [],
      "source": [
        "import scipy.optimize as opt"
      ]
    },
    {
      "cell_type": "markdown",
      "metadata": {
        "id": "qodKHCkWw1NX"
      },
      "source": [
        "# Importar el módulo optimize de la librería scipy"
      ]
    },
    {
      "cell_type": "markdown",
      "metadata": {
        "id": "vFTar8I2w1NX"
      },
      "source": [
        "El módulo `optimize` que acabamos de importar contiene varias funciones para optimización y búsqueda de raices. Entre ellas se encuentra la función `linprog`\n",
        "\n",
        "---"
      ]
    },
    {
      "cell_type": "code",
      "execution_count": 11,
      "metadata": {
        "id": "sk8NYFXVw1NY"
      },
      "outputs": [],
      "source": [
        "opt.linprog?"
      ]
    },
    {
      "cell_type": "code",
      "source": [],
      "metadata": {
        "id": "K4mZJdyKvMe6"
      },
      "execution_count": 11,
      "outputs": []
    },
    {
      "cell_type": "code",
      "source": [],
      "metadata": {
        "id": "vTGKDlFbvOUH"
      },
      "execution_count": 11,
      "outputs": []
    },
    {
      "cell_type": "code",
      "source": [],
      "metadata": {
        "id": "T7c-iekqvOy4"
      },
      "execution_count": null,
      "outputs": []
    },
    {
      "cell_type": "markdown",
      "metadata": {
        "id": "_fwWLTDVw1NY"
      },
      "source": [
        "**Actividad.** Mónica hace aretes y cadenitas de joyería. Es tan buena, que todo lo que hace lo vende.\n",
        "\n",
        "Le toma 30 minutos hacer un par de aretes y una hora hacer una cadenita, y como Mónica también es estudihambre, solo dispone de 10 horas a la semana para hacer las joyas. Por otra parte, el material que compra solo le alcanza para hacer 15 unidades (el par de aretes cuenta como unidad) de joyas por semana.\n",
        "\n",
        "La utilidad que le deja la venta de las joyas es $\\$15$ en cada par de aretes y $\\$20$ en cada cadenita.\n",
        "\n",
        "¿Cuántos pares de aretes y cuántas cadenitas debería hacer Mónica para maximizar su utilidad?\n",
        "\n",
        "Formular el problema en la forma explicada y obtener la solución gráfica (puede ser a mano).\n",
        "\n",
        "**Diez minutos: quien primero lo haga, comparte pantalla para explicarlo y le subiré la nota de alguna tarea a 100.**"
      ]
    },
    {
      "cell_type": "markdown",
      "source": [
        "informacion\n",
        "\n",
        "\n",
        "*   aretes 30 minutos\n",
        "*   cadenita 1 hora\n",
        "*   10 horas a la semana\n",
        "*   15 unidades max\n",
        "\n",
        "## maximixar\n",
        "funcion de la que tengo control\n",
        "\n",
        "ax =cantidad de aretes\n",
        "\n",
        "bx= cantidad de cadenas\n",
        " $$  15ax + 20bx= 15 unidades $$\n",
        "##restricciones\n",
        "$$0.5ax+ 1bx=10 $$\n",
        "\n",
        "\n",
        "\n",
        "\n",
        "\n"
      ],
      "metadata": {
        "id": "umCFW1_-vZl-"
      }
    },
    {
      "cell_type": "markdown",
      "source": [
        "1. Criterio de optimización\n",
        "  - maximizar\n",
        "\n",
        "2. Variables sobre las que tengo control\n",
        "  - utilidad de aretes y cadenas $a_x, c_x$\n",
        "\n",
        "3. Función de costo\n",
        "  - $15 a_x + 20 c_x $\n",
        "\n",
        "4. Restricciones\n",
        " - $0.5a_x+1c_x=10 $\n",
        " - $a_x+c_x=15 $\n"
      ],
      "metadata": {
        "id": "XJUWDdXKziWu"
      }
    },
    {
      "cell_type": "code",
      "source": [
        "import numpy as np\n",
        "import scipy.optimize as opt\n",
        "c= np.array([-15,\n",
        "             -20])\n",
        "Aub=np.array([\n",
        "    [0.05,1],\n",
        "    [1,1],\n",
        "])\n",
        "bub= np.array([10,\n",
        "               15,\n",
        "               ])\n",
        "sol=opt.linprog(c,Aub,bub)\n",
        "sol"
      ],
      "metadata": {
        "colab": {
          "base_uri": "https://localhost:8080/"
        },
        "id": "S8z6pHjhvULI",
        "outputId": "9f6ac08c-6a27-4a32-ccf1-e5d61e6027c5"
      },
      "execution_count": 17,
      "outputs": [
        {
          "output_type": "execute_result",
          "data": {
            "text/plain": [
              "        message: Optimization terminated successfully. (HiGHS Status 7: Optimal)\n",
              "        success: True\n",
              "         status: 0\n",
              "            fun: -273.6842105263158\n",
              "              x: [ 5.263e+00  9.737e+00]\n",
              "            nit: 2\n",
              "          lower:  residual: [ 5.263e+00  9.737e+00]\n",
              "                 marginals: [ 0.000e+00  0.000e+00]\n",
              "          upper:  residual: [       inf        inf]\n",
              "                 marginals: [ 0.000e+00  0.000e+00]\n",
              "          eqlin:  residual: []\n",
              "                 marginals: []\n",
              "        ineqlin:  residual: [ 0.000e+00  0.000e+00]\n",
              "                 marginals: [-5.263e+00 -1.474e+01]\n",
              " mip_node_count: 0\n",
              " mip_dual_bound: 0.0\n",
              "        mip_gap: 0.0"
            ]
          },
          "metadata": {},
          "execution_count": 17
        }
      ]
    },
    {
      "cell_type": "markdown",
      "source": [
        "da resultado\n",
        "*5aretes\n",
        "*10 cadenitas"
      ],
      "metadata": {
        "id": "LTx8GGh0-_NV"
      }
    },
    {
      "cell_type": "code",
      "source": [],
      "metadata": {
        "id": "WuwKX17SvU4t"
      },
      "execution_count": 11,
      "outputs": []
    },
    {
      "cell_type": "code",
      "source": [],
      "metadata": {
        "id": "5lRV-o5TvVMH"
      },
      "execution_count": null,
      "outputs": []
    },
    {
      "cell_type": "markdown",
      "metadata": {
        "id": "QPjUG67qw1NY"
      },
      "source": [
        "## 4. Problema de transporte 1\n",
        "- **Referencia**: http://bdigital.unal.edu.co/5037/4/guillermojimenezlozano.2006_Parte1.pdf\n",
        "\n",
        "Una  empresa tiene dos fábricas A y B.  En ellas  se fabrica un determinado  producto, a razón de 500  y 400 unidades por día respectivamente.  El producto  ha  de  ser distribuido posteriormente  a  tres  centros  C,  D  y  E,  que  requieren,  respectivamente,  200,  300  y  400  unidades.  Los  costos  de  transportar cada unidad del producto desde cada fábrica a cada centro distribuidor son los  indicados  en la tabla  siguiente:\n",
        "\n",
        "Factoría|C|D|E|Fabricación (Unidades)\n",
        ":----|----|----|----|----\n",
        "A|  50 u.m|60 u.m|10 u.m|500 u\n",
        "B|  25 u.m|40 u.m|20 u.m|400 u\n",
        "Demanda|200|300|400|\n",
        "\n",
        "**¿De qué manera  deben  organizar  el transporte a fin de que los gastos sean mínimos?**\n",
        "\n",
        "\n",
        "Formulemos el problema para ser resuelto por la programación lineal con\n",
        "-c\n",
        "se tienen las siguientes ecuaciones:\n",
        "\n",
        "Restricciones de la producción:\n",
        "\n",
        "- $x_{AC} + x_{AD} + x_{AE} \\leq 500$\n",
        "- $x_{BC} + x_{BD} + x_{BE} \\leq 400$\n",
        "\n",
        "Restricciones del consumo:\n",
        "\n",
        "- $x_{AC} + x_{BC} \\geq 200$\n",
        "- $x_{AD} + x_{BD} \\geq 300$\n",
        "- $x_{AE} + x_{BE} \\geq 400$\n",
        "\n",
        "La función objetivo será:\n",
        "\n",
        "$$\\min_{x_1,\\dots,x_6}50x_{AC} + 60x_{AD} + 10x_{AE} + 25x_{BC} + 40x_{BD} + 20x_{BE}$$\n",
        "\n",
        "Resolver con `linprog`"
      ]
    },
    {
      "cell_type": "markdown",
      "source": [
        "1-criterio\n",
        "\n",
        "\n",
        "*   maximizae\n",
        "*   Elemento de la lista\n",
        "\n"
      ],
      "metadata": {
        "id": "nE0YyUTz3oWh"
      }
    },
    {
      "cell_type": "code",
      "source": [
        "import numpy as np\n",
        "import scipy.optimize as opt\n",
        "c= np.array([50,\n",
        "             60,\n",
        "             10,\n",
        "             25,\n",
        "             40,\n",
        "             20])\n",
        "\n",
        "Aub=np.array([\n",
        "    [1,1,1,0,0,0],\n",
        "    [0,0,0,1,1,1]\n",
        "])\n",
        "bub= np.array([500,\n",
        "               400\n",
        "               ])\n",
        "Aeq=np.array([\n",
        "    [1,0,0,1,0,0],\n",
        "    [0,1,0,0,1,0],\n",
        "    [0, 0, 1, 0, 0, 1]\n",
        "])\n",
        "beq= np.array([200,\n",
        "               300,\n",
        "               400\n",
        "               ])\n",
        "sol=opt.linprog(c,Aub,bub,Aeq,beq)\n",
        "sol"
      ],
      "metadata": {
        "colab": {
          "base_uri": "https://localhost:8080/"
        },
        "id": "e6gy8QKm3T1F",
        "outputId": "6a067c6d-7860-4235-d79b-bfab0004d499"
      },
      "execution_count": 13,
      "outputs": [
        {
          "output_type": "execute_result",
          "data": {
            "text/plain": [
              "        message: Optimization terminated successfully. (HiGHS Status 7: Optimal)\n",
              "        success: True\n",
              "         status: 0\n",
              "            fun: 23000.0\n",
              "              x: [ 0.000e+00  1.000e+02  4.000e+02  2.000e+02  2.000e+02\n",
              "                   0.000e+00]\n",
              "            nit: 1\n",
              "          lower:  residual: [ 0.000e+00  1.000e+02  4.000e+02  2.000e+02\n",
              "                              2.000e+02  0.000e+00]\n",
              "                 marginals: [ 5.000e+00  0.000e+00  0.000e+00  0.000e+00\n",
              "                              0.000e+00  3.000e+01]\n",
              "          upper:  residual: [       inf        inf        inf        inf\n",
              "                                    inf        inf]\n",
              "                 marginals: [ 0.000e+00  0.000e+00  0.000e+00  0.000e+00\n",
              "                              0.000e+00  0.000e+00]\n",
              "          eqlin:  residual: [ 0.000e+00  0.000e+00  0.000e+00]\n",
              "                 marginals: [ 4.500e+01  6.000e+01  1.000e+01]\n",
              "        ineqlin:  residual: [ 0.000e+00  0.000e+00]\n",
              "                 marginals: [-0.000e+00 -2.000e+01]\n",
              " mip_node_count: 0\n",
              " mip_dual_bound: 0.0\n",
              "        mip_gap: 0.0"
            ]
          },
          "metadata": {},
          "execution_count": 13
        }
      ]
    },
    {
      "cell_type": "markdown",
      "source": [
        "cesto da de resultado que a recibe 500\n",
        "b recibe 400"
      ],
      "metadata": {
        "id": "Seizyof88d8a"
      }
    },
    {
      "cell_type": "code",
      "source": [],
      "metadata": {
        "id": "H0xOn3-U3UaY"
      },
      "execution_count": 11,
      "outputs": []
    },
    {
      "cell_type": "code",
      "source": [],
      "metadata": {
        "id": "SB0YvhCC3UsC"
      },
      "execution_count": null,
      "outputs": []
    },
    {
      "cell_type": "markdown",
      "metadata": {
        "id": "55bLmi_Iw1NZ"
      },
      "source": [
        "## 5. Optimización de inversión en bonos\n",
        "\n",
        "**Referencia:**"
      ]
    },
    {
      "cell_type": "code",
      "execution_count": null,
      "metadata": {
        "colab": {
          "base_uri": "https://localhost:8080/",
          "height": 321
        },
        "id": "HvMxgJyFw1NZ",
        "outputId": "5b323dcd-0945-42c8-9268-7e65696ff114"
      },
      "outputs": [
        {
          "output_type": "execute_result",
          "data": {
            "text/plain": [
              "<IPython.lib.display.YouTubeVideo at 0x7ee8c490aa70>"
            ],
            "text/html": [
              "\n",
              "        <iframe\n",
              "            width=\"400\"\n",
              "            height=\"300\"\n",
              "            src=\"https://www.youtube.com/embed/gukxBus8lOs\"\n",
              "            frameborder=\"0\"\n",
              "            allowfullscreen\n",
              "            \n",
              "        ></iframe>\n",
              "        "
            ],
            "image/jpeg": "[encoded data removed]"
          },
          "metadata": {},
          "execution_count": 3
        }
      ],
      "source": [
        "from IPython.display import YouTubeVideo\n",
        "YouTubeVideo('gukxBus8lOs')"
      ]
    },
    {
      "cell_type": "markdown",
      "metadata": {
        "id": "9f1lp93sw1Na"
      },
      "source": [
        "El objetivo de este problema es determinar la mejor estrategia de inversión, dados diferentes tipos de bono, la máxima cantidad que puede ser invertida en cada bono, el porcentaje de retorno y los años de madurez. También hay una cantidad fija de dinero disponible ($\\$750,000$). Por lo menos la mitad de este dinero debe ser invertido en bonos con 10 años o más para la madurez. Se puede invertir un máximo del $25\\%$ de esta cantidad en cada bono. Finalmente, hay otra restricción que no permite usar más de $35\\%$ en bonos de alto riesgo.\n",
        "\n",
        "Existen seis (6) opciones de inversión con las letras correspondientes $A_i$\n",
        "\n",
        "1. $A_1$:(Tasa de retorno=$8.65\\%$; Años para la madurez=11, Riesgo=Bajo)\n",
        "1. $A_2$:(Tasa de retorno=$9.50\\%$; Años para la madurez=10, Riesgo=Alto)\n",
        "1. $A_3$:(Tasa de retorno=$10.00\\%$; Años para la madurez=6, Riesgo=Alto)\n",
        "1. $A_4$:(Tasa de retorno=$8.75\\%$; Años para la madurez=10, Riesgo=Bajo)\n",
        "1. $A_5$:(Tasa de retorno=$9.25\\%$; Años para la madurez=7, Riesgo=Alto)\n",
        "1. $A_6$:(Tasa de retorno=$9.00\\%$; Años para la madurez=13, Riesgo=Bajo)\n",
        "\n",
        "Lo que se quiere entonces es maximizar el retorno que deja la inversión.\n",
        "\n",
        "Este problema puede ser resuelto con programación lineal. Formalmente, puede ser descrito como:\n",
        "\n",
        "$$\\max_{A_1,A_2,...,A_6}\\sum^{6}_{i=1} A_iR_i,$$\n",
        "\n",
        "donde $A_i$ representa la cantidad invertida en la opción, y $R_i$ representa la tasa de retorno respectiva."
      ]
    },
    {
      "cell_type": "markdown",
      "source": [],
      "metadata": {
        "id": "kdCHL7Zz8xza"
      }
    },
    {
      "cell_type": "markdown",
      "source": [
        "1. Criterio de optimización\n",
        "  - maximizar\n",
        "\n",
        "2. Variables sobre las que tengo control\n",
        "  - 750,000\n",
        "\n",
        "3. Función de costo\n",
        "  - $15 a_x + 20 c_x $\n",
        "\n",
        "4. Restricciones\n",
        " - $375 a bonos d $\n",
        " - $a_x+c_x=15 $"
      ],
      "metadata": {
        "id": "CjgsjmvX8zki"
      }
    },
    {
      "cell_type": "code",
      "execution_count": 14,
      "metadata": {
        "id": "t7O0BizXw1Na",
        "colab": {
          "base_uri": "https://localhost:8080/",
          "height": 140
        },
        "outputId": "6f7a1919-8a62-4dac-9c6f-0583528d85dd"
      },
      "outputs": [
        {
          "output_type": "error",
          "ename": "SyntaxError",
          "evalue": "ignored",
          "traceback": [
            "\u001b[0;36m  File \u001b[0;32m\"<ipython-input-14-28ee4e5949a2>\"\u001b[0;36m, line \u001b[0;32m11\u001b[0m\n\u001b[0;31m    - $0.5a_x+1c_x=10 $\u001b[0m\n\u001b[0m         ^\u001b[0m\n\u001b[0;31mSyntaxError\u001b[0m\u001b[0;31m:\u001b[0m invalid decimal literal\n"
          ]
        }
      ],
      "source": [
        "1. Criterio de optimización\n",
        "  - maximizar\n",
        "\n",
        "2. Variables sobre las que tengo control\n",
        "  - utilidad de aretes y cadenas $a_x, c_x$\n",
        "\n",
        "3. Función de costo\n",
        "  - $15 a_x + 20 c_x $\n",
        "\n",
        "4. Restricciones\n",
        " - $0.5a_x+1c_x=10 $\n",
        " - $a_x+c_x=15 $"
      ]
    },
    {
      "cell_type": "code",
      "source": [],
      "metadata": {
        "id": "ZMKZAfQ48ts9"
      },
      "execution_count": 13,
      "outputs": []
    },
    {
      "cell_type": "code",
      "source": [],
      "metadata": {
        "id": "RV62wECO8u_9"
      },
      "execution_count": null,
      "outputs": []
    }
  ],
  "metadata": {
    "kernelspec": {
      "display_name": "Python 3 (ipykernel)",
      "language": "python",
      "name": "python3"
    },
    "language_info": {
      "codemirror_mode": {
        "name": "ipython",
        "version": 3
      },
      "file_extension": ".py",
      "mimetype": "text/x-python",
      "name": "python",
      "nbconvert_exporter": "python",
      "pygments_lexer": "ipython3",
      "version": "3.8.11"
    },
    "colab": {
      "provenance": []
    }
  },
  "nbformat": 4,
  "nbformat_minor": 0
}
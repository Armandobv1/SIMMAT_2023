{
 "cells": [
  {
   "cell_type": "markdown",
   "metadata": {
    "id": "fsbuNu4HDhdX"
   },
   "source": [
    "# TAREA"
   ]
  },
  {
   "cell_type": "markdown",
   "metadata": {},
   "source": [
    "Jose Armando Borregui Vidrio 09/10/23\n"
   ]
  },
  {
   "cell_type": "markdown",
   "metadata": {
    "id": "RkTzwmDRDhdZ"
   },
   "source": [
    "## Integración Montecarlo"
   ]
  },
  {
   "cell_type": "markdown",
   "metadata": {
    "id": "MAFzy8ZIDhda"
   },
   "source": [
    "1. Realizar las siguientes integrales. Poner los resultados en una tabla cuyas filas correspondan a la cantidad de términos utilizados en la aproximación (usar 10, 100, 1000, 10000 y 100000 términos) y cuyas columnas correspondan a las funciones.\n",
    "    + $\\int_{1}^{3} e^{x}\\log(x)\\text{d}x$.\n",
    "    + $\\int_1^3 \\sin(x)\\ln(x) \\text{d}x$"
   ]
  },
  {
   "cell_type": "code",
   "execution_count": 7,
   "metadata": {
    "colab": {
     "base_uri": "https://localhost:8080/"
    },
    "id": "v3DP9DePDhdb",
    "outputId": "6e2c470b-21d7-49c4-d8ee-09c220e8d948"
   },
   "outputs": [
    {
     "name": "stdout",
     "output_type": "stream",
     "text": [
      "       aproximacion      error\n",
      "10         11.41512  11.094186\n",
      "100       14.348918  14.027984\n",
      "1000      14.593953  14.273019\n",
      "10000     14.069202  13.748268\n",
      "100000    14.074574   13.75364\n"
     ]
    }
   ],
   "source": [
    "import numpy as np\n",
    "import pandas as pd\n",
    "\n",
    "def f1(x):\n",
    "    return np.exp(x) * np.log(x)\n",
    "\n",
    "def f2(x):\n",
    "    return np.sin(x) * np.log(x)\n",
    "\n",
    "a = 1\n",
    "b = 3\n",
    "\n",
    "n = np.logspace(1, 5, 5, dtype=int)\n",
    "\n",
    "table = pd.DataFrame(columns=[\"aproximacion\", \"error\"], index=n)\n",
    "\n",
    "valor = 0.320934\n",
    "\n",
    "for i in n:\n",
    "    muestras = np.random.uniform(a, b, i)\n",
    "    rintegrl = ((np.exp(muestras) * np.log(muestras)).sum() / i) * (b - a)\n",
    "    error = abs(valor- rintegrl)\n",
    "    table.loc[i, \"aproximacion\"] = rintegrl\n",
    "    table.loc[i, \"error\"] = error\n",
    "\n",
    "\n",
    "print(table)\n",
    "\n"
   ]
  },
  {
   "cell_type": "code",
   "execution_count": null,
   "metadata": {
    "id": "4QCiBGsNDhdb"
   },
   "outputs": [],
   "source": []
  },
  {
   "cell_type": "markdown",
   "metadata": {
    "id": "BXuBlJRxDhdb"
   },
   "source": [
    "2. Aproximar el área de la región descrita por\n",
    "\n",
    "$$x^2+2y^2\\leq-2x+8y-7$$\n",
    "\n",
    "Poner los resultados en una tabla cuyas filas correspondan a la cantidad de términos utilizados en la aproximación (usar 10, 100, 1000, 10000 y 100000 términos) y en las columnas el valor de aproximación y el error relativo.\n",
    "\n",
    "Definir unos límites adecuados $a_1$, $b_1$, $a_2$ y $b_2$, para la región $R=\\left[a_1,b_1\\right]\\times\\left[a_2,b_2\\right]$"
   ]
  },
  {
   "cell_type": "code",
   "execution_count": 9,
   "metadata": {
    "colab": {
     "base_uri": "https://localhost:8080/"
    },
    "id": "WZbyQv96Dhdc",
    "outputId": "dceb0714-70ce-472f-a697-4f99d8832f33"
   },
   "outputs": [
    {
     "name": "stdout",
     "output_type": "stream",
     "text": [
      "       aproximacion    error\n",
      "10              3.2      0.8\n",
      "100            3.84     0.76\n",
      "1000          4.256    0.734\n",
      "10000        4.0512   0.7468\n",
      "100000      4.02688  0.74832\n"
     ]
    }
   ],
   "source": [
    "import numpy as np\n",
    "import pandas as pd\n",
    "\n",
    "def funcion(x, y):\n",
    "    return x**2 + 2*y**2 <= -2*x + 8*y - 7\n",
    "\n",
    "a1, b1 = -2, 2\n",
    "a2, b2 = 0, 4\n",
    "\n",
    "n = np.logspace(1, 5, 5, dtype=int)\n",
    "\n",
    "table = pd.DataFrame(columns=[\"aproximacion\", \"error\"], index=n)\n",
    "\n",
    "r_area = 16\n",
    "\n",
    "\n",
    "for i in n:\n",
    "    nx = np.random.uniform(a1, b1, i)\n",
    "    ny = np.random.uniform(a2, b2, i)\n",
    "\n",
    "    puntos = sum(funcion(nx, ny))\n",
    "    area = (puntos / i) * (b1 - a1) * (b2 - a2)\n",
    "    error = abs(r_area - area) / r_area\n",
    "\n",
    "    table.loc[i, \"aproximacion\"] = area\n",
    "    table.loc[i, \"error\"] = error\n",
    "\n",
    "print(table)\n"
   ]
  },
  {
   "cell_type": "code",
   "execution_count": null,
   "metadata": {
    "id": "ndimQCbhDhdc"
   },
   "outputs": [],
   "source": []
  },
  {
   "cell_type": "code",
   "execution_count": null,
   "metadata": {
    "id": "0Hv4fbemDhdc"
   },
   "outputs": [],
   "source": []
  },
  {
   "cell_type": "markdown",
   "metadata": {
    "id": "NqSXNSFqDhdc"
   },
   "source": [
    "3. Describe 3 casos de uso de integración Montecarlo en tu ingeniería."
   ]
  },
  {
   "cell_type": "markdown",
   "metadata": {
    "id": "gBW8zw6SDhdc"
   },
   "source": [
    "Claro, aquí tienes un resumen de los tres casos en los que se puede usar la integración Montecarlo en la ingeniería civil:\n",
    "\n",
    "1. **Análisis de Riesgo en Diseño Estructural**: Se utiliza para evaluar la seguridad y confiabilidad de estructuras como puentes y edificios, estimando la probabilidad de fallo bajo condiciones variables.\n",
    "\n",
    "2. **Evaluación de Vida Útil de Infraestructuras**: Permite estimar la durabilidad y el momento de mantenimiento de infraestructuras a largo plazo, considerando la variabilidad en las condiciones ambientales y de uso.\n",
    "\n",
    "3. **Simulación de Comportamiento de Fluidos en Hidrología e Hidráulica**: Se emplea para modelar el flujo de agua en proyectos relacionados con recursos hídricos y predecir eventos como inundaciones, considerando la incertidumbre en los parámetros hidrológicos.\n"
   ]
  },
  {
   "cell_type": "markdown",
   "metadata": {
    "id": "x4PhHrNtDhdc"
   },
   "source": []
  },
  {
   "cell_type": "markdown",
   "metadata": {
    "id": "_kYpcCiEDhdd"
   },
   "source": []
  }
 ],
 "metadata": {
  "colab": {
   "provenance": []
  },
  "kernelspec": {
   "display_name": "Python 3 (ipykernel)",
   "language": "python",
   "name": "python3"
  },
  "language_info": {
   "codemirror_mode": {
    "name": "ipython",
    "version": 3
   },
   "file_extension": ".py",
   "mimetype": "text/x-python",
   "name": "python",
   "nbconvert_exporter": "python",
   "pygments_lexer": "ipython3",
   "version": "3.11.4"
  }
 },
 "nbformat": 4,
 "nbformat_minor": 1
}

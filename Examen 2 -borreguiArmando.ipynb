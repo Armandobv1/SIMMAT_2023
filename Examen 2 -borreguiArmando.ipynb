{
 "cells": [
  {
   "cell_type": "markdown",
   "id": "8bc2f283",
   "metadata": {
    "colab_type": "text",
    "id": "GJV4HZf_7eDM"
   },
   "source": [
    "# Examen Módulo 2\n",
    "\n",
    "**Mantenga la calma y lea cuidadosamente las siguientes indicaciones antes de comenzar el examen:**\n",
    "- Para resolver el examen edite este mismo archivo y renómbrelo de la siguiente manera: *Examen2_ApellidoNombre*, donde *ApellidoNombre* corresponde a su apellido paterno con la inicial en mayúscula, seguido de su primer nombre con la inicial en mayúscula **sin acentos**. Por ejemplo, en mi caso el nombre del archivo sería *Examen2_MoralesGabriel*.\n",
    "- Resuelva los puntos en el espacio provisto. Si requiere agregar más celdas para código o escritura, hágalo (`Esc`+`B`) o (`Esc`+`A`).\n",
    "- Recuerde que también se está evaluando su capacidad de interpretar los resultados. Escriba sus interpretaciones/conclusiones en celdas utilizando *Markdown*.\n",
    "- El formato de presentación de todo el examen en general debe ser adecuado. Use tamaños de letra, colores, etiquetas, etcétera.\n",
    "- No se resuelven dudas de ningún tipo por los profesores de la asignatura. Por favor absténgase de preguntar."
   ]
  },
  {
   "cell_type": "markdown",
   "id": "30ec3475",
   "metadata": {},
   "source": [
    "# ANTES DE EMPEZAR"
   ]
  },
  {
   "cell_type": "markdown",
   "id": "c2e65c9c",
   "metadata": {},
   "source": [
    "Escribe tu número de expediente como semilla"
   ]
  },
  {
   "cell_type": "code",
   "execution_count": 1,
   "id": "f68bac14",
   "metadata": {},
   "outputs": [
    {
     "name": "stdout",
     "output_type": "stream",
     "text": [
      "Simulación Monte Carlo - Problema 2\n",
      "Integración Monte Carlo Tipo 1 - Problema 2\n",
      "Integración Monte Carlo Tipo 2 - Función 1\n",
      "Fractales - Fractal 1\n",
      "Probabilidad Precio-Umbral - Empresas: (['Walmart' 'Netflix'])\n"
     ]
    }
   ],
   "source": [
    "import numpy as np\n",
    "np.random.seed(727516)\n",
    "\n",
    "empresas = [\"Spotify\", \"Mercado Libre\", \"Microsoft\", \"Walmart\", \"Google\", \"Tesla\", \"Netflix\", \"Amazon\", \"Oracle\", \"Intel\"]\n",
    "\n",
    "print(\"Simulación Monte Carlo - Problema \" + str(np.random.choice([1, 2])))\n",
    "print(\"Integración Monte Carlo Tipo 1 - Problema \" + str(np.random.choice([1, 2])))\n",
    "print(\"Integración Monte Carlo Tipo 2 - Función \" + str(np.random.choice([1, 2])))\n",
    "print(\"Fractales - Fractal \" + str(np.random.choice([1, 2])))\n",
    "print(\"Probabilidad Precio-Umbral - Empresas: (\" + str(np.random.choice(empresas, 2, replace=False)) + \")\")"
   ]
  },
  {
   "cell_type": "markdown",
   "id": "4d2c9519",
   "metadata": {},
   "source": [
    "---\n",
    "### Simulación Monte Carlo - Problema 1"
   ]
  },
  {
   "cell_type": "markdown",
   "id": "381d2591",
   "metadata": {},
   "source": [
    "Un proyecto de construcción en una casa está por comenzar. Se hace la compra de los materiales y el proveedor dice que en promedio tardan una semana con 2 días de desviación estándar en llegar. Una vez llegados los materiales se tarda entre 2 y 3 semanas en construir (uniforme). Después de la construcción debes esperar 3 días antes de empezar a pintar, y te toma 4 días en promedio con medio día de desviación estándar hacerlo."
   ]
  },
  {
   "cell_type": "markdown",
   "id": "baa01e20",
   "metadata": {},
   "source": [
    "1. Define una función que te regrese el tiempo total de inicio a fin de proyecto dados los tiempos que toma cada paso."
   ]
  },
  {
   "cell_type": "code",
   "execution_count": null,
   "id": "80ec8d14",
   "metadata": {},
   "outputs": [],
   "source": []
  },
  {
   "cell_type": "markdown",
   "id": "9fd873c7",
   "metadata": {},
   "source": [
    "2. Escribe en una celda de Markdown qué distribución usarías para cada paso del proceso."
   ]
  },
  {
   "cell_type": "markdown",
   "id": "de2b34d1",
   "metadata": {},
   "source": []
  },
  {
   "cell_type": "markdown",
   "id": "1a0af99b",
   "metadata": {},
   "source": [
    "3. Simula cada paso en el proceso un millón de veces."
   ]
  },
  {
   "cell_type": "code",
   "execution_count": null,
   "id": "0a4e82ef",
   "metadata": {},
   "outputs": [],
   "source": []
  },
  {
   "cell_type": "markdown",
   "id": "f10abff3",
   "metadata": {},
   "source": [
    "4. Agrupa las simulaciones de cada paso para tener la simulación del proceso completo."
   ]
  },
  {
   "cell_type": "code",
   "execution_count": null,
   "id": "84ffe52c",
   "metadata": {},
   "outputs": [],
   "source": []
  },
  {
   "cell_type": "markdown",
   "id": "022c4563",
   "metadata": {},
   "source": [
    "5. ¿Cuál es el tiempo promedio para el inicio-fin del proyecto?"
   ]
  },
  {
   "cell_type": "code",
   "execution_count": null,
   "id": "66090dbf",
   "metadata": {},
   "outputs": [],
   "source": []
  },
  {
   "cell_type": "markdown",
   "id": "1af48a29",
   "metadata": {},
   "source": [
    "6. Dadas tus simulaciones, ¿cuál fue el tiempo mínimo? ¿El máximo?"
   ]
  },
  {
   "cell_type": "code",
   "execution_count": null,
   "id": "846efd54",
   "metadata": {},
   "outputs": [],
   "source": []
  },
  {
   "cell_type": "markdown",
   "id": "9578f817",
   "metadata": {},
   "source": [
    "7. Grafica un histograma con tus resultados."
   ]
  },
  {
   "cell_type": "code",
   "execution_count": null,
   "id": "ecbcb3f1",
   "metadata": {},
   "outputs": [],
   "source": []
  },
  {
   "cell_type": "markdown",
   "id": "8e5e28d2",
   "metadata": {},
   "source": [
    "### Simulación Monte Carlo - Problema 2"
   ]
  },
  {
   "cell_type": "markdown",
   "id": "1ce14c2a",
   "metadata": {},
   "source": [
    "Hay un elevador pequeño en una plaza donde se espera que entren máximo 4 personas a la vez, y su capacidad de peso para poder operar es de 320 kg.\n",
    "\n",
    "Datos estadísticos de las personas que viven en esa zona mencionan que hay un 49% de mujeres, un 43% de hombres, y un 7% de personas que o prefirieron no contestar la pregunta o se identificaron como no binarias. El peso promedio medido en mujeres es de 68.7 kg con una desviación estándar de 7 kg. En los hombres se midió un peso promedio de 74.8 kg y una desviación estándar de 9 kg. En el tercer grupo se midió un peso promedio de 72 kg con una desviación estándar de 8 kg."
   ]
  },
  {
   "cell_type": "markdown",
   "id": "8e99fbd7",
   "metadata": {},
   "source": [
    "1. Escribe una función que retorne un peso dentro de los estadísticos dados. "
   ]
  },
  {
   "cell_type": "code",
   "execution_count": null,
   "id": "6fc1189c",
   "metadata": {},
   "outputs": [],
   "source": []
  },
  {
   "cell_type": "markdown",
   "id": "b977e620",
   "metadata": {},
   "source": [
    "2. Si el elevador se llenara 10,000 veces, ¿cuántas de esas veces se excedería el peso permitido?"
   ]
  },
  {
   "cell_type": "code",
   "execution_count": null,
   "id": "43b09c96",
   "metadata": {},
   "outputs": [],
   "source": []
  },
  {
   "cell_type": "markdown",
   "id": "7558e534",
   "metadata": {
    "colab_type": "text",
    "id": "E287s7IJfdG_"
   },
   "source": [
    "---\n",
    "### Integración Monte Carlo tipo 1 - Problema 1\n",
    "\n",
    "Encuentre los valores de $y(0.3)$, $y(0.5)$, $y(0.7)$, $y(0.9)$ y $y(1.1)$, conociendo $y(0.1)=0.1$ y su derivada\n",
    "$$\n",
    "\\frac{dy}{dx}=\\frac{\\ln(2+\\sin(2x^2))}{2xe^{-x^2}},\\quad y(0.1)=0.1\n",
    "$$\n",
    "\n",
    "Para cada intervalo: $(0.1\\leq x\\leq0.3)$, $(0.3\\leq x\\leq0.5)$, $(0.5\\leq x\\leq0.7)$, $(0.7\\leq x\\leq0.9)$ y $(0.9\\leq x\\leq1.1)$ use integración Montecarlo de tipo 1 con $10^6$ puntos."
   ]
  },
  {
   "cell_type": "markdown",
   "id": "649f894c",
   "metadata": {
    "colab_type": "text",
    "id": "fZdnlrZlD-IF"
   },
   "source": [
    "1. Escriba la función de integración Montecarlo de tipo 1, con argumentos de entrada $f$, $a$, $b$ y $N$. Donde $f$ es la función a integrar, $a$ y $b$ son los límites de integración y $N$ es el número de puntos utilizados para la integración. Y que regrese el valor de la integral."
   ]
  },
  {
   "cell_type": "code",
   "execution_count": 53,
   "id": "154847b5",
   "metadata": {
    "colab": {},
    "colab_type": "code",
    "id": "JcPup8MFhoCs"
   },
   "outputs": [],
   "source": [
    "def montecarlo (f,n,a,b):\n",
    "  u=np.random.uniform(a,b,n)\n",
    "  media=np.mean(f(u))\n",
    "  return media*(b-a)\n"
   ]
  },
  {
   "cell_type": "markdown",
   "id": "0c7d7e2d",
   "metadata": {
    "colab_type": "text",
    "id": "tLvr8o0bEiBs"
   },
   "source": [
    "2. Defina la función a integrar con argumentos de entrada $x$ y que regrese el valor de la derivada $\\frac{dy}{dx}$."
   ]
  },
  {
   "cell_type": "code",
   "execution_count": null,
   "id": "6cf1eb35",
   "metadata": {
    "colab": {},
    "colab_type": "code",
    "id": "ndAUHX0pFQ_u"
   },
   "outputs": [],
   "source": [
    "for i in n :\n",
    "  aproximacion = montecarlo(f,int(i),0,1)\n",
    "  table.loc[i,\"aproximacion\"]=aproximacion\n",
    "  table.loc[i,\"error\"]=abs(6.73789 - aproximacion)"
   ]
  },
  {
   "cell_type": "markdown",
   "id": "25c5749a",
   "metadata": {
    "colab_type": "text",
    "id": "sqVY8RMXFW5s"
   },
   "source": [
    "3. Encuentre la aproximación de las integrales con el método de Montecarlo de tipo 1. Escriba sus resultados en un _DataFrame_ de _pandas_."
   ]
  },
  {
   "cell_type": "code",
   "execution_count": null,
   "id": "f601a3bf",
   "metadata": {
    "colab": {},
    "colab_type": "code",
    "id": "y7cs-CQ-FsdB"
   },
   "outputs": [],
   "source": []
  },
  {
   "cell_type": "markdown",
   "id": "32259997",
   "metadata": {
    "colab_type": "text",
    "id": "u81S5RcRFtpA"
   },
   "source": [
    "4. Use el teorema fundamental del cálculo (visto en cálculo integral) para escribir la secuencia de valores para la solución $y(x)$, esto es $[y(0.1), y(0.3), y(0.5), y(0.7), y(0.9), y(1.1)]$.\n",
    "\n",
    "Note que $y(0.3)=y(0.1)+\\int_{0.1}^{0.3}\\frac{dy}{dx}dx$, $y(0.5)=y(0.3)+\\int_{0.3}^{0.5}\\frac{dy}{dx}dx$, etc."
   ]
  },
  {
   "cell_type": "code",
   "execution_count": null,
   "id": "0a4564bb",
   "metadata": {
    "colab": {},
    "colab_type": "code",
    "id": "mjdK2KfyF9Lz"
   },
   "outputs": [],
   "source": []
  },
  {
   "cell_type": "markdown",
   "id": "2c8b053b",
   "metadata": {},
   "source": [
    "### Integración Monte Carlo tipo 1 - Problema 2"
   ]
  },
  {
   "cell_type": "markdown",
   "id": "4f5400d6",
   "metadata": {},
   "source": [
    "Dadas las funciones\n",
    "\n",
    "$$ f_1(x) = \\sin{(x)}e^{-\\frac{x}{10}} + 1$$\n",
    "\n",
    "$$ f_2(x) = 0.15x $$\n",
    "\n",
    "$$ x \\in [0, 4\\pi]$$"
   ]
  },
  {
   "cell_type": "markdown",
   "id": "c8fe1203",
   "metadata": {
    "colab_type": "text",
    "id": "fZdnlrZlD-IF"
   },
   "source": [
    "1. Escriba la función de integración Montecarlo de tipo 1, con argumentos de entrada $f$, $a$, $b$ y $N$. Donde $f$ es la función a integrar, $a$ y $b$ son los límites de integración y $N$ es el número de puntos utilizados para la integración. Y que regrese el valor de la integral."
   ]
  },
  {
   "cell_type": "code",
   "execution_count": 52,
   "id": "25406d69",
   "metadata": {},
   "outputs": [],
   "source": [
    "def montecarlo (f,n,a,b):\n",
    "  u=np.random.uniform(a,b,n)\n",
    "  media=np.mean(f(u))\n",
    "  return media*(b-a)\n"
   ]
  },
  {
   "cell_type": "markdown",
   "id": "a7ca46b1",
   "metadata": {},
   "source": [
    "2. Defina las funciones dadas como funciones de Python, con argumento de entrada $x$."
   ]
  },
  {
   "cell_type": "code",
   "execution_count": 60,
   "id": "bc641855",
   "metadata": {},
   "outputs": [],
   "source": [
    "f1=np.sin(x)*np.exp(x/10)+1\n",
    "f2=0.15*x"
   ]
  },
  {
   "cell_type": "code",
   "execution_count": 61,
   "id": "5c866945",
   "metadata": {},
   "outputs": [
    {
     "data": {
      "text/plain": [
       "1.4571347335751779"
      ]
     },
     "execution_count": 61,
     "metadata": {},
     "output_type": "execute_result"
    }
   ],
   "source": [
    "import numpy as np\n",
    "import random\n",
    "import matplotlib.pyplot as plt\n",
    "\n",
    "\n",
    "def f(x):\n",
    "  return np.sin(x)*np.exp(x/10)+1\n",
    "a=2\n",
    "b=2.1\n",
    "n=100\n",
    "np.random.seed(14)\n",
    "u1=np.random.uniform(a,b,n)\n",
    "\n",
    "np.mean(f(u))\n"
   ]
  },
  {
   "cell_type": "markdown",
   "id": "e519d3f9",
   "metadata": {},
   "source": [
    "3. Grafique las funciones en una sola figura. Utiliza el comando `plt.fill_between` para rellenar el área a integrar."
   ]
  },
  {
   "cell_type": "code",
   "execution_count": 57,
   "id": "ebeb6c6c",
   "metadata": {},
   "outputs": [
    {
     "ename": "KeyError",
     "evalue": "'error'",
     "output_type": "error",
     "traceback": [
      "\u001b[1;31m---------------------------------------------------------------------------\u001b[0m",
      "\u001b[1;31mKeyError\u001b[0m                                  Traceback (most recent call last)",
      "File \u001b[1;32m~\\anaconda3\\Lib\\site-packages\\pandas\\core\\indexes\\base.py:3802\u001b[0m, in \u001b[0;36mIndex.get_loc\u001b[1;34m(self, key, method, tolerance)\u001b[0m\n\u001b[0;32m   3801\u001b[0m \u001b[38;5;28;01mtry\u001b[39;00m:\n\u001b[1;32m-> 3802\u001b[0m     \u001b[38;5;28;01mreturn\u001b[39;00m \u001b[38;5;28mself\u001b[39m\u001b[38;5;241m.\u001b[39m_engine\u001b[38;5;241m.\u001b[39mget_loc(casted_key)\n\u001b[0;32m   3803\u001b[0m \u001b[38;5;28;01mexcept\u001b[39;00m \u001b[38;5;167;01mKeyError\u001b[39;00m \u001b[38;5;28;01mas\u001b[39;00m err:\n",
      "File \u001b[1;32m~\\anaconda3\\Lib\\site-packages\\pandas\\_libs\\index.pyx:138\u001b[0m, in \u001b[0;36mpandas._libs.index.IndexEngine.get_loc\u001b[1;34m()\u001b[0m\n",
      "File \u001b[1;32m~\\anaconda3\\Lib\\site-packages\\pandas\\_libs\\index.pyx:165\u001b[0m, in \u001b[0;36mpandas._libs.index.IndexEngine.get_loc\u001b[1;34m()\u001b[0m\n",
      "File \u001b[1;32mpandas\\_libs\\hashtable_class_helper.pxi:5745\u001b[0m, in \u001b[0;36mpandas._libs.hashtable.PyObjectHashTable.get_item\u001b[1;34m()\u001b[0m\n",
      "File \u001b[1;32mpandas\\_libs\\hashtable_class_helper.pxi:5753\u001b[0m, in \u001b[0;36mpandas._libs.hashtable.PyObjectHashTable.get_item\u001b[1;34m()\u001b[0m\n",
      "\u001b[1;31mKeyError\u001b[0m: 'error'",
      "\nThe above exception was the direct cause of the following exception:\n",
      "\u001b[1;31mKeyError\u001b[0m                                  Traceback (most recent call last)",
      "Cell \u001b[1;32mIn[57], line 2\u001b[0m\n\u001b[0;32m      1\u001b[0m plt\u001b[38;5;241m.\u001b[39mfigure()\n\u001b[1;32m----> 2\u001b[0m plt\u001b[38;5;241m.\u001b[39mplot([\u001b[38;5;241m1\u001b[39m,\u001b[38;5;241m2\u001b[39m,\u001b[38;5;241m3\u001b[39m,\u001b[38;5;241m4\u001b[39m,\u001b[38;5;241m5\u001b[39m],table[\u001b[38;5;124m\"\u001b[39m\u001b[38;5;124merror\u001b[39m\u001b[38;5;124m\"\u001b[39m])\n\u001b[0;32m      3\u001b[0m plt\u001b[38;5;241m.\u001b[39mfill_between\n",
      "File \u001b[1;32m~\\anaconda3\\Lib\\site-packages\\pandas\\core\\frame.py:3807\u001b[0m, in \u001b[0;36mDataFrame.__getitem__\u001b[1;34m(self, key)\u001b[0m\n\u001b[0;32m   3805\u001b[0m \u001b[38;5;28;01mif\u001b[39;00m \u001b[38;5;28mself\u001b[39m\u001b[38;5;241m.\u001b[39mcolumns\u001b[38;5;241m.\u001b[39mnlevels \u001b[38;5;241m>\u001b[39m \u001b[38;5;241m1\u001b[39m:\n\u001b[0;32m   3806\u001b[0m     \u001b[38;5;28;01mreturn\u001b[39;00m \u001b[38;5;28mself\u001b[39m\u001b[38;5;241m.\u001b[39m_getitem_multilevel(key)\n\u001b[1;32m-> 3807\u001b[0m indexer \u001b[38;5;241m=\u001b[39m \u001b[38;5;28mself\u001b[39m\u001b[38;5;241m.\u001b[39mcolumns\u001b[38;5;241m.\u001b[39mget_loc(key)\n\u001b[0;32m   3808\u001b[0m \u001b[38;5;28;01mif\u001b[39;00m is_integer(indexer):\n\u001b[0;32m   3809\u001b[0m     indexer \u001b[38;5;241m=\u001b[39m [indexer]\n",
      "File \u001b[1;32m~\\anaconda3\\Lib\\site-packages\\pandas\\core\\indexes\\base.py:3804\u001b[0m, in \u001b[0;36mIndex.get_loc\u001b[1;34m(self, key, method, tolerance)\u001b[0m\n\u001b[0;32m   3802\u001b[0m     \u001b[38;5;28;01mreturn\u001b[39;00m \u001b[38;5;28mself\u001b[39m\u001b[38;5;241m.\u001b[39m_engine\u001b[38;5;241m.\u001b[39mget_loc(casted_key)\n\u001b[0;32m   3803\u001b[0m \u001b[38;5;28;01mexcept\u001b[39;00m \u001b[38;5;167;01mKeyError\u001b[39;00m \u001b[38;5;28;01mas\u001b[39;00m err:\n\u001b[1;32m-> 3804\u001b[0m     \u001b[38;5;28;01mraise\u001b[39;00m \u001b[38;5;167;01mKeyError\u001b[39;00m(key) \u001b[38;5;28;01mfrom\u001b[39;00m \u001b[38;5;21;01merr\u001b[39;00m\n\u001b[0;32m   3805\u001b[0m \u001b[38;5;28;01mexcept\u001b[39;00m \u001b[38;5;167;01mTypeError\u001b[39;00m:\n\u001b[0;32m   3806\u001b[0m     \u001b[38;5;66;03m# If we have a listlike key, _check_indexing_error will raise\u001b[39;00m\n\u001b[0;32m   3807\u001b[0m     \u001b[38;5;66;03m#  InvalidIndexError. Otherwise we fall through and re-raise\u001b[39;00m\n\u001b[0;32m   3808\u001b[0m     \u001b[38;5;66;03m#  the TypeError.\u001b[39;00m\n\u001b[0;32m   3809\u001b[0m     \u001b[38;5;28mself\u001b[39m\u001b[38;5;241m.\u001b[39m_check_indexing_error(key)\n",
      "\u001b[1;31mKeyError\u001b[0m: 'error'"
     ]
    },
    {
     "data": {
      "text/plain": [
       "<Figure size 640x480 with 0 Axes>"
      ]
     },
     "metadata": {},
     "output_type": "display_data"
    }
   ],
   "source": [
    "plt.figure()\n",
    "plt.plot([1,2,3,4,5],table[\"error\"])\n",
    "plt.fill_between"
   ]
  },
  {
   "cell_type": "markdown",
   "id": "fca88039",
   "metadata": {},
   "source": [
    "4. ¿Cuál es el área del espacio que se llenó después de `plt.fill_between`? Aproxima tu resultado con 1'000,000 puntos."
   ]
  },
  {
   "cell_type": "code",
   "execution_count": null,
   "id": "797accd7",
   "metadata": {},
   "outputs": [],
   "source": []
  },
  {
   "cell_type": "markdown",
   "id": "12b6a146",
   "metadata": {
    "colab_type": "text",
    "id": "recZkMzsMWbc"
   },
   "source": [
    "5. En un _DataFrame_ de _pandas_ escriba el valor de **las integrales ($f_1(x)$, $f_2(x)$, área total)** y el **error** para $N=10^4,\\, 10^5,\\, 10^6$."
   ]
  },
  {
   "cell_type": "markdown",
   "id": "b22401ea",
   "metadata": {},
   "source": []
  },
  {
   "cell_type": "markdown",
   "id": "ee0e9e1c",
   "metadata": {
    "colab_type": "text",
    "id": "IUn6WvoMGV7Z"
   },
   "source": [
    "---\n",
    "### Integración Monte Carlo tipo 2 \n",
    "Dada una superfice en el espacio $f(x,y)$, una curva de nivel, es el corte transversal donde se cumple $f(x,y)=v$, con $v$ tal que pertenece al dominio de $f$. \n",
    "\n"
   ]
  },
  {
   "cell_type": "markdown",
   "id": "ac72b0c6",
   "metadata": {},
   "source": [
    "**Función 1:** Encuentre el área de todas las curvas de nivel que cumplan $f(x,y)>v$, donde \n",
    "$$\n",
    "f(x,y)=-xy\\,e^{-x^2-y^2},\n",
    "$$\n",
    "y $v=0.05$"
   ]
  },
  {
   "cell_type": "markdown",
   "id": "b825a3f7",
   "metadata": {
    "colab_type": "text",
    "id": "IUn6WvoMGV7Z"
   },
   "source": [
    "**Función 2:** Encuentre el área que cumpla $f(x,y)>v$, donde \n",
    "$$\n",
    "f(x,y)=e^{-0.05(x^2+y^2)}\\sin(x^2+y^2),\n",
    "$$\n",
    "y $v=0.5$."
   ]
  },
  {
   "cell_type": "markdown",
   "id": "7949ae64",
   "metadata": {
    "colab_type": "text",
    "id": "aKvXQflPIweM"
   },
   "source": [
    "1. Escriba la función que discrimine los puntos que satisfacen la restricción $f(x,y)>v$, con argumentos de entrada $x$ y $y$ y que regrese Verdadero o Falso."
   ]
  },
  {
   "cell_type": "code",
   "execution_count": 31,
   "id": "dbe0f378",
   "metadata": {
    "colab": {},
    "colab_type": "code",
    "id": "lnOHGKL3JLlm"
   },
   "outputs": [
    {
     "data": {
      "text/plain": [
       "-0.09839653078614237"
      ]
     },
     "execution_count": 31,
     "metadata": {},
     "output_type": "execute_result"
    }
   ],
   "source": [
    "def fun_act(x,y):\n",
    "    return   -x*y*np.exp(-x**2-y**2)\n",
    "def montecarlo2 (region,xa,xb,ya,yb,N):\n",
    "    x=np.random.uniform(xa,xb,N)\n",
    "    y=np.random.uniform(ya,yb,N)\n",
    "    b=region(x,y)\n",
    "    AR=(xb-xa)*(yb-ya)\n",
    "    return np.mean(b)*AR\n",
    "montecarlo2(fun_act,0,1,0,1,500)"
   ]
  },
  {
   "cell_type": "code",
   "execution_count": 38,
   "id": "94ac70c6",
   "metadata": {},
   "outputs": [
    {
     "data": {
      "text/plain": [
       "<matplotlib.collections.PathCollection at 0x14462275ed0>"
      ]
     },
     "execution_count": 38,
     "metadata": {},
     "output_type": "execute_result"
    },
    {
     "data": {
      "image/png": "[encoded data removed]",
      "text/plain": [
       "<Figure size 640x480 with 1 Axes>"
      ]
     },
     "metadata": {},
     "output_type": "display_data"
    }
   ],
   "source": [
    "x=np.random.uniform(-2,2,100)\n",
    "y=np.random.uniform(-2\n",
    "                    ,2\n",
    "                    ,100)\n",
    "\n",
    "X,Y= np.meshgrid(x,y)\n",
    "plt.figure()\n",
    "plt.scatter(X,Y,c=fun_act(X,Y))"
   ]
  },
  {
   "cell_type": "markdown",
   "id": "6a10cfd9",
   "metadata": {
    "colab_type": "text",
    "id": "vYHLYKC5JMor"
   },
   "source": [
    "2. Encuentre los límites de integración para $x$ y para $y$ que encierren el área deseada y grafique."
   ]
  },
  {
   "cell_type": "markdown",
   "id": "f6327e37",
   "metadata": {
    "colab": {},
    "colab_type": "code",
    "id": "bZlKKTFrJplS"
   },
   "source": [
    "los limites son de un cubo de 2 a 2\n"
   ]
  },
  {
   "cell_type": "markdown",
   "id": "392d34c2",
   "metadata": {
    "colab_type": "text",
    "id": "SNMVh09zJrhu"
   },
   "source": [
    "3. Escriba la función para integrar con el método de Montecaralo de tipo 2 con argumentos de entrada $f$, $xmin$, $xmax$, $ymin$, $ymax$, y $N$. Donde $f$ es una función que define la región de integración; $xmin$, $xmax$, $ymin$ y $ymax$ definen los límites de integración y $N$ el número de puntos en $x$ y $y$ para usar en el método. Esta función debe regresar el valor de la integral."
   ]
  },
  {
   "cell_type": "code",
   "execution_count": 39,
   "id": "11d04ed5",
   "metadata": {
    "colab": {},
    "colab_type": "code",
    "id": "9lx_xP1nKwuH"
   },
   "outputs": [
    {
     "data": {
      "text/html": [
       "<div>\n",
       "<style scoped>\n",
       "    .dataframe tbody tr th:only-of-type {\n",
       "        vertical-align: middle;\n",
       "    }\n",
       "\n",
       "    .dataframe tbody tr th {\n",
       "        vertical-align: top;\n",
       "    }\n",
       "\n",
       "    .dataframe thead th {\n",
       "        text-align: right;\n",
       "    }\n",
       "</style>\n",
       "<table border=\"1\" class=\"dataframe\">\n",
       "  <thead>\n",
       "    <tr style=\"text-align: right;\">\n",
       "      <th></th>\n",
       "      <th>aproximacion</th>\n",
       "    </tr>\n",
       "  </thead>\n",
       "  <tbody>\n",
       "    <tr>\n",
       "      <th>10.0</th>\n",
       "      <td>-0.106607</td>\n",
       "    </tr>\n",
       "    <tr>\n",
       "      <th>100.0</th>\n",
       "      <td>-0.100272</td>\n",
       "    </tr>\n",
       "    <tr>\n",
       "      <th>1000.0</th>\n",
       "      <td>-0.101273</td>\n",
       "    </tr>\n",
       "    <tr>\n",
       "      <th>10000.0</th>\n",
       "      <td>-0.100435</td>\n",
       "    </tr>\n",
       "    <tr>\n",
       "      <th>100000.0</th>\n",
       "      <td>-0.100065</td>\n",
       "    </tr>\n",
       "  </tbody>\n",
       "</table>\n",
       "</div>"
      ],
      "text/plain": [
       "         aproximacion\n",
       "10.0        -0.106607\n",
       "100.0       -0.100272\n",
       "1000.0      -0.101273\n",
       "10000.0     -0.100435\n",
       "100000.0    -0.100065"
      ]
     },
     "execution_count": 39,
     "metadata": {},
     "output_type": "execute_result"
    }
   ],
   "source": [
    "import pandas as pd\n",
    "n=np.logspace(1,5,5)\n",
    "n\n",
    "table = pd.DataFrame(columns=[\"aproximacion\"],index=n)\n",
    "for i in n :\n",
    "    aproximacion = montecarlo2(fun_act,0,1,0,1,int(i))\n",
    "    table.loc[i,\"aproximacion\"]=aproximacion\n",
    "  \n",
    "table"
   ]
  },
  {
   "cell_type": "markdown",
   "id": "ed339417",
   "metadata": {
    "colab_type": "text",
    "id": "recZkMzsMWbc"
   },
   "source": [
    "4. En un _DataFrame_ de _pandas_ escriba el valor de **las integrales** y la **estimación del error relativo** para $N=10^4,\\, 10^5,\\, 10^6$."
   ]
  },
  {
   "cell_type": "code",
   "execution_count": 51,
   "id": "e650bd74",
   "metadata": {
    "colab": {},
    "colab_type": "code",
    "id": "Yxiw2ilFNPn9"
   },
   "outputs": [
    {
     "ename": "NameError",
     "evalue": "name 'f' is not defined",
     "output_type": "error",
     "traceback": [
      "\u001b[1;31m---------------------------------------------------------------------------\u001b[0m",
      "\u001b[1;31mNameError\u001b[0m                                 Traceback (most recent call last)",
      "Cell \u001b[1;32mIn[51], line 2\u001b[0m\n\u001b[0;32m      1\u001b[0m \u001b[38;5;28;01mfor\u001b[39;00m i \u001b[38;5;129;01min\u001b[39;00m n :\n\u001b[1;32m----> 2\u001b[0m   aproximacion \u001b[38;5;241m=\u001b[39m montecarlo(f,\u001b[38;5;28mint\u001b[39m(i),\u001b[38;5;241m0\u001b[39m,\u001b[38;5;241m1\u001b[39m)\n\u001b[0;32m      3\u001b[0m   table\u001b[38;5;241m.\u001b[39mloc[i,\u001b[38;5;124m\"\u001b[39m\u001b[38;5;124maproximacion\u001b[39m\u001b[38;5;124m\"\u001b[39m]\u001b[38;5;241m=\u001b[39maproximacion\n\u001b[0;32m      4\u001b[0m   table\u001b[38;5;241m.\u001b[39mloc[i,\u001b[38;5;124m\"\u001b[39m\u001b[38;5;124merror\u001b[39m\u001b[38;5;124m\"\u001b[39m]\u001b[38;5;241m=\u001b[39m\u001b[38;5;28mabs\u001b[39m(\u001b[38;5;241m0.0432857\u001b[39m\u001b[38;5;241m-\u001b[39maproximacion)\n",
      "\u001b[1;31mNameError\u001b[0m: name 'f' is not defined"
     ]
    }
   ],
   "source": [
    "for i in n :\n",
    "  aproximacion = montecarlo(f,int(i),0,1)\n",
    "  table.loc[i,\"aproximacion\"]=aproximacion\n",
    "  table.loc[i,\"error\"]=abs(0.0432857-aproximacion)"
   ]
  },
  {
   "cell_type": "code",
   "execution_count": 41,
   "id": "05e1a86b",
   "metadata": {},
   "outputs": [],
   "source": [
    "def montecarlo (f,n,a,b):\n",
    "  u=np.random.uniform(a,b,n)\n",
    "  media=np.mean(f(u))\n",
    "  return media*(b-a)\n"
   ]
  },
  {
   "cell_type": "markdown",
   "id": "114a4900",
   "metadata": {
    "colab_type": "text",
    "id": "GtE9MajVSmjL"
   },
   "source": [
    "---\n",
    "### Generación de fractales\n",
    "\n",
    "Los fractales de tipo Barnsley se generan con transformaciones afines con cierta probabilidad.\n",
    "\n",
    "Genere un cuadro perturbado tridimensional con la ecuación:\n",
    "$$\n",
    "\\begin{bmatrix}x_{k+1}\\\\y_{k+1}\\\\z_{k+1}\n",
    "\\end{bmatrix}=A_i\\begin{bmatrix}x_k\\\\y_k\\\\z_k\\end{bmatrix}+b_i\n",
    "$$\n",
    "Y sus respectivas matrices:"
   ]
  },
  {
   "cell_type": "markdown",
   "id": "f7be62f8",
   "metadata": {},
   "source": [
    "**Fractal 1:**"
   ]
  },
  {
   "cell_type": "code",
   "execution_count": 43,
   "id": "b098c88b",
   "metadata": {},
   "outputs": [],
   "source": [
    "import numpy as np\n",
    "\n",
    "A0 = np.array([[0.5,0.1853,0],[0.1667,0.3639,-0.0962],[0,0.1555,0.5]])\n",
    "b0 = np.array([-1.0462,-0.8914,1.2468]).reshape(-1, 1)\n",
    "\n",
    "A1 = np.array([[0.5,0.042,0],[-0.1667,0.3639,-0.0962],[0,-0.2382,0.5]])\n",
    "b1 = np.array([1.6029,-0.8914,0.2826]).reshape(-1, 1)\n",
    "\n",
    "A2 = np.array([[0.5,-0.2273,0],[0,-0.3639,0.1925],[0,0.0827,0.5]])\n",
    "b2 = np.array([-0.5567,-0.8914,-1.5294]).reshape(-1, 1)\n",
    "\n",
    "A3 = np.array([[0.383,0,0.3214],[0,0.5,0],[-0.3214,0,0.383]])\n",
    "b3 = np.array([0,1.2247,0]).reshape(-1, 1)"
   ]
  },
  {
   "cell_type": "code",
   "execution_count": 50,
   "id": "314d32da",
   "metadata": {},
   "outputs": [
    {
     "data": {
      "image/png": "[encoded data removed]",
      "text/plain": [
       "<Figure size 800x800 with 1 Axes>"
      ]
     },
     "metadata": {},
     "output_type": "display_data"
    }
   ],
   "source": [
    "\n",
    "import numpy as np\n",
    "import matplotlib.pyplot as plt\n",
    "\n",
    "A = [A0, A1, A2, A3]\n",
    "b = [b0, b1, b2, b3]\n",
    "\n",
    "x, y, z = 0, 0, 0\n",
    "\n",
    "num_iterations = 100000\n",
    "\n",
    "x_v, y_v, z_v = [], [], []\n",
    "\n",
    "probabilities = [0.85, 0.07, 0.07, 0.01]\n",
    "\n",
    "for _ in range(num_iterations):\n",
    " \n",
    "    tran = np.random.choice([0, 1, 2, 3], p=probabilities)\n",
    "    \n",
    "\n",
    "    new_x, new_y, new_z = np.dot(A[tran], np.array([x, y, z])) + b[tran]\n",
    "    \n",
    "    \n",
    "    x, y, z = new_x, new_y, new_z\n",
    "    \n",
    "    \n",
    "    x_v.append(x)\n",
    "    y_v.append(y)\n",
    "    z_v.append(z)\n",
    "\n",
    "\n",
    "plt.figure(figsize=(8, 8))\n",
    "plt.scatter(x_v, y_v, s=1, c=z_v, cmap='viridis', edgecolor='none')\n",
    "plt.show()\n"
   ]
  },
  {
   "cell_type": "code",
   "execution_count": null,
   "id": "11d28542",
   "metadata": {},
   "outputs": [],
   "source": []
  },
  {
   "cell_type": "code",
   "execution_count": null,
   "id": "a03df50e",
   "metadata": {},
   "outputs": [],
   "source": []
  },
  {
   "cell_type": "code",
   "execution_count": null,
   "id": "352bf8df",
   "metadata": {},
   "outputs": [],
   "source": []
  },
  {
   "cell_type": "markdown",
   "id": "f351eede",
   "metadata": {},
   "source": [
    "**Fractal 2:**"
   ]
  },
  {
   "cell_type": "code",
   "execution_count": null,
   "id": "d180847c",
   "metadata": {},
   "outputs": [],
   "source": [
    "import numpy as np\n",
    "\n",
    "A0 = np.array([[0,0,0],[0,0.18,0],[0,0,0]])\n",
    "b0 = np.array([0,0,0])\n",
    "\n",
    "A1 = np.array([[0.85,0,0],[0,0.85,0.1],[0,-0.1,0.85]])\n",
    "b1 = np.array([0,1.6,0])\n",
    "\n",
    "A2 = np.array([[0.2,-0.2,0],[0.2,0.2,0],[0,0,0.3]])\n",
    "b2 = np.array([0,0.8,0])\n",
    "\n",
    "A3 = np.array([[-0.2,0.2,0],[0.2,0.2,0],[0,0,0.3]])\n",
    "b3 = np.array([0,0.8,0])"
   ]
  },
  {
   "cell_type": "markdown",
   "id": "1bf3e0db",
   "metadata": {},
   "source": [
    "cuya probabilidad es la misma para cada $i=\\{0,1,2,3\\}$. Use la función scatter de una proyección 3D sobre los ejes:\n",
    "```\n",
    "import matplotlib.pyplot as plt\n",
    "from mpl_toolkits.mplot3d import Axes3D\n",
    "\n",
    "fig=plt.figure()\n",
    "ax=fig.gca(projection='3d')\n",
    "ax.scatter(x,y,z)\n",
    "```"
   ]
  },
  {
   "cell_type": "code",
   "execution_count": null,
   "id": "1cae2934",
   "metadata": {},
   "outputs": [],
   "source": []
  },
  {
   "cell_type": "markdown",
   "id": "57442706",
   "metadata": {
    "colab_type": "text",
    "id": "RfYMRwkTVNue"
   },
   "source": [
    "---\n",
    "### Probabilidad Precio-Umbral\n",
    "Se tiene la siguiente lista de empresas:\n",
    "- Spotify\n",
    "- Mercado Libre\n",
    "- Microsoft\n",
    "- Walmart\n",
    "- Google\n",
    "- Tesla\n",
    "- Netflix\n",
    "- Amazon\n",
    "- Oracle\n",
    "- Intel\n",
    "\n",
    "Suponga que desea invertir en dos de ellas. Evalúe la probabilidad de obtener un retorno del 10% en tres meses a partir del 30 de septiembre del presente año."
   ]
  },
  {
   "cell_type": "markdown",
   "id": "2e5d95c6",
   "metadata": {},
   "source": [
    "1. Describa una función para obtener los precios de cierre ajustados para dividendos y divisiones desde *YAHOO finance*, usando el paquete de *yfinance*, donde los argumentos de entrada sean los nombres de las empresas, la fecha de inicio, y la fecha de fin a los cuales se obtendrán los datos."
   ]
  },
  {
   "cell_type": "code",
   "execution_count": 4,
   "id": "3ed489a4",
   "metadata": {},
   "outputs": [],
   "source": [
    "import yfinance as yf"
   ]
  },
  {
   "cell_type": "code",
   "execution_count": 5,
   "id": "b0592a44",
   "metadata": {},
   "outputs": [],
   "source": [
    "def getClose(name, start, end) :\n",
    "    return yf.download(name,start,end)[\"Adj Close\"]"
   ]
  },
  {
   "cell_type": "markdown",
   "id": "a11fc154",
   "metadata": {},
   "source": [
    "2. Obtenga los precios de cierre ajustados desde el 30 de septiembre de 2021 al 29 de septiembre de 2023."
   ]
  },
  {
   "cell_type": "code",
   "execution_count": 6,
   "id": "9fa57a5d",
   "metadata": {},
   "outputs": [
    {
     "name": "stdout",
     "output_type": "stream",
     "text": [
      "[*********************100%%**********************]  2 of 2 completed\n"
     ]
    },
    {
     "data": {
      "text/html": [
       "<div>\n",
       "<style scoped>\n",
       "    .dataframe tbody tr th:only-of-type {\n",
       "        vertical-align: middle;\n",
       "    }\n",
       "\n",
       "    .dataframe tbody tr th {\n",
       "        vertical-align: top;\n",
       "    }\n",
       "\n",
       "    .dataframe thead th {\n",
       "        text-align: right;\n",
       "    }\n",
       "</style>\n",
       "<table border=\"1\" class=\"dataframe\">\n",
       "  <thead>\n",
       "    <tr style=\"text-align: right;\">\n",
       "      <th></th>\n",
       "      <th>NFLX</th>\n",
       "      <th>WMT</th>\n",
       "    </tr>\n",
       "    <tr>\n",
       "      <th>Date</th>\n",
       "      <th></th>\n",
       "      <th></th>\n",
       "    </tr>\n",
       "  </thead>\n",
       "  <tbody>\n",
       "    <tr>\n",
       "      <th>2015-01-02</th>\n",
       "      <td>49.848572</td>\n",
       "      <td>71.431725</td>\n",
       "    </tr>\n",
       "    <tr>\n",
       "      <th>2015-01-05</th>\n",
       "      <td>47.311428</td>\n",
       "      <td>71.223824</td>\n",
       "    </tr>\n",
       "    <tr>\n",
       "      <th>2015-01-06</th>\n",
       "      <td>46.501431</td>\n",
       "      <td>71.772652</td>\n",
       "    </tr>\n",
       "    <tr>\n",
       "      <th>2015-01-07</th>\n",
       "      <td>46.742859</td>\n",
       "      <td>73.676964</td>\n",
       "    </tr>\n",
       "    <tr>\n",
       "      <th>2015-01-08</th>\n",
       "      <td>47.779999</td>\n",
       "      <td>75.231995</td>\n",
       "    </tr>\n",
       "    <tr>\n",
       "      <th>...</th>\n",
       "      <td>...</td>\n",
       "      <td>...</td>\n",
       "    </tr>\n",
       "    <tr>\n",
       "      <th>2019-12-23</th>\n",
       "      <td>333.100006</td>\n",
       "      <td>112.169952</td>\n",
       "    </tr>\n",
       "    <tr>\n",
       "      <th>2019-12-24</th>\n",
       "      <td>333.200012</td>\n",
       "      <td>112.622284</td>\n",
       "    </tr>\n",
       "    <tr>\n",
       "      <th>2019-12-26</th>\n",
       "      <td>332.630005</td>\n",
       "      <td>112.631721</td>\n",
       "    </tr>\n",
       "    <tr>\n",
       "      <th>2019-12-27</th>\n",
       "      <td>329.089996</td>\n",
       "      <td>112.697678</td>\n",
       "    </tr>\n",
       "    <tr>\n",
       "      <th>2019-12-30</th>\n",
       "      <td>323.309998</td>\n",
       "      <td>112.518623</td>\n",
       "    </tr>\n",
       "  </tbody>\n",
       "</table>\n",
       "<p>1257 rows × 2 columns</p>\n",
       "</div>"
      ],
      "text/plain": [
       "                  NFLX         WMT\n",
       "Date                              \n",
       "2015-01-02   49.848572   71.431725\n",
       "2015-01-05   47.311428   71.223824\n",
       "2015-01-06   46.501431   71.772652\n",
       "2015-01-07   46.742859   73.676964\n",
       "2015-01-08   47.779999   75.231995\n",
       "...                ...         ...\n",
       "2019-12-23  333.100006  112.169952\n",
       "2019-12-24  333.200012  112.622284\n",
       "2019-12-26  332.630005  112.631721\n",
       "2019-12-27  329.089996  112.697678\n",
       "2019-12-30  323.309998  112.518623\n",
       "\n",
       "[1257 rows x 2 columns]"
      ]
     },
     "execution_count": 6,
     "metadata": {},
     "output_type": "execute_result"
    }
   ],
   "source": [
    "data = getClose([\"NFLX\", \"WMT\"], \"2015-01-01\", \"2019-12-31\")\n",
    "data"
   ]
  },
  {
   "cell_type": "markdown",
   "id": "a84c74b2",
   "metadata": {},
   "source": [
    "3. Calcule el rendimiento **simple** para ambas empresas."
   ]
  },
  {
   "cell_type": "code",
   "execution_count": 9,
   "id": "84053d97",
   "metadata": {},
   "outputs": [
    {
     "data": {
      "text/plain": [
       "<Axes: ylabel='Frequency'>"
      ]
     },
     "execution_count": 9,
     "metadata": {},
     "output_type": "execute_result"
    },
    {
     "data": {
      "image/png": "[encoded data removed]",
      "text/plain": [
       "<Figure size 640x480 with 1 Axes>"
      ]
     },
     "metadata": {},
     "output_type": "display_data"
    }
   ],
   "source": [
    "\n",
    "R = (data - data.shift())/data.shift()\n",
    "R.plot.hist()"
   ]
  },
  {
   "cell_type": "markdown",
   "id": "62abc4cf",
   "metadata": {},
   "source": [
    "4. Escriba una función que, dando como argumentos:\n",
    "* un vector de valores\n",
    "* la fecha de inicio,\n",
    "* **la fecha del fin de simulación** (**NO el número de días**) y\n",
    "* número de escenarios a simular;\n",
    "\n",
    "calcula la media, la desviación estándar, y regrese en un _DataFrame_ de _pandas_ datos simulados de una distribución normal caracterizada cuyo índice sea el rango de fechas dadas como argumentos."
   ]
  },
  {
   "cell_type": "code",
   "execution_count": 28,
   "id": "b718d158",
   "metadata": {},
   "outputs": [
    {
     "data": {
      "text/html": [
       "<div>\n",
       "<style scoped>\n",
       "    .dataframe tbody tr th:only-of-type {\n",
       "        vertical-align: middle;\n",
       "    }\n",
       "\n",
       "    .dataframe tbody tr th {\n",
       "        vertical-align: top;\n",
       "    }\n",
       "\n",
       "    .dataframe thead th {\n",
       "        text-align: right;\n",
       "    }\n",
       "</style>\n",
       "<table border=\"1\" class=\"dataframe\">\n",
       "  <thead>\n",
       "    <tr style=\"text-align: right;\">\n",
       "      <th></th>\n",
       "      <th>0</th>\n",
       "      <th>1</th>\n",
       "      <th>2</th>\n",
       "      <th>3</th>\n",
       "      <th>4</th>\n",
       "      <th>5</th>\n",
       "      <th>6</th>\n",
       "      <th>7</th>\n",
       "      <th>8</th>\n",
       "      <th>9</th>\n",
       "      <th>...</th>\n",
       "      <th>99990</th>\n",
       "      <th>99991</th>\n",
       "      <th>99992</th>\n",
       "      <th>99993</th>\n",
       "      <th>99994</th>\n",
       "      <th>99995</th>\n",
       "      <th>99996</th>\n",
       "      <th>99997</th>\n",
       "      <th>99998</th>\n",
       "      <th>99999</th>\n",
       "    </tr>\n",
       "  </thead>\n",
       "  <tbody>\n",
       "    <tr>\n",
       "      <th>2023-10-16</th>\n",
       "      <td>0.015230</td>\n",
       "      <td>-0.004011</td>\n",
       "      <td>-0.004740</td>\n",
       "      <td>0.007087</td>\n",
       "      <td>0.005544</td>\n",
       "      <td>-0.000215</td>\n",
       "      <td>-0.010976</td>\n",
       "      <td>0.000152</td>\n",
       "      <td>-0.008102</td>\n",
       "      <td>-0.002522</td>\n",
       "      <td>...</td>\n",
       "      <td>0.003150</td>\n",
       "      <td>0.001904</td>\n",
       "      <td>0.013003</td>\n",
       "      <td>-0.005394</td>\n",
       "      <td>0.018635</td>\n",
       "      <td>-0.006114</td>\n",
       "      <td>-0.025610</td>\n",
       "      <td>-0.017447</td>\n",
       "      <td>-0.000883</td>\n",
       "      <td>-0.005524</td>\n",
       "    </tr>\n",
       "    <tr>\n",
       "      <th>2023-10-17</th>\n",
       "      <td>0.012461</td>\n",
       "      <td>0.000183</td>\n",
       "      <td>0.015057</td>\n",
       "      <td>0.002310</td>\n",
       "      <td>-0.003604</td>\n",
       "      <td>0.000213</td>\n",
       "      <td>0.002507</td>\n",
       "      <td>0.012852</td>\n",
       "      <td>0.010075</td>\n",
       "      <td>-0.017706</td>\n",
       "      <td>...</td>\n",
       "      <td>-0.010052</td>\n",
       "      <td>0.010893</td>\n",
       "      <td>-0.002762</td>\n",
       "      <td>-0.014821</td>\n",
       "      <td>0.013190</td>\n",
       "      <td>-0.027062</td>\n",
       "      <td>0.010218</td>\n",
       "      <td>-0.009534</td>\n",
       "      <td>0.000141</td>\n",
       "      <td>-0.014019</td>\n",
       "    </tr>\n",
       "    <tr>\n",
       "      <th>2023-10-18</th>\n",
       "      <td>-0.000154</td>\n",
       "      <td>0.023091</td>\n",
       "      <td>0.031877</td>\n",
       "      <td>0.013870</td>\n",
       "      <td>-0.002036</td>\n",
       "      <td>0.002643</td>\n",
       "      <td>-0.017213</td>\n",
       "      <td>0.007195</td>\n",
       "      <td>0.008352</td>\n",
       "      <td>-0.003580</td>\n",
       "      <td>...</td>\n",
       "      <td>0.016750</td>\n",
       "      <td>-0.020021</td>\n",
       "      <td>-0.019128</td>\n",
       "      <td>-0.005731</td>\n",
       "      <td>-0.038780</td>\n",
       "      <td>0.001833</td>\n",
       "      <td>-0.003372</td>\n",
       "      <td>0.008360</td>\n",
       "      <td>-0.027930</td>\n",
       "      <td>-0.003231</td>\n",
       "    </tr>\n",
       "    <tr>\n",
       "      <th>2023-10-19</th>\n",
       "      <td>-0.016874</td>\n",
       "      <td>-0.018856</td>\n",
       "      <td>-0.002538</td>\n",
       "      <td>-0.001402</td>\n",
       "      <td>-0.003324</td>\n",
       "      <td>0.000318</td>\n",
       "      <td>0.011511</td>\n",
       "      <td>-0.015401</td>\n",
       "      <td>-0.022790</td>\n",
       "      <td>0.000811</td>\n",
       "      <td>...</td>\n",
       "      <td>0.011391</td>\n",
       "      <td>0.024678</td>\n",
       "      <td>-0.009673</td>\n",
       "      <td>0.015764</td>\n",
       "      <td>0.005247</td>\n",
       "      <td>0.002247</td>\n",
       "      <td>-0.005062</td>\n",
       "      <td>0.028665</td>\n",
       "      <td>0.001892</td>\n",
       "      <td>-0.014857</td>\n",
       "    </tr>\n",
       "    <tr>\n",
       "      <th>2023-10-20</th>\n",
       "      <td>0.010163</td>\n",
       "      <td>0.007882</td>\n",
       "      <td>-0.012675</td>\n",
       "      <td>-0.011926</td>\n",
       "      <td>0.007766</td>\n",
       "      <td>0.006059</td>\n",
       "      <td>0.009250</td>\n",
       "      <td>-0.008658</td>\n",
       "      <td>0.000191</td>\n",
       "      <td>0.002697</td>\n",
       "      <td>...</td>\n",
       "      <td>-0.002394</td>\n",
       "      <td>-0.011860</td>\n",
       "      <td>0.008812</td>\n",
       "      <td>0.014108</td>\n",
       "      <td>-0.005974</td>\n",
       "      <td>-0.004313</td>\n",
       "      <td>-0.007308</td>\n",
       "      <td>0.005772</td>\n",
       "      <td>0.003846</td>\n",
       "      <td>0.008470</td>\n",
       "    </tr>\n",
       "    <tr>\n",
       "      <th>...</th>\n",
       "      <td>...</td>\n",
       "      <td>...</td>\n",
       "      <td>...</td>\n",
       "      <td>...</td>\n",
       "      <td>...</td>\n",
       "      <td>...</td>\n",
       "      <td>...</td>\n",
       "      <td>...</td>\n",
       "      <td>...</td>\n",
       "      <td>...</td>\n",
       "      <td>...</td>\n",
       "      <td>...</td>\n",
       "      <td>...</td>\n",
       "      <td>...</td>\n",
       "      <td>...</td>\n",
       "      <td>...</td>\n",
       "      <td>...</td>\n",
       "      <td>...</td>\n",
       "      <td>...</td>\n",
       "      <td>...</td>\n",
       "      <td>...</td>\n",
       "    </tr>\n",
       "    <tr>\n",
       "      <th>2024-01-11</th>\n",
       "      <td>-0.009659</td>\n",
       "      <td>-0.002508</td>\n",
       "      <td>-0.000071</td>\n",
       "      <td>-0.001298</td>\n",
       "      <td>-0.000274</td>\n",
       "      <td>0.010486</td>\n",
       "      <td>-0.002925</td>\n",
       "      <td>0.013142</td>\n",
       "      <td>0.012668</td>\n",
       "      <td>-0.004262</td>\n",
       "      <td>...</td>\n",
       "      <td>0.002799</td>\n",
       "      <td>-0.010680</td>\n",
       "      <td>-0.000168</td>\n",
       "      <td>0.011312</td>\n",
       "      <td>0.013208</td>\n",
       "      <td>-0.006548</td>\n",
       "      <td>0.004645</td>\n",
       "      <td>0.004419</td>\n",
       "      <td>0.014007</td>\n",
       "      <td>-0.010078</td>\n",
       "    </tr>\n",
       "    <tr>\n",
       "      <th>2024-01-12</th>\n",
       "      <td>0.008397</td>\n",
       "      <td>0.004323</td>\n",
       "      <td>0.018169</td>\n",
       "      <td>-0.006088</td>\n",
       "      <td>-0.003670</td>\n",
       "      <td>0.002518</td>\n",
       "      <td>0.001550</td>\n",
       "      <td>0.000915</td>\n",
       "      <td>0.007162</td>\n",
       "      <td>-0.002309</td>\n",
       "      <td>...</td>\n",
       "      <td>-0.017110</td>\n",
       "      <td>-0.027655</td>\n",
       "      <td>-0.002300</td>\n",
       "      <td>-0.014919</td>\n",
       "      <td>-0.002003</td>\n",
       "      <td>0.006992</td>\n",
       "      <td>0.005619</td>\n",
       "      <td>0.016729</td>\n",
       "      <td>0.019013</td>\n",
       "      <td>0.002317</td>\n",
       "    </tr>\n",
       "    <tr>\n",
       "      <th>2024-01-13</th>\n",
       "      <td>-0.012275</td>\n",
       "      <td>0.002354</td>\n",
       "      <td>-0.007044</td>\n",
       "      <td>-0.005756</td>\n",
       "      <td>0.004211</td>\n",
       "      <td>0.001716</td>\n",
       "      <td>-0.009647</td>\n",
       "      <td>0.000554</td>\n",
       "      <td>-0.012532</td>\n",
       "      <td>0.021913</td>\n",
       "      <td>...</td>\n",
       "      <td>0.007509</td>\n",
       "      <td>0.014582</td>\n",
       "      <td>-0.014460</td>\n",
       "      <td>-0.015014</td>\n",
       "      <td>0.008566</td>\n",
       "      <td>-0.001604</td>\n",
       "      <td>-0.010345</td>\n",
       "      <td>0.017772</td>\n",
       "      <td>0.013346</td>\n",
       "      <td>-0.022143</td>\n",
       "    </tr>\n",
       "    <tr>\n",
       "      <th>2024-01-14</th>\n",
       "      <td>0.007461</td>\n",
       "      <td>0.008488</td>\n",
       "      <td>0.006208</td>\n",
       "      <td>0.022523</td>\n",
       "      <td>0.015033</td>\n",
       "      <td>-0.000335</td>\n",
       "      <td>0.000427</td>\n",
       "      <td>-0.008109</td>\n",
       "      <td>-0.014898</td>\n",
       "      <td>-0.008551</td>\n",
       "      <td>...</td>\n",
       "      <td>0.001501</td>\n",
       "      <td>0.011963</td>\n",
       "      <td>-0.013595</td>\n",
       "      <td>0.016252</td>\n",
       "      <td>0.025108</td>\n",
       "      <td>0.004052</td>\n",
       "      <td>0.018356</td>\n",
       "      <td>-0.004948</td>\n",
       "      <td>0.009210</td>\n",
       "      <td>-0.022577</td>\n",
       "    </tr>\n",
       "    <tr>\n",
       "      <th>2024-01-15</th>\n",
       "      <td>0.005931</td>\n",
       "      <td>0.017163</td>\n",
       "      <td>-0.002848</td>\n",
       "      <td>0.003994</td>\n",
       "      <td>0.017266</td>\n",
       "      <td>0.018350</td>\n",
       "      <td>0.018308</td>\n",
       "      <td>0.013978</td>\n",
       "      <td>0.018007</td>\n",
       "      <td>-0.001307</td>\n",
       "      <td>...</td>\n",
       "      <td>0.015103</td>\n",
       "      <td>-0.020194</td>\n",
       "      <td>-0.008669</td>\n",
       "      <td>-0.005713</td>\n",
       "      <td>0.017199</td>\n",
       "      <td>0.000176</td>\n",
       "      <td>0.011563</td>\n",
       "      <td>-0.012417</td>\n",
       "      <td>-0.000199</td>\n",
       "      <td>-0.013831</td>\n",
       "    </tr>\n",
       "  </tbody>\n",
       "</table>\n",
       "<p>92 rows × 100000 columns</p>\n",
       "</div>"
      ],
      "text/plain": [
       "               0         1         2         3         4         5      \\\n",
       "2023-10-16  0.015230 -0.004011 -0.004740  0.007087  0.005544 -0.000215   \n",
       "2023-10-17  0.012461  0.000183  0.015057  0.002310 -0.003604  0.000213   \n",
       "2023-10-18 -0.000154  0.023091  0.031877  0.013870 -0.002036  0.002643   \n",
       "2023-10-19 -0.016874 -0.018856 -0.002538 -0.001402 -0.003324  0.000318   \n",
       "2023-10-20  0.010163  0.007882 -0.012675 -0.011926  0.007766  0.006059   \n",
       "...              ...       ...       ...       ...       ...       ...   \n",
       "2024-01-11 -0.009659 -0.002508 -0.000071 -0.001298 -0.000274  0.010486   \n",
       "2024-01-12  0.008397  0.004323  0.018169 -0.006088 -0.003670  0.002518   \n",
       "2024-01-13 -0.012275  0.002354 -0.007044 -0.005756  0.004211  0.001716   \n",
       "2024-01-14  0.007461  0.008488  0.006208  0.022523  0.015033 -0.000335   \n",
       "2024-01-15  0.005931  0.017163 -0.002848  0.003994  0.017266  0.018350   \n",
       "\n",
       "               6         7         8         9      ...     99990     99991  \\\n",
       "2023-10-16 -0.010976  0.000152 -0.008102 -0.002522  ...  0.003150  0.001904   \n",
       "2023-10-17  0.002507  0.012852  0.010075 -0.017706  ... -0.010052  0.010893   \n",
       "2023-10-18 -0.017213  0.007195  0.008352 -0.003580  ...  0.016750 -0.020021   \n",
       "2023-10-19  0.011511 -0.015401 -0.022790  0.000811  ...  0.011391  0.024678   \n",
       "2023-10-20  0.009250 -0.008658  0.000191  0.002697  ... -0.002394 -0.011860   \n",
       "...              ...       ...       ...       ...  ...       ...       ...   \n",
       "2024-01-11 -0.002925  0.013142  0.012668 -0.004262  ...  0.002799 -0.010680   \n",
       "2024-01-12  0.001550  0.000915  0.007162 -0.002309  ... -0.017110 -0.027655   \n",
       "2024-01-13 -0.009647  0.000554 -0.012532  0.021913  ...  0.007509  0.014582   \n",
       "2024-01-14  0.000427 -0.008109 -0.014898 -0.008551  ...  0.001501  0.011963   \n",
       "2024-01-15  0.018308  0.013978  0.018007 -0.001307  ...  0.015103 -0.020194   \n",
       "\n",
       "               99992     99993     99994     99995     99996     99997  \\\n",
       "2023-10-16  0.013003 -0.005394  0.018635 -0.006114 -0.025610 -0.017447   \n",
       "2023-10-17 -0.002762 -0.014821  0.013190 -0.027062  0.010218 -0.009534   \n",
       "2023-10-18 -0.019128 -0.005731 -0.038780  0.001833 -0.003372  0.008360   \n",
       "2023-10-19 -0.009673  0.015764  0.005247  0.002247 -0.005062  0.028665   \n",
       "2023-10-20  0.008812  0.014108 -0.005974 -0.004313 -0.007308  0.005772   \n",
       "...              ...       ...       ...       ...       ...       ...   \n",
       "2024-01-11 -0.000168  0.011312  0.013208 -0.006548  0.004645  0.004419   \n",
       "2024-01-12 -0.002300 -0.014919 -0.002003  0.006992  0.005619  0.016729   \n",
       "2024-01-13 -0.014460 -0.015014  0.008566 -0.001604 -0.010345  0.017772   \n",
       "2024-01-14 -0.013595  0.016252  0.025108  0.004052  0.018356 -0.004948   \n",
       "2024-01-15 -0.008669 -0.005713  0.017199  0.000176  0.011563 -0.012417   \n",
       "\n",
       "               99998     99999  \n",
       "2023-10-16 -0.000883 -0.005524  \n",
       "2023-10-17  0.000141 -0.014019  \n",
       "2023-10-18 -0.027930 -0.003231  \n",
       "2023-10-19  0.001892 -0.014857  \n",
       "2023-10-20  0.003846  0.008470  \n",
       "...              ...       ...  \n",
       "2024-01-11  0.014007 -0.010078  \n",
       "2024-01-12  0.019013  0.002317  \n",
       "2024-01-13  0.013346 -0.022143  \n",
       "2024-01-14  0.009210 -0.022577  \n",
       "2024-01-15 -0.000199 -0.013831  \n",
       "\n",
       "[92 rows x 100000 columns]"
      ]
     },
     "execution_count": 28,
     "metadata": {},
     "output_type": "execute_result"
    }
   ],
   "source": [
    "def sim_R(media,std,fecha_inicio,dias,N):\n",
    "    R_sim =  np.random.normal(media,std,size=(dias,N))\n",
    "    fechas=pd.date_range(start=fecha_inicio,periods=dias)\n",
    "    return pd.DataFrame(index=fechas,data=R_sim)\n",
    "sim_R(0.000438, 0.012342,\"2023-10-16\",92,100000)"
   ]
  },
  {
   "cell_type": "code",
   "execution_count": 27,
   "id": "33ad3f32",
   "metadata": {},
   "outputs": [
    {
     "data": {
      "text/html": [
       "<div>\n",
       "<style scoped>\n",
       "    .dataframe tbody tr th:only-of-type {\n",
       "        vertical-align: middle;\n",
       "    }\n",
       "\n",
       "    .dataframe tbody tr th {\n",
       "        vertical-align: top;\n",
       "    }\n",
       "\n",
       "    .dataframe thead th {\n",
       "        text-align: right;\n",
       "    }\n",
       "</style>\n",
       "<table border=\"1\" class=\"dataframe\">\n",
       "  <thead>\n",
       "    <tr style=\"text-align: right;\">\n",
       "      <th></th>\n",
       "      <th>0</th>\n",
       "      <th>1</th>\n",
       "      <th>2</th>\n",
       "      <th>3</th>\n",
       "      <th>4</th>\n",
       "      <th>5</th>\n",
       "      <th>6</th>\n",
       "      <th>7</th>\n",
       "      <th>8</th>\n",
       "      <th>9</th>\n",
       "      <th>...</th>\n",
       "      <th>99990</th>\n",
       "      <th>99991</th>\n",
       "      <th>99992</th>\n",
       "      <th>99993</th>\n",
       "      <th>99994</th>\n",
       "      <th>99995</th>\n",
       "      <th>99996</th>\n",
       "      <th>99997</th>\n",
       "      <th>99998</th>\n",
       "      <th>99999</th>\n",
       "    </tr>\n",
       "  </thead>\n",
       "  <tbody>\n",
       "    <tr>\n",
       "      <th>2023-10-16</th>\n",
       "      <td>0.005187</td>\n",
       "      <td>0.025549</td>\n",
       "      <td>-0.022816</td>\n",
       "      <td>-0.057741</td>\n",
       "      <td>0.004652</td>\n",
       "      <td>-0.010158</td>\n",
       "      <td>-0.017326</td>\n",
       "      <td>-0.066292</td>\n",
       "      <td>0.028806</td>\n",
       "      <td>-0.032494</td>\n",
       "      <td>...</td>\n",
       "      <td>0.026383</td>\n",
       "      <td>-0.009167</td>\n",
       "      <td>-0.034345</td>\n",
       "      <td>-0.000612</td>\n",
       "      <td>0.006954</td>\n",
       "      <td>-0.013784</td>\n",
       "      <td>-0.009497</td>\n",
       "      <td>-0.009366</td>\n",
       "      <td>0.015947</td>\n",
       "      <td>0.032218</td>\n",
       "    </tr>\n",
       "    <tr>\n",
       "      <th>2023-10-17</th>\n",
       "      <td>-0.013105</td>\n",
       "      <td>-0.006180</td>\n",
       "      <td>-0.018324</td>\n",
       "      <td>0.020594</td>\n",
       "      <td>0.014266</td>\n",
       "      <td>-0.020509</td>\n",
       "      <td>0.035760</td>\n",
       "      <td>0.004783</td>\n",
       "      <td>0.050198</td>\n",
       "      <td>0.024740</td>\n",
       "      <td>...</td>\n",
       "      <td>0.000822</td>\n",
       "      <td>-0.014873</td>\n",
       "      <td>-0.003568</td>\n",
       "      <td>-0.031926</td>\n",
       "      <td>0.051768</td>\n",
       "      <td>0.011488</td>\n",
       "      <td>0.023567</td>\n",
       "      <td>-0.010766</td>\n",
       "      <td>-0.035246</td>\n",
       "      <td>-0.027368</td>\n",
       "    </tr>\n",
       "    <tr>\n",
       "      <th>2023-10-18</th>\n",
       "      <td>0.020915</td>\n",
       "      <td>-0.027915</td>\n",
       "      <td>0.011283</td>\n",
       "      <td>-0.015524</td>\n",
       "      <td>-0.002337</td>\n",
       "      <td>-0.032806</td>\n",
       "      <td>0.012465</td>\n",
       "      <td>0.038191</td>\n",
       "      <td>-0.002614</td>\n",
       "      <td>0.050568</td>\n",
       "      <td>...</td>\n",
       "      <td>-0.017586</td>\n",
       "      <td>0.069528</td>\n",
       "      <td>0.037080</td>\n",
       "      <td>0.010422</td>\n",
       "      <td>0.050800</td>\n",
       "      <td>-0.002603</td>\n",
       "      <td>-0.024170</td>\n",
       "      <td>0.046503</td>\n",
       "      <td>0.038832</td>\n",
       "      <td>-0.021468</td>\n",
       "    </tr>\n",
       "    <tr>\n",
       "      <th>2023-10-19</th>\n",
       "      <td>-0.049381</td>\n",
       "      <td>-0.005196</td>\n",
       "      <td>0.012882</td>\n",
       "      <td>0.038658</td>\n",
       "      <td>0.016363</td>\n",
       "      <td>-0.002305</td>\n",
       "      <td>0.012759</td>\n",
       "      <td>0.005714</td>\n",
       "      <td>-0.030069</td>\n",
       "      <td>-0.010845</td>\n",
       "      <td>...</td>\n",
       "      <td>0.013889</td>\n",
       "      <td>-0.020551</td>\n",
       "      <td>-0.004729</td>\n",
       "      <td>0.004085</td>\n",
       "      <td>0.004462</td>\n",
       "      <td>0.000907</td>\n",
       "      <td>-0.048458</td>\n",
       "      <td>-0.028866</td>\n",
       "      <td>0.010988</td>\n",
       "      <td>0.006212</td>\n",
       "    </tr>\n",
       "    <tr>\n",
       "      <th>2023-10-20</th>\n",
       "      <td>-0.005698</td>\n",
       "      <td>-0.009541</td>\n",
       "      <td>-0.034061</td>\n",
       "      <td>0.004802</td>\n",
       "      <td>-0.000193</td>\n",
       "      <td>0.014409</td>\n",
       "      <td>0.010157</td>\n",
       "      <td>0.026699</td>\n",
       "      <td>0.037608</td>\n",
       "      <td>-0.031247</td>\n",
       "      <td>...</td>\n",
       "      <td>0.041180</td>\n",
       "      <td>-0.042421</td>\n",
       "      <td>-0.007147</td>\n",
       "      <td>0.015745</td>\n",
       "      <td>0.039758</td>\n",
       "      <td>0.006719</td>\n",
       "      <td>-0.003693</td>\n",
       "      <td>-0.004637</td>\n",
       "      <td>0.034190</td>\n",
       "      <td>-0.015363</td>\n",
       "    </tr>\n",
       "    <tr>\n",
       "      <th>...</th>\n",
       "      <td>...</td>\n",
       "      <td>...</td>\n",
       "      <td>...</td>\n",
       "      <td>...</td>\n",
       "      <td>...</td>\n",
       "      <td>...</td>\n",
       "      <td>...</td>\n",
       "      <td>...</td>\n",
       "      <td>...</td>\n",
       "      <td>...</td>\n",
       "      <td>...</td>\n",
       "      <td>...</td>\n",
       "      <td>...</td>\n",
       "      <td>...</td>\n",
       "      <td>...</td>\n",
       "      <td>...</td>\n",
       "      <td>...</td>\n",
       "      <td>...</td>\n",
       "      <td>...</td>\n",
       "      <td>...</td>\n",
       "      <td>...</td>\n",
       "    </tr>\n",
       "    <tr>\n",
       "      <th>2024-01-11</th>\n",
       "      <td>-0.023387</td>\n",
       "      <td>-0.007914</td>\n",
       "      <td>-0.004955</td>\n",
       "      <td>-0.009658</td>\n",
       "      <td>-0.016902</td>\n",
       "      <td>0.008858</td>\n",
       "      <td>0.011417</td>\n",
       "      <td>-0.046736</td>\n",
       "      <td>0.028648</td>\n",
       "      <td>0.009061</td>\n",
       "      <td>...</td>\n",
       "      <td>-0.051732</td>\n",
       "      <td>-0.019841</td>\n",
       "      <td>-0.017811</td>\n",
       "      <td>0.051096</td>\n",
       "      <td>-0.017088</td>\n",
       "      <td>-0.035457</td>\n",
       "      <td>-0.012090</td>\n",
       "      <td>0.046972</td>\n",
       "      <td>-0.007197</td>\n",
       "      <td>-0.006146</td>\n",
       "    </tr>\n",
       "    <tr>\n",
       "      <th>2024-01-12</th>\n",
       "      <td>-0.017533</td>\n",
       "      <td>-0.016221</td>\n",
       "      <td>0.022898</td>\n",
       "      <td>0.027943</td>\n",
       "      <td>0.030686</td>\n",
       "      <td>-0.020772</td>\n",
       "      <td>-0.012692</td>\n",
       "      <td>0.003286</td>\n",
       "      <td>0.083516</td>\n",
       "      <td>-0.012051</td>\n",
       "      <td>...</td>\n",
       "      <td>-0.004128</td>\n",
       "      <td>0.024894</td>\n",
       "      <td>0.013571</td>\n",
       "      <td>0.010742</td>\n",
       "      <td>0.020223</td>\n",
       "      <td>0.009388</td>\n",
       "      <td>-0.014206</td>\n",
       "      <td>0.009646</td>\n",
       "      <td>0.004680</td>\n",
       "      <td>0.001162</td>\n",
       "    </tr>\n",
       "    <tr>\n",
       "      <th>2024-01-13</th>\n",
       "      <td>0.044616</td>\n",
       "      <td>0.001109</td>\n",
       "      <td>0.000161</td>\n",
       "      <td>0.013397</td>\n",
       "      <td>-0.014018</td>\n",
       "      <td>0.008427</td>\n",
       "      <td>-0.001510</td>\n",
       "      <td>-0.077047</td>\n",
       "      <td>-0.005103</td>\n",
       "      <td>0.050645</td>\n",
       "      <td>...</td>\n",
       "      <td>0.033399</td>\n",
       "      <td>0.033674</td>\n",
       "      <td>-0.028091</td>\n",
       "      <td>-0.013643</td>\n",
       "      <td>0.039034</td>\n",
       "      <td>0.029001</td>\n",
       "      <td>0.008932</td>\n",
       "      <td>0.002414</td>\n",
       "      <td>0.017305</td>\n",
       "      <td>-0.011500</td>\n",
       "    </tr>\n",
       "    <tr>\n",
       "      <th>2024-01-14</th>\n",
       "      <td>0.046330</td>\n",
       "      <td>-0.006328</td>\n",
       "      <td>-0.002644</td>\n",
       "      <td>-0.001153</td>\n",
       "      <td>-0.002465</td>\n",
       "      <td>0.043176</td>\n",
       "      <td>-0.022728</td>\n",
       "      <td>-0.008635</td>\n",
       "      <td>-0.038443</td>\n",
       "      <td>-0.005039</td>\n",
       "      <td>...</td>\n",
       "      <td>-0.023065</td>\n",
       "      <td>-0.033711</td>\n",
       "      <td>0.011966</td>\n",
       "      <td>-0.008517</td>\n",
       "      <td>-0.005986</td>\n",
       "      <td>0.013873</td>\n",
       "      <td>0.035285</td>\n",
       "      <td>0.026914</td>\n",
       "      <td>-0.025018</td>\n",
       "      <td>-0.020897</td>\n",
       "    </tr>\n",
       "    <tr>\n",
       "      <th>2024-01-15</th>\n",
       "      <td>0.045430</td>\n",
       "      <td>0.025350</td>\n",
       "      <td>-0.030947</td>\n",
       "      <td>0.004722</td>\n",
       "      <td>-0.013133</td>\n",
       "      <td>0.026203</td>\n",
       "      <td>0.024984</td>\n",
       "      <td>-0.008904</td>\n",
       "      <td>-0.011817</td>\n",
       "      <td>-0.001553</td>\n",
       "      <td>...</td>\n",
       "      <td>-0.010726</td>\n",
       "      <td>-0.021100</td>\n",
       "      <td>-0.038059</td>\n",
       "      <td>-0.000969</td>\n",
       "      <td>0.001425</td>\n",
       "      <td>0.015870</td>\n",
       "      <td>0.028851</td>\n",
       "      <td>0.035711</td>\n",
       "      <td>0.036100</td>\n",
       "      <td>-0.029202</td>\n",
       "    </tr>\n",
       "  </tbody>\n",
       "</table>\n",
       "<p>92 rows × 100000 columns</p>\n",
       "</div>"
      ],
      "text/plain": [
       "               0         1         2         3         4         5      \\\n",
       "2023-10-16  0.005187  0.025549 -0.022816 -0.057741  0.004652 -0.010158   \n",
       "2023-10-17 -0.013105 -0.006180 -0.018324  0.020594  0.014266 -0.020509   \n",
       "2023-10-18  0.020915 -0.027915  0.011283 -0.015524 -0.002337 -0.032806   \n",
       "2023-10-19 -0.049381 -0.005196  0.012882  0.038658  0.016363 -0.002305   \n",
       "2023-10-20 -0.005698 -0.009541 -0.034061  0.004802 -0.000193  0.014409   \n",
       "...              ...       ...       ...       ...       ...       ...   \n",
       "2024-01-11 -0.023387 -0.007914 -0.004955 -0.009658 -0.016902  0.008858   \n",
       "2024-01-12 -0.017533 -0.016221  0.022898  0.027943  0.030686 -0.020772   \n",
       "2024-01-13  0.044616  0.001109  0.000161  0.013397 -0.014018  0.008427   \n",
       "2024-01-14  0.046330 -0.006328 -0.002644 -0.001153 -0.002465  0.043176   \n",
       "2024-01-15  0.045430  0.025350 -0.030947  0.004722 -0.013133  0.026203   \n",
       "\n",
       "               6         7         8         9      ...     99990     99991  \\\n",
       "2023-10-16 -0.017326 -0.066292  0.028806 -0.032494  ...  0.026383 -0.009167   \n",
       "2023-10-17  0.035760  0.004783  0.050198  0.024740  ...  0.000822 -0.014873   \n",
       "2023-10-18  0.012465  0.038191 -0.002614  0.050568  ... -0.017586  0.069528   \n",
       "2023-10-19  0.012759  0.005714 -0.030069 -0.010845  ...  0.013889 -0.020551   \n",
       "2023-10-20  0.010157  0.026699  0.037608 -0.031247  ...  0.041180 -0.042421   \n",
       "...              ...       ...       ...       ...  ...       ...       ...   \n",
       "2024-01-11  0.011417 -0.046736  0.028648  0.009061  ... -0.051732 -0.019841   \n",
       "2024-01-12 -0.012692  0.003286  0.083516 -0.012051  ... -0.004128  0.024894   \n",
       "2024-01-13 -0.001510 -0.077047 -0.005103  0.050645  ...  0.033399  0.033674   \n",
       "2024-01-14 -0.022728 -0.008635 -0.038443 -0.005039  ... -0.023065 -0.033711   \n",
       "2024-01-15  0.024984 -0.008904 -0.011817 -0.001553  ... -0.010726 -0.021100   \n",
       "\n",
       "               99992     99993     99994     99995     99996     99997  \\\n",
       "2023-10-16 -0.034345 -0.000612  0.006954 -0.013784 -0.009497 -0.009366   \n",
       "2023-10-17 -0.003568 -0.031926  0.051768  0.011488  0.023567 -0.010766   \n",
       "2023-10-18  0.037080  0.010422  0.050800 -0.002603 -0.024170  0.046503   \n",
       "2023-10-19 -0.004729  0.004085  0.004462  0.000907 -0.048458 -0.028866   \n",
       "2023-10-20 -0.007147  0.015745  0.039758  0.006719 -0.003693 -0.004637   \n",
       "...              ...       ...       ...       ...       ...       ...   \n",
       "2024-01-11 -0.017811  0.051096 -0.017088 -0.035457 -0.012090  0.046972   \n",
       "2024-01-12  0.013571  0.010742  0.020223  0.009388 -0.014206  0.009646   \n",
       "2024-01-13 -0.028091 -0.013643  0.039034  0.029001  0.008932  0.002414   \n",
       "2024-01-14  0.011966 -0.008517 -0.005986  0.013873  0.035285  0.026914   \n",
       "2024-01-15 -0.038059 -0.000969  0.001425  0.015870  0.028851  0.035711   \n",
       "\n",
       "               99998     99999  \n",
       "2023-10-16  0.015947  0.032218  \n",
       "2023-10-17 -0.035246 -0.027368  \n",
       "2023-10-18  0.038832 -0.021468  \n",
       "2023-10-19  0.010988  0.006212  \n",
       "2023-10-20  0.034190 -0.015363  \n",
       "...              ...       ...  \n",
       "2024-01-11 -0.007197 -0.006146  \n",
       "2024-01-12  0.004680  0.001162  \n",
       "2024-01-13  0.017305 -0.011500  \n",
       "2024-01-14 -0.025018 -0.020897  \n",
       "2024-01-15  0.036100 -0.029202  \n",
       "\n",
       "[92 rows x 100000 columns]"
      ]
     },
     "execution_count": 27,
     "metadata": {},
     "output_type": "execute_result"
    }
   ],
   "source": [
    "def sim_R(media,std,fecha_inicio,dias,N):\n",
    "    R_sim =  np.random.normal(media,std,size=(dias,N))\n",
    "    fechas=pd.date_range(start=fecha_inicio,periods=dias)\n",
    "    return pd.DataFrame(index=fechas,data=R_sim)\n",
    "sim_R(0.001830, 0.026263,\"2023-10-16\",92,100000)"
   ]
  },
  {
   "cell_type": "markdown",
   "id": "7a1e5e10",
   "metadata": {},
   "source": [
    "5. Calcule la media y desviación estandar de los rendimientos y simule 100000 escenarios de rendimientos desde el 31 de marzo de 2023 al 31 de julio de 2023."
   ]
  },
  {
   "cell_type": "code",
   "execution_count": 17,
   "id": "ea2ceddf",
   "metadata": {
    "scrolled": true
   },
   "outputs": [
    {
     "data": {
      "text/plain": [
       "NFLX    0.001830\n",
       "WMT     0.000438\n",
       "dtype: float64"
      ]
     },
     "execution_count": 17,
     "metadata": {},
     "output_type": "execute_result"
    }
   ],
   "source": [
    "R.mean()\n"
   ]
  },
  {
   "cell_type": "code",
   "execution_count": 18,
   "id": "14212afa",
   "metadata": {},
   "outputs": [
    {
     "data": {
      "text/plain": [
       "NFLX    0.026263\n",
       "WMT     0.012342\n",
       "dtype: float64"
      ]
     },
     "execution_count": 18,
     "metadata": {},
     "output_type": "execute_result"
    }
   ],
   "source": [
    "R.std()"
   ]
  },
  {
   "cell_type": "code",
   "execution_count": 21,
   "id": "8f933fca",
   "metadata": {},
   "outputs": [
    {
     "ename": "ValueError",
     "evalue": "shape mismatch: objects cannot be broadcast to a single shape.  Mismatch is between arg 0 with shape (50, 10000) and arg 1 with shape (2,).",
     "output_type": "error",
     "traceback": [
      "\u001b[1;31m---------------------------------------------------------------------------\u001b[0m",
      "\u001b[1;31mValueError\u001b[0m                                Traceback (most recent call last)",
      "Cell \u001b[1;32mIn[21], line 1\u001b[0m\n\u001b[1;32m----> 1\u001b[0m sim \u001b[38;5;241m=\u001b[39m sim_R(R\u001b[38;5;241m.\u001b[39mmean(), R\u001b[38;5;241m.\u001b[39mstd(), \u001b[38;5;124m\"\u001b[39m\u001b[38;5;124m2023-10-16\u001b[39m\u001b[38;5;124m\"\u001b[39m, \u001b[38;5;241m50\u001b[39m, \u001b[38;5;241m10000\u001b[39m)\n\u001b[0;32m      2\u001b[0m sim\n",
      "Cell \u001b[1;32mIn[20], line 2\u001b[0m, in \u001b[0;36msim_R\u001b[1;34m(media, std, fecha_inicio, dias, N)\u001b[0m\n\u001b[0;32m      1\u001b[0m \u001b[38;5;28;01mdef\u001b[39;00m \u001b[38;5;21msim_R\u001b[39m(media,std,fecha_inicio,dias,N):\n\u001b[1;32m----> 2\u001b[0m     R_sim \u001b[38;5;241m=\u001b[39m  np\u001b[38;5;241m.\u001b[39mrandom\u001b[38;5;241m.\u001b[39mnormal(media,std,size\u001b[38;5;241m=\u001b[39m(dias,N))\n\u001b[0;32m      3\u001b[0m     fechas\u001b[38;5;241m=\u001b[39mpd\u001b[38;5;241m.\u001b[39mdate_range(start\u001b[38;5;241m=\u001b[39mfecha_inicio,periods\u001b[38;5;241m=\u001b[39mdias)\n\u001b[0;32m      4\u001b[0m     \u001b[38;5;28;01mreturn\u001b[39;00m pd\u001b[38;5;241m.\u001b[39mDataFrame(index\u001b[38;5;241m=\u001b[39mfechas,data\u001b[38;5;241m=\u001b[39mR_sim)\n",
      "File \u001b[1;32mmtrand.pyx:1540\u001b[0m, in \u001b[0;36mnumpy.random.mtrand.RandomState.normal\u001b[1;34m()\u001b[0m\n",
      "File \u001b[1;32m_common.pyx:600\u001b[0m, in \u001b[0;36mnumpy.random._common.cont\u001b[1;34m()\u001b[0m\n",
      "File \u001b[1;32m_common.pyx:517\u001b[0m, in \u001b[0;36mnumpy.random._common.cont_broadcast_2\u001b[1;34m()\u001b[0m\n",
      "File \u001b[1;32m__init__.pxd:741\u001b[0m, in \u001b[0;36mnumpy.PyArray_MultiIterNew3\u001b[1;34m()\u001b[0m\n",
      "\u001b[1;31mValueError\u001b[0m: shape mismatch: objects cannot be broadcast to a single shape.  Mismatch is between arg 0 with shape (50, 10000) and arg 1 with shape (2,)."
     ]
    }
   ],
   "source": [
    "sim = sim_R(R.mean(), R.std(), \"2023-10-16\", 50, 10000)\n",
    "sim"
   ]
  },
  {
   "cell_type": "markdown",
   "id": "48c8d332",
   "metadata": {},
   "source": [
    "6. Use los datos de simulación para obtener los precios proyectados al cierre para ambas empresas en estos meses."
   ]
  },
  {
   "cell_type": "code",
   "execution_count": null,
   "id": "fe906b45",
   "metadata": {},
   "outputs": [],
   "source": []
  },
  {
   "cell_type": "markdown",
   "id": "6b817e88",
   "metadata": {},
   "source": [
    "7. En un gráfico muestre la evolución de ambas probabilidades de obtener un retorno del 10%. ¿Cuál genera mayores expectativas?"
   ]
  },
  {
   "cell_type": "code",
   "execution_count": null,
   "id": "1f21036c",
   "metadata": {},
   "outputs": [],
   "source": []
  }
 ],
 "metadata": {
  "kernelspec": {
   "display_name": "Python 3 (ipykernel)",
   "language": "python",
   "name": "python3"
  },
  "language_info": {
   "codemirror_mode": {
    "name": "ipython",
    "version": 3
   },
   "file_extension": ".py",
   "mimetype": "text/x-python",
   "name": "python",
   "nbconvert_exporter": "python",
   "pygments_lexer": "ipython3",
   "version": "3.11.4"
  }
 },
 "nbformat": 4,
 "nbformat_minor": 5
}
